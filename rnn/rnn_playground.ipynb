{
 "cells": [
  {
   "cell_type": "code",
   "execution_count": 44,
   "metadata": {
    "collapsed": true
   },
   "outputs": [],
   "source": [
    "%matplotlib inline\n",
    "import matplotlib.pyplot as plt\n",
    "import pandas as pd"
   ]
  },
  {
   "cell_type": "markdown",
   "metadata": {},
   "source": [
    "### Ratings file\n",
    "Each line contains a rated video game:\n",
    "\n",
    "- a user\n",
    "- an item\n",
    "- a rating from 1 to 5"
   ]
  },
  {
   "cell_type": "code",
   "execution_count": 45,
   "metadata": {},
   "outputs": [
    {
     "data": {
      "text/html": [
       "<div>\n",
       "<style>\n",
       "    .dataframe thead tr:only-child th {\n",
       "        text-align: right;\n",
       "    }\n",
       "\n",
       "    .dataframe thead th {\n",
       "        text-align: left;\n",
       "    }\n",
       "\n",
       "    .dataframe tbody tr th {\n",
       "        vertical-align: top;\n",
       "    }\n",
       "</style>\n",
       "<table border=\"1\" class=\"dataframe\">\n",
       "  <thead>\n",
       "    <tr style=\"text-align: right;\">\n",
       "      <th></th>\n",
       "      <th>id</th>\n",
       "      <th>rate</th>\n",
       "      <th>appid</th>\n",
       "    </tr>\n",
       "  </thead>\n",
       "  <tbody>\n",
       "    <tr>\n",
       "      <th>0</th>\n",
       "      <td>76561197960265729</td>\n",
       "      <td>1.0</td>\n",
       "      <td>10</td>\n",
       "    </tr>\n",
       "    <tr>\n",
       "      <th>1</th>\n",
       "      <td>76561197960265729</td>\n",
       "      <td>1.0</td>\n",
       "      <td>20</td>\n",
       "    </tr>\n",
       "    <tr>\n",
       "      <th>2</th>\n",
       "      <td>76561197960265729</td>\n",
       "      <td>1.0</td>\n",
       "      <td>30</td>\n",
       "    </tr>\n",
       "    <tr>\n",
       "      <th>3</th>\n",
       "      <td>76561197960265729</td>\n",
       "      <td>1.0</td>\n",
       "      <td>40</td>\n",
       "    </tr>\n",
       "    <tr>\n",
       "      <th>4</th>\n",
       "      <td>76561197960265729</td>\n",
       "      <td>1.0</td>\n",
       "      <td>50</td>\n",
       "    </tr>\n",
       "  </tbody>\n",
       "</table>\n",
       "</div>"
      ],
      "text/plain": [
       "                  id  rate  appid\n",
       "0  76561197960265729   1.0     10\n",
       "1  76561197960265729   1.0     20\n",
       "2  76561197960265729   1.0     30\n",
       "3  76561197960265729   1.0     40\n",
       "4  76561197960265729   1.0     50"
      ]
     },
     "execution_count": 45,
     "metadata": {},
     "output_type": "execute_result"
    }
   ],
   "source": [
    "raw_ratings = pd.read_csv('ratings_latest.csv', sep=',')\n",
    "\n",
    "raw_ratings.head()"
   ]
  },
  {
   "cell_type": "markdown",
   "metadata": {},
   "source": [
    "### Metadata file\n",
    "\n",
    "This file contains information about each game, specifically:\n",
    "- item\n",
    "- name\n",
    "- genres"
   ]
  },
  {
   "cell_type": "code",
   "execution_count": 46,
   "metadata": {},
   "outputs": [
    {
     "data": {
      "text/html": [
       "<div>\n",
       "<style>\n",
       "    .dataframe thead tr:only-child th {\n",
       "        text-align: right;\n",
       "    }\n",
       "\n",
       "    .dataframe thead th {\n",
       "        text-align: left;\n",
       "    }\n",
       "\n",
       "    .dataframe tbody tr th {\n",
       "        vertical-align: top;\n",
       "    }\n",
       "</style>\n",
       "<table border=\"1\" class=\"dataframe\">\n",
       "  <thead>\n",
       "    <tr style=\"text-align: right;\">\n",
       "      <th></th>\n",
       "      <th>appid</th>\n",
       "      <th>appname</th>\n",
       "      <th>genres</th>\n",
       "    </tr>\n",
       "  </thead>\n",
       "  <tbody>\n",
       "    <tr>\n",
       "      <th>0</th>\n",
       "      <td>10</td>\n",
       "      <td>Counter-Strike</td>\n",
       "      <td>1/</td>\n",
       "    </tr>\n",
       "    <tr>\n",
       "      <th>1</th>\n",
       "      <td>20</td>\n",
       "      <td>Team Fortress Classic</td>\n",
       "      <td>1/</td>\n",
       "    </tr>\n",
       "    <tr>\n",
       "      <th>2</th>\n",
       "      <td>30</td>\n",
       "      <td>Day of Defeat</td>\n",
       "      <td>1/</td>\n",
       "    </tr>\n",
       "    <tr>\n",
       "      <th>3</th>\n",
       "      <td>40</td>\n",
       "      <td>Deathmatch Classic</td>\n",
       "      <td>1/</td>\n",
       "    </tr>\n",
       "    <tr>\n",
       "      <th>4</th>\n",
       "      <td>50</td>\n",
       "      <td>Half-Life: Opposing Force</td>\n",
       "      <td>1/</td>\n",
       "    </tr>\n",
       "  </tbody>\n",
       "</table>\n",
       "</div>"
      ],
      "text/plain": [
       "   appid                    appname genres\n",
       "0     10             Counter-Strike     1/\n",
       "1     20      Team Fortress Classic     1/\n",
       "2     30              Day of Defeat     1/\n",
       "3     40         Deathmatch Classic     1/\n",
       "4     50  Half-Life: Opposing Force     1/"
      ]
     },
     "execution_count": 46,
     "metadata": {},
     "output_type": "execute_result"
    }
   ],
   "source": [
    "items = pd.read_csv('metadata.csv', sep=',')\n",
    "\n",
    "items.head()"
   ]
  },
  {
   "cell_type": "code",
   "execution_count": 47,
   "metadata": {},
   "outputs": [
    {
     "data": {
      "text/html": [
       "<div>\n",
       "<style>\n",
       "    .dataframe thead tr:only-child th {\n",
       "        text-align: right;\n",
       "    }\n",
       "\n",
       "    .dataframe thead th {\n",
       "        text-align: left;\n",
       "    }\n",
       "\n",
       "    .dataframe tbody tr th {\n",
       "        vertical-align: top;\n",
       "    }\n",
       "</style>\n",
       "<table border=\"1\" class=\"dataframe\">\n",
       "  <thead>\n",
       "    <tr style=\"text-align: right;\">\n",
       "      <th></th>\n",
       "      <th>appid</th>\n",
       "      <th>appname</th>\n",
       "      <th>genres</th>\n",
       "      <th>id</th>\n",
       "      <th>rate</th>\n",
       "    </tr>\n",
       "  </thead>\n",
       "  <tbody>\n",
       "    <tr>\n",
       "      <th>0</th>\n",
       "      <td>10</td>\n",
       "      <td>Counter-Strike</td>\n",
       "      <td>1/</td>\n",
       "      <td>76561197960265729</td>\n",
       "      <td>1.00</td>\n",
       "    </tr>\n",
       "    <tr>\n",
       "      <th>1</th>\n",
       "      <td>10</td>\n",
       "      <td>Counter-Strike</td>\n",
       "      <td>1/</td>\n",
       "      <td>76561197960265730</td>\n",
       "      <td>2.05</td>\n",
       "    </tr>\n",
       "    <tr>\n",
       "      <th>2</th>\n",
       "      <td>10</td>\n",
       "      <td>Counter-Strike</td>\n",
       "      <td>1/</td>\n",
       "      <td>76561197960265731</td>\n",
       "      <td>1.00</td>\n",
       "    </tr>\n",
       "    <tr>\n",
       "      <th>3</th>\n",
       "      <td>10</td>\n",
       "      <td>Counter-Strike</td>\n",
       "      <td>1/</td>\n",
       "      <td>76561197960265733</td>\n",
       "      <td>1.40</td>\n",
       "    </tr>\n",
       "    <tr>\n",
       "      <th>4</th>\n",
       "      <td>10</td>\n",
       "      <td>Counter-Strike</td>\n",
       "      <td>1/</td>\n",
       "      <td>76561197960265734</td>\n",
       "      <td>1.00</td>\n",
       "    </tr>\n",
       "  </tbody>\n",
       "</table>\n",
       "</div>"
      ],
      "text/plain": [
       "   appid         appname genres                 id  rate\n",
       "0     10  Counter-Strike     1/  76561197960265729  1.00\n",
       "1     10  Counter-Strike     1/  76561197960265730  2.05\n",
       "2     10  Counter-Strike     1/  76561197960265731  1.00\n",
       "3     10  Counter-Strike     1/  76561197960265733  1.40\n",
       "4     10  Counter-Strike     1/  76561197960265734  1.00"
      ]
     },
     "execution_count": 47,
     "metadata": {},
     "output_type": "execute_result"
    }
   ],
   "source": [
    "all_ratings = pd.merge(items, raw_ratings)\n",
    "\n",
    "all_ratings.head()"
   ]
  },
  {
   "cell_type": "markdown",
   "metadata": {},
   "source": [
    "### Data pre-analysis\n",
    "Survey the data and analyze its distribution and statistics. The following are computed:\n",
    "\n",
    "- number of users\n",
    "- number of items\n",
    "- rating distribution"
   ]
  },
  {
   "cell_type": "code",
   "execution_count": 48,
   "metadata": {},
   "outputs": [
    {
     "data": {
      "text/plain": [
       "count    2.573393e+07\n",
       "mean     1.275410e+00\n",
       "std      7.960212e-01\n",
       "min      1.000000e+00\n",
       "25%      1.000000e+00\n",
       "50%      1.000000e+00\n",
       "75%      1.100000e+00\n",
       "max      5.950000e+00\n",
       "Name: rate, dtype: float64"
      ]
     },
     "execution_count": 48,
     "metadata": {},
     "output_type": "execute_result"
    }
   ],
   "source": [
    "all_ratings['rate'].describe()"
   ]
  },
  {
   "cell_type": "markdown",
   "metadata": {},
   "source": [
    "#### Maximum Stats"
   ]
  },
  {
   "cell_type": "code",
   "execution_count": 49,
   "metadata": {},
   "outputs": [
    {
     "name": "stdout",
     "output_type": "stream",
     "text": [
      "76561197973009892\n",
      "10440\n"
     ]
    }
   ],
   "source": [
    "print(all_ratings['id'].value_counts().index.tolist()[0])\n",
    "print(all_ratings['id'].value_counts().tolist()[0])"
   ]
  },
  {
   "cell_type": "markdown",
   "metadata": {},
   "source": [
    "User 76561197973009892 contains the most games in our dataset, with more than 10440 ratings."
   ]
  },
  {
   "cell_type": "code",
   "execution_count": 50,
   "metadata": {},
   "outputs": [
    {
     "name": "stdout",
     "output_type": "stream",
     "text": [
      "340\n",
      "364650\n"
     ]
    }
   ],
   "source": [
    "print(all_ratings['appid'].value_counts().index.tolist()[0])\n",
    "print(all_ratings['appid'].value_counts().tolist()[0])"
   ]
  },
  {
   "cell_type": "markdown",
   "metadata": {},
   "source": [
    "Game 15 has the most ownerships, with 364.650 owners, or about 53.89% of our user dataset."
   ]
  },
  {
   "cell_type": "markdown",
   "metadata": {},
   "source": [
    "#### User Game Statistics"
   ]
  },
  {
   "cell_type": "code",
   "execution_count": 51,
   "metadata": {},
   "outputs": [
    {
     "data": {
      "text/plain": [
       "count    676668.000000\n",
       "mean         38.030361\n",
       "std         123.929002\n",
       "min           1.000000\n",
       "25%           4.000000\n",
       "50%           8.000000\n",
       "75%          22.000000\n",
       "max       10440.000000\n",
       "Name: nb_lines, dtype: float64"
      ]
     },
     "execution_count": 51,
     "metadata": {},
     "output_type": "execute_result"
    }
   ],
   "source": [
    "users_nb = all_ratings['id'].value_counts().reset_index()\n",
    "users_nb.columns= ['id','nb_lines']\n",
    "users_nb['nb_lines'].describe()"
   ]
  },
  {
   "cell_type": "code",
   "execution_count": 52,
   "metadata": {},
   "outputs": [
    {
     "data": {
      "text/plain": [
       "<matplotlib.axes._subplots.AxesSubplot at 0x133712d30>"
      ]
     },
     "execution_count": 52,
     "metadata": {},
     "output_type": "execute_result"
    },
    {
     "data": {
      "image/png": "[encoded data removed]",
      "text/plain": [
       "<matplotlib.figure.Figure at 0x133712438>"
      ]
     },
     "metadata": {},
     "output_type": "display_data"
    }
   ],
   "source": [
    "import seaborn\n",
    "users_nb['nb_lines'].hist()"
   ]
  },
  {
   "cell_type": "markdown",
   "metadata": {},
   "source": [
    "Half the user dataset owns not more than 8 games."
   ]
  },
  {
   "cell_type": "markdown",
   "metadata": {},
   "source": [
    "#### Game ownership stats"
   ]
  },
  {
   "cell_type": "code",
   "execution_count": 53,
   "metadata": {},
   "outputs": [
    {
     "data": {
      "text/plain": [
       "count     18865.000000\n",
       "mean       1364.109621\n",
       "std        8333.452088\n",
       "min           1.000000\n",
       "25%          13.000000\n",
       "50%          86.000000\n",
       "75%         510.000000\n",
       "max      364650.000000\n",
       "Name: nb_lines, dtype: float64"
      ]
     },
     "execution_count": 53,
     "metadata": {},
     "output_type": "execute_result"
    }
   ],
   "source": [
    "games_nb = all_ratings['appid'].value_counts().reset_index()\n",
    "games_nb.columns= ['appid','nb_lines']\n",
    "games_nb['nb_lines'].describe()"
   ]
  },
  {
   "cell_type": "code",
   "execution_count": 54,
   "metadata": {},
   "outputs": [
    {
     "data": {
      "text/plain": [
       "<matplotlib.axes._subplots.AxesSubplot at 0x1330a5e10>"
      ]
     },
     "execution_count": 54,
     "metadata": {},
     "output_type": "execute_result"
    },
    {
     "data": {
      "image/png": "[encoded data removed]",
      "text/plain": [
       "<matplotlib.figure.Figure at 0x133705908>"
      ]
     },
     "metadata": {},
     "output_type": "display_data"
    }
   ],
   "source": [
    "games_nb['nb_lines'].hist()"
   ]
  },
  {
   "cell_type": "markdown",
   "metadata": {},
   "source": [
    "Half of the game dataset has no more than 86 ownerships"
   ]
  },
  {
   "cell_type": "markdown",
   "metadata": {},
   "source": [
    "### Data pre-processing"
   ]
  },
  {
   "cell_type": "code",
   "execution_count": 55,
   "metadata": {},
   "outputs": [
    {
     "name": "stdout",
     "output_type": "stream",
     "text": [
      "A total of:  676668 unique users\n",
      "A total of:  18865 unique games\n"
     ]
    }
   ],
   "source": [
    "users = all_ratings.id.unique()\n",
    "user_map = {i:val for i,val in enumerate(users)}\n",
    "inverse_user_map = {val:i for i,val in enumerate(users)}\n",
    "\n",
    "\n",
    "games = all_ratings.appid.unique()\n",
    "game_map = {i:val for i,val in enumerate(games)}\n",
    "inverse_game_map = {val:i for i,val in enumerate(games)}\n",
    "\n",
    "all_ratings[\"id\"] = all_ratings[\"id\"].map(inverse_user_map)\n",
    "\n",
    "all_ratings[\"old_id\"] = all_ratings[\"appid\"] # copying for join with metadata\n",
    "all_ratings[\"appid\"] = all_ratings[\"appid\"].map(inverse_game_map)\n",
    "\n",
    "print (\"A total of: \", users.shape[0], \"unique users\")\n",
    "print (\"A total of: \", games.shape[0], \"unique games\")"
   ]
  },
  {
   "cell_type": "code",
   "execution_count": 56,
   "metadata": {},
   "outputs": [
    {
     "data": {
      "text/html": [
       "<div>\n",
       "<style>\n",
       "    .dataframe thead tr:only-child th {\n",
       "        text-align: right;\n",
       "    }\n",
       "\n",
       "    .dataframe thead th {\n",
       "        text-align: left;\n",
       "    }\n",
       "\n",
       "    .dataframe tbody tr th {\n",
       "        vertical-align: top;\n",
       "    }\n",
       "</style>\n",
       "<table border=\"1\" class=\"dataframe\">\n",
       "  <thead>\n",
       "    <tr style=\"text-align: right;\">\n",
       "      <th></th>\n",
       "      <th>appid</th>\n",
       "      <th>appname</th>\n",
       "      <th>genres</th>\n",
       "      <th>id</th>\n",
       "      <th>rate</th>\n",
       "      <th>old_id</th>\n",
       "    </tr>\n",
       "  </thead>\n",
       "  <tbody>\n",
       "    <tr>\n",
       "      <th>543073</th>\n",
       "      <td>2</td>\n",
       "      <td>Day of Defeat</td>\n",
       "      <td>1/</td>\n",
       "      <td>100887</td>\n",
       "      <td>5.95</td>\n",
       "      <td>30</td>\n",
       "    </tr>\n",
       "    <tr>\n",
       "      <th>2433028</th>\n",
       "      <td>11</td>\n",
       "      <td>Counter-Strike: Source</td>\n",
       "      <td>1/</td>\n",
       "      <td>364830</td>\n",
       "      <td>5.95</td>\n",
       "      <td>240</td>\n",
       "    </tr>\n",
       "    <tr>\n",
       "      <th>13934442</th>\n",
       "      <td>1625</td>\n",
       "      <td>Football Manager 2013™</td>\n",
       "      <td>28/18/</td>\n",
       "      <td>560547</td>\n",
       "      <td>5.95</td>\n",
       "      <td>207890</td>\n",
       "    </tr>\n",
       "    <tr>\n",
       "      <th>25295968</th>\n",
       "      <td>13817</td>\n",
       "      <td>PLAYERUNKNOWN'S BATTLEGROUNDS</td>\n",
       "      <td>73/1/25/29/</td>\n",
       "      <td>475864</td>\n",
       "      <td>5.95</td>\n",
       "      <td>578080</td>\n",
       "    </tr>\n",
       "    <tr>\n",
       "      <th>6266506</th>\n",
       "      <td>283</td>\n",
       "      <td>BioShock Infinite</td>\n",
       "      <td>1/</td>\n",
       "      <td>428206</td>\n",
       "      <td>5.95</td>\n",
       "      <td>8870</td>\n",
       "    </tr>\n",
       "    <tr>\n",
       "      <th>23728290</th>\n",
       "      <td>8791</td>\n",
       "      <td>Raw Data</td>\n",
       "      <td>1/23/2/</td>\n",
       "      <td>280654</td>\n",
       "      <td>5.95</td>\n",
       "      <td>436320</td>\n",
       "    </tr>\n",
       "    <tr>\n",
       "      <th>6827805</th>\n",
       "      <td>333</td>\n",
       "      <td>Call of Duty®: Modern Warfare® 2</td>\n",
       "      <td>1/</td>\n",
       "      <td>446221</td>\n",
       "      <td>5.95</td>\n",
       "      <td>10190</td>\n",
       "    </tr>\n",
       "    <tr>\n",
       "      <th>24754130</th>\n",
       "      <td>11471</td>\n",
       "      <td>Panzer Warfare</td>\n",
       "      <td>1/4/23/29/28/2/70/</td>\n",
       "      <td>358534</td>\n",
       "      <td>5.95</td>\n",
       "      <td>513880</td>\n",
       "    </tr>\n",
       "    <tr>\n",
       "      <th>9434766</th>\n",
       "      <td>811</td>\n",
       "      <td>Arma 2: Operation Arrowhead</td>\n",
       "      <td>1/28/2/</td>\n",
       "      <td>404183</td>\n",
       "      <td>5.95</td>\n",
       "      <td>33930</td>\n",
       "    </tr>\n",
       "    <tr>\n",
       "      <th>18807596</th>\n",
       "      <td>2846</td>\n",
       "      <td>XCOM® 2</td>\n",
       "      <td>2/</td>\n",
       "      <td>45380</td>\n",
       "      <td>5.95</td>\n",
       "      <td>268500</td>\n",
       "    </tr>\n",
       "  </tbody>\n",
       "</table>\n",
       "</div>"
      ],
      "text/plain": [
       "          appid                           appname              genres      id  \\\n",
       "543073        2                     Day of Defeat                  1/  100887   \n",
       "2433028      11            Counter-Strike: Source                  1/  364830   \n",
       "13934442   1625            Football Manager 2013™              28/18/  560547   \n",
       "25295968  13817     PLAYERUNKNOWN'S BATTLEGROUNDS         73/1/25/29/  475864   \n",
       "6266506     283                 BioShock Infinite                  1/  428206   \n",
       "23728290   8791                          Raw Data             1/23/2/  280654   \n",
       "6827805     333  Call of Duty®: Modern Warfare® 2                  1/  446221   \n",
       "24754130  11471                    Panzer Warfare  1/4/23/29/28/2/70/  358534   \n",
       "9434766     811       Arma 2: Operation Arrowhead             1/28/2/  404183   \n",
       "18807596   2846                           XCOM® 2                  2/   45380   \n",
       "\n",
       "          rate  old_id  \n",
       "543073    5.95      30  \n",
       "2433028   5.95     240  \n",
       "13934442  5.95  207890  \n",
       "25295968  5.95  578080  \n",
       "6266506   5.95    8870  \n",
       "23728290  5.95  436320  \n",
       "6827805   5.95   10190  \n",
       "24754130  5.95  513880  \n",
       "9434766   5.95   33930  \n",
       "18807596  5.95  268500  "
      ]
     },
     "execution_count": 56,
     "metadata": {},
     "output_type": "execute_result"
    }
   ],
   "source": [
    "all_ratings.sort_values('rate', ascending=False).head(10)"
   ]
  },
  {
   "cell_type": "code",
   "execution_count": 57,
   "metadata": {
    "collapsed": true
   },
   "outputs": [],
   "source": [
    "from sklearn.model_selection import train_test_split\n",
    "\n",
    "ratings_train, ratings_test = train_test_split(\n",
    "    all_ratings, test_size=0.2, random_state=0)"
   ]
  },
  {
   "cell_type": "code",
   "execution_count": 58,
   "metadata": {
    "collapsed": true
   },
   "outputs": [],
   "source": [
    "import tensorflow as tf\n",
    "from keras.backend.tensorflow_backend import set_session\n",
    "config = tf.ConfigProto()\n",
    "config.gpu_options.per_process_gpu_memory_fraction \n",
    "config.gpu_options.visible_device_list = \"0\" # \"0,1\"\n",
    "set_session(tf.Session(config=config))"
   ]
  },
  {
   "cell_type": "code",
   "execution_count": 59,
   "metadata": {
    "collapsed": true
   },
   "outputs": [],
   "source": [
    "from keras.models import Model\n",
    "from keras.layers import Input\n",
    "from keras.layers.core import Reshape\n",
    "from keras.layers.merge import Multiply\n",
    "from keras.layers.merge import Dot\n",
    "from keras.layers.embeddings import Embedding\n",
    "from keras import optimizers"
   ]
  },
  {
   "cell_type": "code",
   "execution_count": 60,
   "metadata": {
    "collapsed": true
   },
   "outputs": [],
   "source": [
    "user_id_input = Input(shape=[1], name='user')\n",
    "item_id_input = Input(shape=[1], name='item')\n",
    "\n",
    "embedding_size = 30\n",
    "user_embedding = Embedding(output_dim=embedding_size, input_dim=users.shape[0],\n",
    "                           input_length=1, name='user_embedding')(user_id_input)\n",
    "item_embedding = Embedding(output_dim=embedding_size, input_dim=games.shape[0],\n",
    "                           input_length=1, name='item_embedding')(item_id_input)\n",
    "\n",
    "user_vecs = Reshape([embedding_size])(user_embedding)\n",
    "item_vecs = Reshape([embedding_size])(item_embedding)\n",
    "\n",
    "y = Dot(1, normalize=False)([user_vecs, item_vecs])\n",
    "\n",
    "model = Model(inputs=[user_id_input, item_id_input], outputs=y)\n",
    "\n",
    "model.compile(loss='mse',\n",
    "              optimizer=\"adam\"\n",
    "             )"
   ]
  },
  {
   "cell_type": "code",
   "execution_count": 61,
   "metadata": {},
   "outputs": [
    {
     "data": {
      "image/svg+xml": [
       "<svg height=\"264pt\" viewBox=\"0.00 0.00 307.50 264.00\" width=\"308pt\" xmlns=\"http://www.w3.org/2000/svg\" xmlns:xlink=\"http://www.w3.org/1999/xlink\">\n",
       "<g class=\"graph\" id=\"graph0\" transform=\"scale(1 1) rotate(0) translate(4 260)\">\n",
       "<title>G</title>\n",
       "<polygon fill=\"#ffffff\" points=\"-4,4 -4,-260 303.5,-260 303.5,4 -4,4\" stroke=\"transparent\"/>\n",
       "<!-- 5146551296 -->\n",
       "<g class=\"node\" id=\"node1\">\n",
       "<title>5146551296</title>\n",
       "<polygon fill=\"none\" points=\"27,-219.5 27,-255.5 113,-255.5 113,-219.5 27,-219.5\" stroke=\"#000000\"/>\n",
       "<text fill=\"#000000\" font-family=\"Times,serif\" font-size=\"14.00\" text-anchor=\"middle\" x=\"70\" y=\"-233.8\">user: InputLayer</text>\n",
       "</g>\n",
       "<!-- 5146551464 -->\n",
       "<g class=\"node\" id=\"node3\">\n",
       "<title>5146551464</title>\n",
       "<polygon fill=\"none\" points=\"0,-146.5 0,-182.5 140,-182.5 140,-146.5 0,-146.5\" stroke=\"#000000\"/>\n",
       "<text fill=\"#000000\" font-family=\"Times,serif\" font-size=\"14.00\" text-anchor=\"middle\" x=\"70\" y=\"-160.8\">user_embedding: Embedding</text>\n",
       "</g>\n",
       "<!-- 5146551296&#45;&gt;5146551464 -->\n",
       "<g class=\"edge\" id=\"edge1\">\n",
       "<title>5146551296-&gt;5146551464</title>\n",
       "<path d=\"M70,-219.4551C70,-211.3828 70,-201.6764 70,-192.6817\" fill=\"none\" stroke=\"#000000\"/>\n",
       "<polygon fill=\"#000000\" points=\"73.5001,-192.5903 70,-182.5904 66.5001,-192.5904 73.5001,-192.5903\" stroke=\"#000000\"/>\n",
       "</g>\n",
       "<!-- 5146551744 -->\n",
       "<g class=\"node\" id=\"node2\">\n",
       "<title>5146551744</title>\n",
       "<polygon fill=\"none\" points=\"185.5,-219.5 185.5,-255.5 272.5,-255.5 272.5,-219.5 185.5,-219.5\" stroke=\"#000000\"/>\n",
       "<text fill=\"#000000\" font-family=\"Times,serif\" font-size=\"14.00\" text-anchor=\"middle\" x=\"229\" y=\"-233.8\">item: InputLayer</text>\n",
       "</g>\n",
       "<!-- 5146551576 -->\n",
       "<g class=\"node\" id=\"node4\">\n",
       "<title>5146551576</title>\n",
       "<polygon fill=\"none\" points=\"158.5,-146.5 158.5,-182.5 299.5,-182.5 299.5,-146.5 158.5,-146.5\" stroke=\"#000000\"/>\n",
       "<text fill=\"#000000\" font-family=\"Times,serif\" font-size=\"14.00\" text-anchor=\"middle\" x=\"229\" y=\"-160.8\">item_embedding: Embedding</text>\n",
       "</g>\n",
       "<!-- 5146551744&#45;&gt;5146551576 -->\n",
       "<g class=\"edge\" id=\"edge2\">\n",
       "<title>5146551744-&gt;5146551576</title>\n",
       "<path d=\"M229,-219.4551C229,-211.3828 229,-201.6764 229,-192.6817\" fill=\"none\" stroke=\"#000000\"/>\n",
       "<polygon fill=\"#000000\" points=\"232.5001,-192.5903 229,-182.5904 225.5001,-192.5904 232.5001,-192.5903\" stroke=\"#000000\"/>\n",
       "</g>\n",
       "<!-- 5146553256 -->\n",
       "<g class=\"node\" id=\"node5\">\n",
       "<title>5146553256</title>\n",
       "<polygon fill=\"none\" points=\"40,-73.5 40,-109.5 140,-109.5 140,-73.5 40,-73.5\" stroke=\"#000000\"/>\n",
       "<text fill=\"#000000\" font-family=\"Times,serif\" font-size=\"14.00\" text-anchor=\"middle\" x=\"90\" y=\"-87.8\">reshape_5: Reshape</text>\n",
       "</g>\n",
       "<!-- 5146551464&#45;&gt;5146553256 -->\n",
       "<g class=\"edge\" id=\"edge3\">\n",
       "<title>5146551464-&gt;5146553256</title>\n",
       "<path d=\"M74.9438,-146.4551C77.1794,-138.2951 79.8726,-128.4652 82.3593,-119.3887\" fill=\"none\" stroke=\"#000000\"/>\n",
       "<polygon fill=\"#000000\" points=\"85.7769,-120.1598 85.0437,-109.5904 79.0257,-118.3101 85.7769,-120.1598\" stroke=\"#000000\"/>\n",
       "</g>\n",
       "<!-- 5146550344 -->\n",
       "<g class=\"node\" id=\"node6\">\n",
       "<title>5146550344</title>\n",
       "<polygon fill=\"none\" points=\"168,-73.5 168,-109.5 268,-109.5 268,-73.5 168,-73.5\" stroke=\"#000000\"/>\n",
       "<text fill=\"#000000\" font-family=\"Times,serif\" font-size=\"14.00\" text-anchor=\"middle\" x=\"218\" y=\"-87.8\">reshape_6: Reshape</text>\n",
       "</g>\n",
       "<!-- 5146551576&#45;&gt;5146550344 -->\n",
       "<g class=\"edge\" id=\"edge4\">\n",
       "<title>5146551576-&gt;5146550344</title>\n",
       "<path d=\"M226.2809,-146.4551C225.0645,-138.3828 223.6019,-128.6764 222.2466,-119.6817\" fill=\"none\" stroke=\"#000000\"/>\n",
       "<polygon fill=\"#000000\" points=\"225.677,-118.9572 220.7259,-109.5904 218.7551,-120.0003 225.677,-118.9572\" stroke=\"#000000\"/>\n",
       "</g>\n",
       "<!-- 5146554320 -->\n",
       "<g class=\"node\" id=\"node7\">\n",
       "<title>5146554320</title>\n",
       "<polygon fill=\"none\" points=\"118,-.5 118,-36.5 180,-36.5 180,-.5 118,-.5\" stroke=\"#000000\"/>\n",
       "<text fill=\"#000000\" font-family=\"Times,serif\" font-size=\"14.00\" text-anchor=\"middle\" x=\"149\" y=\"-14.8\">dot_3: Dot</text>\n",
       "</g>\n",
       "<!-- 5146553256&#45;&gt;5146554320 -->\n",
       "<g class=\"edge\" id=\"edge5\">\n",
       "<title>5146553256-&gt;5146554320</title>\n",
       "<path d=\"M104.5843,-73.4551C111.6048,-64.7686 120.1548,-54.1898 127.8715,-44.642\" fill=\"none\" stroke=\"#000000\"/>\n",
       "<polygon fill=\"#000000\" points=\"130.8152,-46.5678 134.379,-36.5904 125.371,-42.1677 130.8152,-46.5678\" stroke=\"#000000\"/>\n",
       "</g>\n",
       "<!-- 5146550344&#45;&gt;5146554320 -->\n",
       "<g class=\"edge\" id=\"edge6\">\n",
       "<title>5146550344-&gt;5146554320</title>\n",
       "<path d=\"M200.9438,-73.4551C192.5675,-64.5932 182.3295,-53.7616 173.1638,-44.0646\" fill=\"none\" stroke=\"#000000\"/>\n",
       "<polygon fill=\"#000000\" points=\"175.5119,-41.4535 166.0991,-36.5904 170.4247,-46.262 175.5119,-41.4535\" stroke=\"#000000\"/>\n",
       "</g>\n",
       "</g>\n",
       "</svg>"
      ],
      "text/plain": [
       "<IPython.core.display.SVG object>"
      ]
     },
     "execution_count": 61,
     "metadata": {},
     "output_type": "execute_result"
    }
   ],
   "source": [
    "from IPython.display import SVG\n",
    "from keras.utils.vis_utils import model_to_dot\n",
    "from keras.utils import plot_model\n",
    "import pydot\n",
    "SVG(model_to_dot(model).create(prog='dot', format='svg'))"
   ]
  },
  {
   "cell_type": "code",
   "execution_count": 62,
   "metadata": {
    "collapsed": true
   },
   "outputs": [],
   "source": [
    "import time\n",
    "from keras.callbacks import ModelCheckpoint\n",
    "mainpath = '/Desktop/vidyarecsys/preprocessing/game_mf'\n",
    "save_path = mainpath + \"/models\"\n",
    "mytime = time.strftime(\"%Y_%m_%d_%H_%M\")\n",
    "modname = 'matrix_facto_50_' + mytime \n",
    "thename = save_path + '/' + modname + '.h5'\n",
    "mcheck = ModelCheckpoint(thename  , monitor='val_loss', save_best_only=True)"
   ]
  },
  {
   "cell_type": "code",
   "execution_count": 63,
   "metadata": {
    "collapsed": true
   },
   "outputs": [],
   "source": [
    "\n",
    "# %%time\n",
    "\n",
    "# # Training the model\n",
    "# history = model.fit([user_id_train, item_id_train], rating_train,\n",
    "#                     batch_size=64, nb_epoch=6, validation_split=0.1,\n",
    "#                     shuffle=True, verbose=2)"
   ]
  },
  {
   "cell_type": "code",
   "execution_count": 65,
   "metadata": {},
   "outputs": [
    {
     "name": "stdout",
     "output_type": "stream",
     "text": [
      "Train on 18528427 samples, validate on 2058715 samples\n",
      "Epoch 1/6\n",
      " - 65518s - loss: 0.7307 - val_loss: 0.5778\n",
      "Epoch 2/6\n",
      " - 65278s - loss: 0.5110 - val_loss: 0.5582\n",
      "Epoch 3/6\n",
      " - 65466s - loss: 0.4332 - val_loss: 0.5627\n",
      "Epoch 4/6\n",
      " - 63900s - loss: 0.3670 - val_loss: 0.5732\n",
      "Epoch 5/6\n",
      " - 65565s - loss: 0.3196 - val_loss: 0.5786\n",
      "Epoch 6/6\n",
      " - 63882s - loss: 0.2867 - val_loss: 0.5798\n",
      "CPU times: user 12d 8h 50min 1s, sys: 2d 14h 43min 23s, total: 14d 23h 33min 25s\n",
      "Wall time: 4d 12h 13min 30s\n"
     ]
    }
   ],
   "source": [
    "%%time\n",
    "\n",
    "history = model.fit([ratings_train[\"id\"], ratings_train[\"appid\"]]\n",
    "                    , ratings_train[\"rate\"]\n",
    "                    , batch_size=64, epochs=6\n",
    "                    , validation_split=0.1\n",
    "                    , verbose = 2\n",
    "                    , shuffle=True)"
   ]
  },
  {
   "cell_type": "code",
   "execution_count": 66,
   "metadata": {
    "collapsed": true
   },
   "outputs": [],
   "source": [
    "import pickle\n",
    "\n",
    "with open('matrixfactorization.pkl' , 'wb') as file_pi:\n",
    "    pickle.dump(history.history, file_pi)"
   ]
  },
  {
   "cell_type": "code",
   "execution_count": 68,
   "metadata": {},
   "outputs": [
    {
     "data": {
      "text/html": [
       "<div>\n",
       "<style>\n",
       "    .dataframe thead tr:only-child th {\n",
       "        text-align: right;\n",
       "    }\n",
       "\n",
       "    .dataframe thead th {\n",
       "        text-align: left;\n",
       "    }\n",
       "\n",
       "    .dataframe tbody tr th {\n",
       "        vertical-align: top;\n",
       "    }\n",
       "</style>\n",
       "<table border=\"1\" class=\"dataframe\">\n",
       "  <thead>\n",
       "    <tr style=\"text-align: right;\">\n",
       "      <th></th>\n",
       "      <th>0</th>\n",
       "      <th>1</th>\n",
       "      <th>2</th>\n",
       "      <th>3</th>\n",
       "      <th>4</th>\n",
       "      <th>5</th>\n",
       "    </tr>\n",
       "  </thead>\n",
       "  <tbody>\n",
       "    <tr>\n",
       "      <th>loss</th>\n",
       "      <td>0.730734</td>\n",
       "      <td>0.511032</td>\n",
       "      <td>0.433186</td>\n",
       "      <td>0.366968</td>\n",
       "      <td>0.319570</td>\n",
       "      <td>0.286745</td>\n",
       "    </tr>\n",
       "    <tr>\n",
       "      <th>val_loss</th>\n",
       "      <td>0.577849</td>\n",
       "      <td>0.558213</td>\n",
       "      <td>0.562738</td>\n",
       "      <td>0.573166</td>\n",
       "      <td>0.578577</td>\n",
       "      <td>0.579778</td>\n",
       "    </tr>\n",
       "  </tbody>\n",
       "</table>\n",
       "</div>"
      ],
      "text/plain": [
       "                 0         1         2         3         4         5\n",
       "loss      0.730734  0.511032  0.433186  0.366968  0.319570  0.286745\n",
       "val_loss  0.577849  0.558213  0.562738  0.573166  0.578577  0.579778"
      ]
     },
     "execution_count": 68,
     "metadata": {},
     "output_type": "execute_result"
    },
    {
     "data": {
      "image/png": "[encoded data removed]",
      "text/plain": [
       "<matplotlib.figure.Figure at 0x11d10de80>"
      ]
     },
     "metadata": {},
     "output_type": "display_data"
    }
   ],
   "source": [
    "\n",
    "histories = ['matrixfactorization.pkl']\n",
    "\n",
    "import pickle\n",
    "for val in histories:\n",
    "    with open(val , 'rb') as file_pi:\n",
    "        thepickle = pickle.load(file_pi)\n",
    "        plt.plot(thepickle[\"loss\"],label ='loss_' + val,linestyle='--')\n",
    "        plt.plot(thepickle[\"val_loss\"],label='val_loss' + val)\n",
    "plt.legend()\n",
    "plt.ylim(0, 1)\n",
    "\n",
    "pd.DataFrame(thepickle,columns =['loss','val_loss']).head(20).transpose()"
   ]
  },
  {
   "cell_type": "code",
   "execution_count": 2,
   "metadata": {},
   "outputs": [
    {
     "name": "stderr",
     "output_type": "stream",
     "text": [
      "Using TensorFlow backend.\n"
     ]
    }
   ],
   "source": [
    "from keras.models import Model\n",
    "from keras.layers import Input\n",
    "from keras.layers.core import Reshape, Dropout, Dense\n",
    "from keras.layers.merge import Multiply, Dot\n",
    "from keras.layers.embeddings import Embedding\n",
    "from keras.layers.merge import Concatenate\n",
    "from keras import optimizers"
   ]
  },
  {
   "cell_type": "code",
   "execution_count": 3,
   "metadata": {},
   "outputs": [
    {
     "ename": "NameError",
     "evalue": "name 'users' is not defined",
     "output_type": "error",
     "traceback": [
      "\u001b[0;31m---------------------------------------------------------------------------\u001b[0m",
      "\u001b[0;31mNameError\u001b[0m                                 Traceback (most recent call last)",
      "\u001b[0;32m<ipython-input-3-d2340e3e7c36>\u001b[0m in \u001b[0;36m<module>\u001b[0;34m()\u001b[0m\n\u001b[1;32m      3\u001b[0m \u001b[0;34m\u001b[0m\u001b[0m\n\u001b[1;32m      4\u001b[0m \u001b[0membedding_size\u001b[0m \u001b[0;34m=\u001b[0m \u001b[0;36m10\u001b[0m \u001b[0;31m# 5\u001b[0m\u001b[0;34m\u001b[0m\u001b[0m\n\u001b[0;32m----> 5\u001b[0;31m user_embedding = Embedding(output_dim=embedding_size, input_dim=users.shape[0],\n\u001b[0m\u001b[1;32m      6\u001b[0m                            input_length=1, name='user_embedding')(user_id_input)\n\u001b[1;32m      7\u001b[0m item_embedding = Embedding(output_dim=embedding_size, input_dim=games.shape[0],\n",
      "\u001b[0;31mNameError\u001b[0m: name 'users' is not defined"
     ]
    }
   ],
   "source": [
    "user_id_input = Input(shape=[1], name='user')\n",
    "item_id_input = Input(shape=[1], name='item')\n",
    "\n",
    "embedding_size = 10 # 5\n",
    "user_embedding = Embedding(output_dim=embedding_size, input_dim=users.shape[0],\n",
    "                           input_length=1, name='user_embedding')(user_id_input)\n",
    "item_embedding = Embedding(output_dim=embedding_size, input_dim=games.shape[0],\n",
    "                           input_length=1, name='item_embedding')(item_id_input)\n",
    "\n",
    "user_vecs = Reshape([embedding_size])(user_embedding)\n",
    "item_vecs = Reshape([embedding_size])(item_embedding)\n",
    "\n",
    "input_vecs = Concatenate()([user_vecs, item_vecs])\n",
    "\n",
    "x = Dense(128, activation='relu')(input_vecs)\n",
    "# x = Dense(128, activation='relu')(x)\n",
    "\n",
    "y = Dense(1)(x)\n",
    "\n",
    "\n",
    "model = Model(inputs=[user_id_input, item_id_input], outputs=y)\n",
    "model.compile(optimizer='adam', loss='mse')"
   ]
  },
  {
   "cell_type": "code",
   "execution_count": 73,
   "metadata": {},
   "outputs": [
    {
     "data": {
      "image/svg+xml": [
       "<svg height=\"410pt\" viewBox=\"0.00 0.00 307.50 410.00\" width=\"308pt\" xmlns=\"http://www.w3.org/2000/svg\" xmlns:xlink=\"http://www.w3.org/1999/xlink\">\n",
       "<g class=\"graph\" id=\"graph0\" transform=\"scale(1 1) rotate(0) translate(4 406)\">\n",
       "<title>G</title>\n",
       "<polygon fill=\"#ffffff\" points=\"-4,4 -4,-406 303.5,-406 303.5,4 -4,4\" stroke=\"transparent\"/>\n",
       "<!-- 6543787960 -->\n",
       "<g class=\"node\" id=\"node1\">\n",
       "<title>6543787960</title>\n",
       "<polygon fill=\"none\" points=\"27,-365.5 27,-401.5 113,-401.5 113,-365.5 27,-365.5\" stroke=\"#000000\"/>\n",
       "<text fill=\"#000000\" font-family=\"Times,serif\" font-size=\"14.00\" text-anchor=\"middle\" x=\"70\" y=\"-379.8\">user: InputLayer</text>\n",
       "</g>\n",
       "<!-- 6543788352 -->\n",
       "<g class=\"node\" id=\"node3\">\n",
       "<title>6543788352</title>\n",
       "<polygon fill=\"none\" points=\"0,-292.5 0,-328.5 140,-328.5 140,-292.5 0,-292.5\" stroke=\"#000000\"/>\n",
       "<text fill=\"#000000\" font-family=\"Times,serif\" font-size=\"14.00\" text-anchor=\"middle\" x=\"70\" y=\"-306.8\">user_embedding: Embedding</text>\n",
       "</g>\n",
       "<!-- 6543787960&#45;&gt;6543788352 -->\n",
       "<g class=\"edge\" id=\"edge1\">\n",
       "<title>6543787960-&gt;6543788352</title>\n",
       "<path d=\"M70,-365.4551C70,-357.3828 70,-347.6764 70,-338.6817\" fill=\"none\" stroke=\"#000000\"/>\n",
       "<polygon fill=\"#000000\" points=\"73.5001,-338.5903 70,-328.5904 66.5001,-338.5904 73.5001,-338.5903\" stroke=\"#000000\"/>\n",
       "</g>\n",
       "<!-- 6543788072 -->\n",
       "<g class=\"node\" id=\"node2\">\n",
       "<title>6543788072</title>\n",
       "<polygon fill=\"none\" points=\"185.5,-365.5 185.5,-401.5 272.5,-401.5 272.5,-365.5 185.5,-365.5\" stroke=\"#000000\"/>\n",
       "<text fill=\"#000000\" font-family=\"Times,serif\" font-size=\"14.00\" text-anchor=\"middle\" x=\"229\" y=\"-379.8\">item: InputLayer</text>\n",
       "</g>\n",
       "<!-- 6543788800 -->\n",
       "<g class=\"node\" id=\"node4\">\n",
       "<title>6543788800</title>\n",
       "<polygon fill=\"none\" points=\"158.5,-292.5 158.5,-328.5 299.5,-328.5 299.5,-292.5 158.5,-292.5\" stroke=\"#000000\"/>\n",
       "<text fill=\"#000000\" font-family=\"Times,serif\" font-size=\"14.00\" text-anchor=\"middle\" x=\"229\" y=\"-306.8\">item_embedding: Embedding</text>\n",
       "</g>\n",
       "<!-- 6543788072&#45;&gt;6543788800 -->\n",
       "<g class=\"edge\" id=\"edge2\">\n",
       "<title>6543788072-&gt;6543788800</title>\n",
       "<path d=\"M229,-365.4551C229,-357.3828 229,-347.6764 229,-338.6817\" fill=\"none\" stroke=\"#000000\"/>\n",
       "<polygon fill=\"#000000\" points=\"232.5001,-338.5903 229,-328.5904 225.5001,-338.5904 232.5001,-338.5903\" stroke=\"#000000\"/>\n",
       "</g>\n",
       "<!-- 6543789304 -->\n",
       "<g class=\"node\" id=\"node5\">\n",
       "<title>6543789304</title>\n",
       "<polygon fill=\"none\" points=\"39,-219.5 39,-255.5 139,-255.5 139,-219.5 39,-219.5\" stroke=\"#000000\"/>\n",
       "<text fill=\"#000000\" font-family=\"Times,serif\" font-size=\"14.00\" text-anchor=\"middle\" x=\"89\" y=\"-233.8\">reshape_9: Reshape</text>\n",
       "</g>\n",
       "<!-- 6543788352&#45;&gt;6543789304 -->\n",
       "<g class=\"edge\" id=\"edge3\">\n",
       "<title>6543788352-&gt;6543789304</title>\n",
       "<path d=\"M74.6966,-292.4551C76.8205,-284.2951 79.3789,-274.4652 81.7413,-265.3887\" fill=\"none\" stroke=\"#000000\"/>\n",
       "<polygon fill=\"#000000\" points=\"85.1598,-266.1496 84.2916,-255.5904 78.3855,-264.3863 85.1598,-266.1496\" stroke=\"#000000\"/>\n",
       "</g>\n",
       "<!-- 6543788408 -->\n",
       "<g class=\"node\" id=\"node6\">\n",
       "<title>6543788408</title>\n",
       "<polygon fill=\"none\" points=\"166.5,-219.5 166.5,-255.5 271.5,-255.5 271.5,-219.5 166.5,-219.5\" stroke=\"#000000\"/>\n",
       "<text fill=\"#000000\" font-family=\"Times,serif\" font-size=\"14.00\" text-anchor=\"middle\" x=\"219\" y=\"-233.8\">reshape_10: Reshape</text>\n",
       "</g>\n",
       "<!-- 6543788800&#45;&gt;6543788408 -->\n",
       "<g class=\"edge\" id=\"edge4\">\n",
       "<title>6543788800-&gt;6543788408</title>\n",
       "<path d=\"M226.5281,-292.4551C225.4223,-284.3828 224.0927,-274.6764 222.8605,-265.6817\" fill=\"none\" stroke=\"#000000\"/>\n",
       "<polygon fill=\"#000000\" points=\"226.303,-265.0228 221.4781,-255.5904 219.3678,-265.9729 226.303,-265.0228\" stroke=\"#000000\"/>\n",
       "</g>\n",
       "<!-- 6543789528 -->\n",
       "<g class=\"node\" id=\"node7\">\n",
       "<title>6543789528</title>\n",
       "<polygon fill=\"none\" points=\"82,-146.5 82,-182.5 216,-182.5 216,-146.5 82,-146.5\" stroke=\"#000000\"/>\n",
       "<text fill=\"#000000\" font-family=\"Times,serif\" font-size=\"14.00\" text-anchor=\"middle\" x=\"149\" y=\"-160.8\">concatenate_2: Concatenate</text>\n",
       "</g>\n",
       "<!-- 6543789304&#45;&gt;6543789528 -->\n",
       "<g class=\"edge\" id=\"edge5\">\n",
       "<title>6543789304-&gt;6543789528</title>\n",
       "<path d=\"M103.8315,-219.4551C111.0431,-210.6809 119.8417,-199.9759 127.751,-190.353\" fill=\"none\" stroke=\"#000000\"/>\n",
       "<polygon fill=\"#000000\" points=\"130.4854,-192.5382 134.1312,-182.5904 125.0776,-188.0934 130.4854,-192.5382\" stroke=\"#000000\"/>\n",
       "</g>\n",
       "<!-- 6543788408&#45;&gt;6543789528 -->\n",
       "<g class=\"edge\" id=\"edge6\">\n",
       "<title>6543788408-&gt;6543789528</title>\n",
       "<path d=\"M201.6966,-219.4551C193.1989,-210.5932 182.8125,-199.7616 173.514,-190.0646\" fill=\"none\" stroke=\"#000000\"/>\n",
       "<polygon fill=\"#000000\" points=\"175.7944,-187.3858 166.3469,-182.5904 170.7419,-192.2306 175.7944,-187.3858\" stroke=\"#000000\"/>\n",
       "</g>\n",
       "<!-- 6543788296 -->\n",
       "<g class=\"node\" id=\"node8\">\n",
       "<title>6543788296</title>\n",
       "<polygon fill=\"none\" points=\"107.5,-73.5 107.5,-109.5 190.5,-109.5 190.5,-73.5 107.5,-73.5\" stroke=\"#000000\"/>\n",
       "<text fill=\"#000000\" font-family=\"Times,serif\" font-size=\"14.00\" text-anchor=\"middle\" x=\"149\" y=\"-87.8\">dense_3: Dense</text>\n",
       "</g>\n",
       "<!-- 6543789528&#45;&gt;6543788296 -->\n",
       "<g class=\"edge\" id=\"edge7\">\n",
       "<title>6543789528-&gt;6543788296</title>\n",
       "<path d=\"M149,-146.4551C149,-138.3828 149,-128.6764 149,-119.6817\" fill=\"none\" stroke=\"#000000\"/>\n",
       "<polygon fill=\"#000000\" points=\"152.5001,-119.5903 149,-109.5904 145.5001,-119.5904 152.5001,-119.5903\" stroke=\"#000000\"/>\n",
       "</g>\n",
       "<!-- 5840663720 -->\n",
       "<g class=\"node\" id=\"node9\">\n",
       "<title>5840663720</title>\n",
       "<polygon fill=\"none\" points=\"107.5,-.5 107.5,-36.5 190.5,-36.5 190.5,-.5 107.5,-.5\" stroke=\"#000000\"/>\n",
       "<text fill=\"#000000\" font-family=\"Times,serif\" font-size=\"14.00\" text-anchor=\"middle\" x=\"149\" y=\"-14.8\">dense_4: Dense</text>\n",
       "</g>\n",
       "<!-- 6543788296&#45;&gt;5840663720 -->\n",
       "<g class=\"edge\" id=\"edge8\">\n",
       "<title>6543788296-&gt;5840663720</title>\n",
       "<path d=\"M149,-73.4551C149,-65.3828 149,-55.6764 149,-46.6817\" fill=\"none\" stroke=\"#000000\"/>\n",
       "<polygon fill=\"#000000\" points=\"152.5001,-46.5903 149,-36.5904 145.5001,-46.5904 152.5001,-46.5903\" stroke=\"#000000\"/>\n",
       "</g>\n",
       "</g>\n",
       "</svg>"
      ],
      "text/plain": [
       "<IPython.core.display.SVG object>"
      ]
     },
     "execution_count": 73,
     "metadata": {},
     "output_type": "execute_result"
    }
   ],
   "source": [
    "SVG(model_to_dot(model).create(prog='dot', format='svg'))"
   ]
  },
  {
   "cell_type": "code",
   "execution_count": 75,
   "metadata": {
    "scrolled": true
   },
   "outputs": [
    {
     "name": "stdout",
     "output_type": "stream",
     "text": [
      "__________________________________________________________________________________________________\n",
      "Layer (type)                    Output Shape         Param #     Connected to                     \n",
      "==================================================================================================\n",
      "user (InputLayer)               (None, 1)            0                                            \n",
      "__________________________________________________________________________________________________\n",
      "item (InputLayer)               (None, 1)            0                                            \n",
      "__________________________________________________________________________________________________\n",
      "user_embedding (Embedding)      (None, 1, 10)        6766680     user[0][0]                       \n",
      "__________________________________________________________________________________________________\n",
      "item_embedding (Embedding)      (None, 1, 10)        188650      item[0][0]                       \n",
      "__________________________________________________________________________________________________\n",
      "reshape_9 (Reshape)             (None, 10)           0           user_embedding[0][0]             \n",
      "__________________________________________________________________________________________________\n",
      "reshape_10 (Reshape)            (None, 10)           0           item_embedding[0][0]             \n",
      "__________________________________________________________________________________________________\n",
      "concatenate_2 (Concatenate)     (None, 20)           0           reshape_9[0][0]                  \n",
      "                                                                 reshape_10[0][0]                 \n",
      "__________________________________________________________________________________________________\n",
      "dense_3 (Dense)                 (None, 128)          2688        concatenate_2[0][0]              \n",
      "__________________________________________________________________________________________________\n",
      "dense_4 (Dense)                 (None, 1)            129         dense_3[0][0]                    \n",
      "==================================================================================================\n",
      "Total params: 6,958,147\n",
      "Trainable params: 6,958,147\n",
      "Non-trainable params: 0\n",
      "__________________________________________________________________________________________________\n"
     ]
    }
   ],
   "source": [
    "model.summary()"
   ]
  },
  {
   "cell_type": "code",
   "execution_count": 77,
   "metadata": {
    "collapsed": true
   },
   "outputs": [],
   "source": [
    "initial_train_preds_nn = model.predict([ratings_train[\"id\"], ratings_train[\"appid\"]])"
   ]
  },
  {
   "cell_type": "code",
   "execution_count": 1,
   "metadata": {},
   "outputs": [
    {
     "ename": "NameError",
     "evalue": "name 'model' is not defined",
     "output_type": "error",
     "traceback": [
      "\u001b[0;31m---------------------------------------------------------------------------\u001b[0m",
      "\u001b[0;31mNameError\u001b[0m                                 Traceback (most recent call last)",
      "\u001b[0;32m<timed exec>\u001b[0m in \u001b[0;36m<module>\u001b[0;34m()\u001b[0m\n",
      "\u001b[0;31mNameError\u001b[0m: name 'model' is not defined"
     ]
    }
   ],
   "source": [
    "%%time\n",
    "\n",
    "history = model.fit([ratings_train[\"id\"], ratings_train[\"appid\"]]\n",
    "                    , ratings_train[\"rate\"]\n",
    "                    , batch_size=64, epochs=20\n",
    "                    , validation_split=0.1\n",
    "                    , verbose = 2\n",
    "                    , shuffle=True)\n"
   ]
  }
 ],
 "metadata": {
  "kernelspec": {
   "display_name": "Python 3",
   "language": "python",
   "name": "python3"
  },
  "language_info": {
   "codemirror_mode": {
    "name": "ipython",
    "version": 3
   },
   "file_extension": ".py",
   "mimetype": "text/x-python",
   "name": "python",
   "nbconvert_exporter": "python",
   "pygments_lexer": "ipython3",
   "version": "3.6.3"
  }
 },
 "nbformat": 4,
 "nbformat_minor": 2
}
