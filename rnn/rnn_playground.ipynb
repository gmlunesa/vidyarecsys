{
 "cells": [
  {
   "cell_type": "code",
   "execution_count": 11,
   "metadata": {
    "collapsed": true
   },
   "outputs": [],
   "source": [
    "%matplotlib inline\n",
    "import matplotlib.pyplot as plt\n",
    "import pandas as pd"
   ]
  },
  {
   "cell_type": "markdown",
   "metadata": {},
   "source": [
    "### Ratings file\n",
    "Each line contains a rated video game:\n",
    "\n",
    "- a user\n",
    "- an item\n",
    "- a rating from 1 to 5"
   ]
  },
  {
   "cell_type": "code",
   "execution_count": 12,
   "metadata": {},
   "outputs": [
    {
     "data": {
      "text/html": [
       "<div>\n",
       "<style>\n",
       "    .dataframe thead tr:only-child th {\n",
       "        text-align: right;\n",
       "    }\n",
       "\n",
       "    .dataframe thead th {\n",
       "        text-align: left;\n",
       "    }\n",
       "\n",
       "    .dataframe tbody tr th {\n",
       "        vertical-align: top;\n",
       "    }\n",
       "</style>\n",
       "<table border=\"1\" class=\"dataframe\">\n",
       "  <thead>\n",
       "    <tr style=\"text-align: right;\">\n",
       "      <th></th>\n",
       "      <th>id</th>\n",
       "      <th>rate</th>\n",
       "      <th>appid</th>\n",
       "    </tr>\n",
       "  </thead>\n",
       "  <tbody>\n",
       "    <tr>\n",
       "      <th>0</th>\n",
       "      <td>76561197960265729</td>\n",
       "      <td>1.0</td>\n",
       "      <td>10</td>\n",
       "    </tr>\n",
       "    <tr>\n",
       "      <th>1</th>\n",
       "      <td>76561197960265729</td>\n",
       "      <td>1.0</td>\n",
       "      <td>20</td>\n",
       "    </tr>\n",
       "    <tr>\n",
       "      <th>2</th>\n",
       "      <td>76561197960265729</td>\n",
       "      <td>1.0</td>\n",
       "      <td>30</td>\n",
       "    </tr>\n",
       "    <tr>\n",
       "      <th>3</th>\n",
       "      <td>76561197960265729</td>\n",
       "      <td>1.0</td>\n",
       "      <td>40</td>\n",
       "    </tr>\n",
       "    <tr>\n",
       "      <th>4</th>\n",
       "      <td>76561197960265729</td>\n",
       "      <td>1.0</td>\n",
       "      <td>50</td>\n",
       "    </tr>\n",
       "  </tbody>\n",
       "</table>\n",
       "</div>"
      ],
      "text/plain": [
       "                  id  rate  appid\n",
       "0  76561197960265729   1.0     10\n",
       "1  76561197960265729   1.0     20\n",
       "2  76561197960265729   1.0     30\n",
       "3  76561197960265729   1.0     40\n",
       "4  76561197960265729   1.0     50"
      ]
     },
     "execution_count": 12,
     "metadata": {},
     "output_type": "execute_result"
    }
   ],
   "source": [
    "raw_ratings = pd.read_csv('ratings.csv', sep=',')\n",
    "\n",
    "raw_ratings.head()"
   ]
  },
  {
   "cell_type": "markdown",
   "metadata": {},
   "source": [
    "### Metadata file\n",
    "\n",
    "This file contains information about each game, specifically:\n",
    "- item\n",
    "- name\n",
    "- genres"
   ]
  },
  {
   "cell_type": "code",
   "execution_count": 13,
   "metadata": {},
   "outputs": [
    {
     "data": {
      "text/html": [
       "<div>\n",
       "<style>\n",
       "    .dataframe thead tr:only-child th {\n",
       "        text-align: right;\n",
       "    }\n",
       "\n",
       "    .dataframe thead th {\n",
       "        text-align: left;\n",
       "    }\n",
       "\n",
       "    .dataframe tbody tr th {\n",
       "        vertical-align: top;\n",
       "    }\n",
       "</style>\n",
       "<table border=\"1\" class=\"dataframe\">\n",
       "  <thead>\n",
       "    <tr style=\"text-align: right;\">\n",
       "      <th></th>\n",
       "      <th>appid</th>\n",
       "      <th>appname</th>\n",
       "      <th>genres</th>\n",
       "    </tr>\n",
       "  </thead>\n",
       "  <tbody>\n",
       "    <tr>\n",
       "      <th>0</th>\n",
       "      <td>10</td>\n",
       "      <td>Counter-Strike</td>\n",
       "      <td>1/</td>\n",
       "    </tr>\n",
       "    <tr>\n",
       "      <th>1</th>\n",
       "      <td>20</td>\n",
       "      <td>Team Fortress Classic</td>\n",
       "      <td>1/</td>\n",
       "    </tr>\n",
       "    <tr>\n",
       "      <th>2</th>\n",
       "      <td>30</td>\n",
       "      <td>Day of Defeat</td>\n",
       "      <td>1/</td>\n",
       "    </tr>\n",
       "    <tr>\n",
       "      <th>3</th>\n",
       "      <td>40</td>\n",
       "      <td>Deathmatch Classic</td>\n",
       "      <td>1/</td>\n",
       "    </tr>\n",
       "    <tr>\n",
       "      <th>4</th>\n",
       "      <td>50</td>\n",
       "      <td>Half-Life: Opposing Force</td>\n",
       "      <td>1/</td>\n",
       "    </tr>\n",
       "  </tbody>\n",
       "</table>\n",
       "</div>"
      ],
      "text/plain": [
       "   appid                    appname genres\n",
       "0     10             Counter-Strike     1/\n",
       "1     20      Team Fortress Classic     1/\n",
       "2     30              Day of Defeat     1/\n",
       "3     40         Deathmatch Classic     1/\n",
       "4     50  Half-Life: Opposing Force     1/"
      ]
     },
     "execution_count": 13,
     "metadata": {},
     "output_type": "execute_result"
    }
   ],
   "source": [
    "items = pd.read_csv('metadata.csv', sep=',')\n",
    "\n",
    "items.head()"
   ]
  },
  {
   "cell_type": "code",
   "execution_count": 14,
   "metadata": {},
   "outputs": [
    {
     "data": {
      "text/html": [
       "<div>\n",
       "<style>\n",
       "    .dataframe thead tr:only-child th {\n",
       "        text-align: right;\n",
       "    }\n",
       "\n",
       "    .dataframe thead th {\n",
       "        text-align: left;\n",
       "    }\n",
       "\n",
       "    .dataframe tbody tr th {\n",
       "        vertical-align: top;\n",
       "    }\n",
       "</style>\n",
       "<table border=\"1\" class=\"dataframe\">\n",
       "  <thead>\n",
       "    <tr style=\"text-align: right;\">\n",
       "      <th></th>\n",
       "      <th>appid</th>\n",
       "      <th>appname</th>\n",
       "      <th>genres</th>\n",
       "      <th>id</th>\n",
       "      <th>rate</th>\n",
       "    </tr>\n",
       "  </thead>\n",
       "  <tbody>\n",
       "    <tr>\n",
       "      <th>0</th>\n",
       "      <td>10</td>\n",
       "      <td>Counter-Strike</td>\n",
       "      <td>1/</td>\n",
       "      <td>76561197960265729</td>\n",
       "      <td>1.00</td>\n",
       "    </tr>\n",
       "    <tr>\n",
       "      <th>1</th>\n",
       "      <td>10</td>\n",
       "      <td>Counter-Strike</td>\n",
       "      <td>1/</td>\n",
       "      <td>76561197960265730</td>\n",
       "      <td>2.05</td>\n",
       "    </tr>\n",
       "    <tr>\n",
       "      <th>2</th>\n",
       "      <td>10</td>\n",
       "      <td>Counter-Strike</td>\n",
       "      <td>1/</td>\n",
       "      <td>76561197960265731</td>\n",
       "      <td>1.00</td>\n",
       "    </tr>\n",
       "    <tr>\n",
       "      <th>3</th>\n",
       "      <td>10</td>\n",
       "      <td>Counter-Strike</td>\n",
       "      <td>1/</td>\n",
       "      <td>76561197960265733</td>\n",
       "      <td>1.40</td>\n",
       "    </tr>\n",
       "    <tr>\n",
       "      <th>4</th>\n",
       "      <td>10</td>\n",
       "      <td>Counter-Strike</td>\n",
       "      <td>1/</td>\n",
       "      <td>76561197960265734</td>\n",
       "      <td>1.00</td>\n",
       "    </tr>\n",
       "  </tbody>\n",
       "</table>\n",
       "</div>"
      ],
      "text/plain": [
       "   appid         appname genres                 id  rate\n",
       "0     10  Counter-Strike     1/  76561197960265729  1.00\n",
       "1     10  Counter-Strike     1/  76561197960265730  2.05\n",
       "2     10  Counter-Strike     1/  76561197960265731  1.00\n",
       "3     10  Counter-Strike     1/  76561197960265733  1.40\n",
       "4     10  Counter-Strike     1/  76561197960265734  1.00"
      ]
     },
     "execution_count": 14,
     "metadata": {},
     "output_type": "execute_result"
    }
   ],
   "source": [
    "all_ratings = pd.merge(items, raw_ratings)\n",
    "\n",
    "all_ratings.head()"
   ]
  },
  {
   "cell_type": "markdown",
   "metadata": {},
   "source": [
    "### Data pre-analysis\n",
    "Survey the data and analyze its distribution and statistics. The following are computed:\n",
    "\n",
    "- number of users\n",
    "- number of items\n",
    "- rating distribution"
   ]
  },
  {
   "cell_type": "code",
   "execution_count": 15,
   "metadata": {},
   "outputs": [
    {
     "data": {
      "text/plain": [
       "count    2.573393e+07\n",
       "mean     1.275410e+00\n",
       "std      7.960212e-01\n",
       "min      1.000000e+00\n",
       "25%      1.000000e+00\n",
       "50%      1.000000e+00\n",
       "75%      1.100000e+00\n",
       "max      5.950000e+00\n",
       "Name: rate, dtype: float64"
      ]
     },
     "execution_count": 15,
     "metadata": {},
     "output_type": "execute_result"
    }
   ],
   "source": [
    "all_ratings['rate'].describe()"
   ]
  },
  {
   "cell_type": "markdown",
   "metadata": {},
   "source": [
    "#### Maximum Stats"
   ]
  },
  {
   "cell_type": "code",
   "execution_count": 23,
   "metadata": {},
   "outputs": [
    {
     "name": "stdout",
     "output_type": "stream",
     "text": [
      "177297\n",
      "10440\n"
     ]
    }
   ],
   "source": [
    "print(all_ratings['id'].value_counts().index.tolist()[0])\n",
    "print(all_ratings['id'].value_counts().tolist()[0])"
   ]
  },
  {
   "cell_type": "markdown",
   "metadata": {},
   "source": [
    "User 76561197973009892 contains the most games in our dataset, with more than 10440 ratings."
   ]
  },
  {
   "cell_type": "code",
   "execution_count": 24,
   "metadata": {},
   "outputs": [
    {
     "name": "stdout",
     "output_type": "stream",
     "text": [
      "15\n",
      "364650\n"
     ]
    }
   ],
   "source": [
    "print(all_ratings['appid'].value_counts().index.tolist()[0])\n",
    "print(all_ratings['appid'].value_counts().tolist()[0])"
   ]
  },
  {
   "cell_type": "markdown",
   "metadata": {},
   "source": [
    "Game 15 has the most ownerships, with 364.650 owners, or about 53.89% of our user dataset."
   ]
  },
  {
   "cell_type": "markdown",
   "metadata": {},
   "source": [
    "#### User Game Statistics"
   ]
  },
  {
   "cell_type": "code",
   "execution_count": 18,
   "metadata": {},
   "outputs": [
    {
     "data": {
      "text/plain": [
       "count    676668.000000\n",
       "mean         38.030361\n",
       "std         123.929002\n",
       "min           1.000000\n",
       "25%           4.000000\n",
       "50%           8.000000\n",
       "75%          22.000000\n",
       "max       10440.000000\n",
       "Name: nb_lines, dtype: float64"
      ]
     },
     "execution_count": 18,
     "metadata": {},
     "output_type": "execute_result"
    }
   ],
   "source": [
    "users_nb = all_ratings['id'].value_counts().reset_index()\n",
    "users_nb.columns= ['id','nb_lines']\n",
    "users_nb['nb_lines'].describe()"
   ]
  },
  {
   "cell_type": "code",
   "execution_count": 19,
   "metadata": {},
   "outputs": [
    {
     "data": {
      "text/plain": [
       "<matplotlib.axes._subplots.AxesSubplot at 0x1eabf3d06a0>"
      ]
     },
     "execution_count": 19,
     "metadata": {},
     "output_type": "execute_result"
    },
    {
     "data": {
      "image/png": "[encoded data removed]",
      "text/plain": [
       "<matplotlib.figure.Figure at 0x1ea80d00ac8>"
      ]
     },
     "metadata": {},
     "output_type": "display_data"
    }
   ],
   "source": [
    "import seaborn\n",
    "users_nb['nb_lines'].hist()"
   ]
  },
  {
   "cell_type": "markdown",
   "metadata": {},
   "source": [
    "Half the user dataset owns not more than 8 games."
   ]
  },
  {
   "cell_type": "markdown",
   "metadata": {},
   "source": [
    "#### Game ownership stats"
   ]
  },
  {
   "cell_type": "code",
   "execution_count": 27,
   "metadata": {},
   "outputs": [
    {
     "data": {
      "text/plain": [
       "count     18865.000000\n",
       "mean       1364.109621\n",
       "std        8333.452088\n",
       "min           1.000000\n",
       "25%          13.000000\n",
       "50%          86.000000\n",
       "75%         510.000000\n",
       "max      364650.000000\n",
       "Name: nb_lines, dtype: float64"
      ]
     },
     "execution_count": 27,
     "metadata": {},
     "output_type": "execute_result"
    }
   ],
   "source": [
    "games_nb = all_ratings['appid'].value_counts().reset_index()\n",
    "games_nb.columns= ['appid','nb_lines']\n",
    "games_nb['nb_lines'].describe()"
   ]
  },
  {
   "cell_type": "code",
   "execution_count": 28,
   "metadata": {},
   "outputs": [
    {
     "data": {
      "text/plain": [
       "<matplotlib.axes._subplots.AxesSubplot at 0x1ea8f30d908>"
      ]
     },
     "execution_count": 28,
     "metadata": {},
     "output_type": "execute_result"
    },
    {
     "data": {
      "image/png": "[encoded data removed]",
      "text/plain": [
       "<matplotlib.figure.Figure at 0x1ea80d00d68>"
      ]
     },
     "metadata": {},
     "output_type": "display_data"
    }
   ],
   "source": [
    "games_nb['nb_lines'].hist()"
   ]
  },
  {
   "cell_type": "markdown",
   "metadata": {},
   "source": [
    "Half of the game dataset has no more than 86 ownerships"
   ]
  },
  {
   "cell_type": "markdown",
   "metadata": {},
   "source": [
    "### Data pre-processing"
   ]
  },
  {
   "cell_type": "code",
   "execution_count": 20,
   "metadata": {},
   "outputs": [
    {
     "name": "stdout",
     "output_type": "stream",
     "text": [
      "A total of:  676668 unique users\n",
      "A total of:  18865 unique games\n"
     ]
    }
   ],
   "source": [
    "users = all_ratings.id.unique()\n",
    "user_map = {i:val for i,val in enumerate(users)}\n",
    "inverse_user_map = {val:i for i,val in enumerate(users)}\n",
    "\n",
    "\n",
    "games = all_ratings.appid.unique()\n",
    "game_map = {i:val for i,val in enumerate(games)}\n",
    "inverse_game_map = {val:i for i,val in enumerate(games)}\n",
    "\n",
    "all_ratings[\"id\"] = all_ratings[\"id\"].map(inverse_user_map)\n",
    "\n",
    "all_ratings[\"old_id\"] = all_ratings[\"appid\"] # copying for join with metadata\n",
    "all_ratings[\"appid\"] = all_ratings[\"appid\"].map(inverse_game_map)\n",
    "\n",
    "print (\"A total of: \", users.shape[0], \"unique users\")\n",
    "print (\"A total of: \", games.shape[0], \"unique games\")"
   ]
  },
  {
   "cell_type": "code",
   "execution_count": 21,
   "metadata": {},
   "outputs": [
    {
     "data": {
      "text/html": [
       "<div>\n",
       "<style>\n",
       "    .dataframe thead tr:only-child th {\n",
       "        text-align: right;\n",
       "    }\n",
       "\n",
       "    .dataframe thead th {\n",
       "        text-align: left;\n",
       "    }\n",
       "\n",
       "    .dataframe tbody tr th {\n",
       "        vertical-align: top;\n",
       "    }\n",
       "</style>\n",
       "<table border=\"1\" class=\"dataframe\">\n",
       "  <thead>\n",
       "    <tr style=\"text-align: right;\">\n",
       "      <th></th>\n",
       "      <th>appid</th>\n",
       "      <th>appname</th>\n",
       "      <th>genres</th>\n",
       "      <th>id</th>\n",
       "      <th>rate</th>\n",
       "      <th>old_id</th>\n",
       "    </tr>\n",
       "  </thead>\n",
       "  <tbody>\n",
       "    <tr>\n",
       "      <th>543073</th>\n",
       "      <td>2</td>\n",
       "      <td>Day of Defeat</td>\n",
       "      <td>1/</td>\n",
       "      <td>100887</td>\n",
       "      <td>5.95</td>\n",
       "      <td>30</td>\n",
       "    </tr>\n",
       "    <tr>\n",
       "      <th>2433028</th>\n",
       "      <td>11</td>\n",
       "      <td>Counter-Strike: Source</td>\n",
       "      <td>1/</td>\n",
       "      <td>364830</td>\n",
       "      <td>5.95</td>\n",
       "      <td>240</td>\n",
       "    </tr>\n",
       "    <tr>\n",
       "      <th>13934442</th>\n",
       "      <td>1625</td>\n",
       "      <td>Football Manager 2013™</td>\n",
       "      <td>28/18/</td>\n",
       "      <td>560547</td>\n",
       "      <td>5.95</td>\n",
       "      <td>207890</td>\n",
       "    </tr>\n",
       "    <tr>\n",
       "      <th>25295968</th>\n",
       "      <td>13817</td>\n",
       "      <td>PLAYERUNKNOWN'S BATTLEGROUNDS</td>\n",
       "      <td>73/1/25/29/</td>\n",
       "      <td>475864</td>\n",
       "      <td>5.95</td>\n",
       "      <td>578080</td>\n",
       "    </tr>\n",
       "    <tr>\n",
       "      <th>6266506</th>\n",
       "      <td>283</td>\n",
       "      <td>BioShock Infinite</td>\n",
       "      <td>1/</td>\n",
       "      <td>428206</td>\n",
       "      <td>5.95</td>\n",
       "      <td>8870</td>\n",
       "    </tr>\n",
       "    <tr>\n",
       "      <th>23728290</th>\n",
       "      <td>8791</td>\n",
       "      <td>Raw Data</td>\n",
       "      <td>1/23/2/</td>\n",
       "      <td>280654</td>\n",
       "      <td>5.95</td>\n",
       "      <td>436320</td>\n",
       "    </tr>\n",
       "    <tr>\n",
       "      <th>6827805</th>\n",
       "      <td>333</td>\n",
       "      <td>Call of Duty®: Modern Warfare® 2</td>\n",
       "      <td>1/</td>\n",
       "      <td>446221</td>\n",
       "      <td>5.95</td>\n",
       "      <td>10190</td>\n",
       "    </tr>\n",
       "    <tr>\n",
       "      <th>24754130</th>\n",
       "      <td>11471</td>\n",
       "      <td>Panzer Warfare</td>\n",
       "      <td>1/4/23/29/28/2/70/</td>\n",
       "      <td>358534</td>\n",
       "      <td>5.95</td>\n",
       "      <td>513880</td>\n",
       "    </tr>\n",
       "    <tr>\n",
       "      <th>9434766</th>\n",
       "      <td>811</td>\n",
       "      <td>Arma 2: Operation Arrowhead</td>\n",
       "      <td>1/28/2/</td>\n",
       "      <td>404183</td>\n",
       "      <td>5.95</td>\n",
       "      <td>33930</td>\n",
       "    </tr>\n",
       "    <tr>\n",
       "      <th>18807596</th>\n",
       "      <td>2846</td>\n",
       "      <td>XCOM® 2</td>\n",
       "      <td>2/</td>\n",
       "      <td>45380</td>\n",
       "      <td>5.95</td>\n",
       "      <td>268500</td>\n",
       "    </tr>\n",
       "  </tbody>\n",
       "</table>\n",
       "</div>"
      ],
      "text/plain": [
       "          appid                           appname              genres      id  \\\n",
       "543073        2                     Day of Defeat                  1/  100887   \n",
       "2433028      11            Counter-Strike: Source                  1/  364830   \n",
       "13934442   1625            Football Manager 2013™              28/18/  560547   \n",
       "25295968  13817     PLAYERUNKNOWN'S BATTLEGROUNDS         73/1/25/29/  475864   \n",
       "6266506     283                 BioShock Infinite                  1/  428206   \n",
       "23728290   8791                          Raw Data             1/23/2/  280654   \n",
       "6827805     333  Call of Duty®: Modern Warfare® 2                  1/  446221   \n",
       "24754130  11471                    Panzer Warfare  1/4/23/29/28/2/70/  358534   \n",
       "9434766     811       Arma 2: Operation Arrowhead             1/28/2/  404183   \n",
       "18807596   2846                           XCOM® 2                  2/   45380   \n",
       "\n",
       "          rate  old_id  \n",
       "543073    5.95      30  \n",
       "2433028   5.95     240  \n",
       "13934442  5.95  207890  \n",
       "25295968  5.95  578080  \n",
       "6266506   5.95    8870  \n",
       "23728290  5.95  436320  \n",
       "6827805   5.95   10190  \n",
       "24754130  5.95  513880  \n",
       "9434766   5.95   33930  \n",
       "18807596  5.95  268500  "
      ]
     },
     "execution_count": 21,
     "metadata": {},
     "output_type": "execute_result"
    }
   ],
   "source": [
    "all_ratings.sort_values('rate', ascending=False).head(10)"
   ]
  }
 ],
 "metadata": {
  "kernelspec": {
   "display_name": "Python 3",
   "language": "python",
   "name": "python3"
  },
  "language_info": {
   "codemirror_mode": {
    "name": "ipython",
    "version": 3
   },
   "file_extension": ".py",
   "mimetype": "text/x-python",
   "name": "python",
   "nbconvert_exporter": "python",
   "pygments_lexer": "ipython3",
   "version": "3.6.2"
  }
 },
 "nbformat": 4,
 "nbformat_minor": 2
}
