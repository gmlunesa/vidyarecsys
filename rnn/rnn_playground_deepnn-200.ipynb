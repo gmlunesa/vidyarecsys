{
 "cells": [
  {
   "cell_type": "code",
   "execution_count": 2,
   "metadata": {},
   "outputs": [],
   "source": [
    "%matplotlib inline\n",
    "import matplotlib.pyplot as plt\n",
    "import pandas as pd"
   ]
  },
  {
   "cell_type": "markdown",
   "metadata": {},
   "source": [
    "### Ratings file\n",
    "Each line contains a rated video game:\n",
    "\n",
    "- a user\n",
    "- an item\n",
    "- a rating from 1 to 5"
   ]
  },
  {
   "cell_type": "code",
   "execution_count": 3,
   "metadata": {},
   "outputs": [
    {
     "data": {
      "text/html": [
       "<div>\n",
       "<style>\n",
       "    .dataframe thead tr:only-child th {\n",
       "        text-align: right;\n",
       "    }\n",
       "\n",
       "    .dataframe thead th {\n",
       "        text-align: left;\n",
       "    }\n",
       "\n",
       "    .dataframe tbody tr th {\n",
       "        vertical-align: top;\n",
       "    }\n",
       "</style>\n",
       "<table border=\"1\" class=\"dataframe\">\n",
       "  <thead>\n",
       "    <tr style=\"text-align: right;\">\n",
       "      <th></th>\n",
       "      <th>id</th>\n",
       "      <th>rate</th>\n",
       "      <th>appid</th>\n",
       "    </tr>\n",
       "  </thead>\n",
       "  <tbody>\n",
       "    <tr>\n",
       "      <th>0</th>\n",
       "      <td>76561197960265729</td>\n",
       "      <td>1.0</td>\n",
       "      <td>10</td>\n",
       "    </tr>\n",
       "    <tr>\n",
       "      <th>1</th>\n",
       "      <td>76561197960265729</td>\n",
       "      <td>1.0</td>\n",
       "      <td>20</td>\n",
       "    </tr>\n",
       "    <tr>\n",
       "      <th>2</th>\n",
       "      <td>76561197960265729</td>\n",
       "      <td>1.0</td>\n",
       "      <td>30</td>\n",
       "    </tr>\n",
       "    <tr>\n",
       "      <th>3</th>\n",
       "      <td>76561197960265729</td>\n",
       "      <td>1.0</td>\n",
       "      <td>40</td>\n",
       "    </tr>\n",
       "    <tr>\n",
       "      <th>4</th>\n",
       "      <td>76561197960265729</td>\n",
       "      <td>1.0</td>\n",
       "      <td>50</td>\n",
       "    </tr>\n",
       "  </tbody>\n",
       "</table>\n",
       "</div>"
      ],
      "text/plain": [
       "                  id  rate  appid\n",
       "0  76561197960265729   1.0     10\n",
       "1  76561197960265729   1.0     20\n",
       "2  76561197960265729   1.0     30\n",
       "3  76561197960265729   1.0     40\n",
       "4  76561197960265729   1.0     50"
      ]
     },
     "execution_count": 3,
     "metadata": {},
     "output_type": "execute_result"
    }
   ],
   "source": [
    "raw_ratings = pd.read_csv('ratings_latest.csv', sep=',')\n",
    "\n",
    "raw_ratings.head()"
   ]
  },
  {
   "cell_type": "markdown",
   "metadata": {},
   "source": [
    "### Metadata file\n",
    "\n",
    "This file contains information about each game, specifically:\n",
    "- item\n",
    "- name\n",
    "- genres"
   ]
  },
  {
   "cell_type": "code",
   "execution_count": 4,
   "metadata": {},
   "outputs": [
    {
     "data": {
      "text/html": [
       "<div>\n",
       "<style>\n",
       "    .dataframe thead tr:only-child th {\n",
       "        text-align: right;\n",
       "    }\n",
       "\n",
       "    .dataframe thead th {\n",
       "        text-align: left;\n",
       "    }\n",
       "\n",
       "    .dataframe tbody tr th {\n",
       "        vertical-align: top;\n",
       "    }\n",
       "</style>\n",
       "<table border=\"1\" class=\"dataframe\">\n",
       "  <thead>\n",
       "    <tr style=\"text-align: right;\">\n",
       "      <th></th>\n",
       "      <th>appid</th>\n",
       "      <th>appname</th>\n",
       "      <th>genres</th>\n",
       "    </tr>\n",
       "  </thead>\n",
       "  <tbody>\n",
       "    <tr>\n",
       "      <th>0</th>\n",
       "      <td>10</td>\n",
       "      <td>Counter-Strike</td>\n",
       "      <td>1/</td>\n",
       "    </tr>\n",
       "    <tr>\n",
       "      <th>1</th>\n",
       "      <td>20</td>\n",
       "      <td>Team Fortress Classic</td>\n",
       "      <td>1/</td>\n",
       "    </tr>\n",
       "    <tr>\n",
       "      <th>2</th>\n",
       "      <td>30</td>\n",
       "      <td>Day of Defeat</td>\n",
       "      <td>1/</td>\n",
       "    </tr>\n",
       "    <tr>\n",
       "      <th>3</th>\n",
       "      <td>40</td>\n",
       "      <td>Deathmatch Classic</td>\n",
       "      <td>1/</td>\n",
       "    </tr>\n",
       "    <tr>\n",
       "      <th>4</th>\n",
       "      <td>50</td>\n",
       "      <td>Half-Life: Opposing Force</td>\n",
       "      <td>1/</td>\n",
       "    </tr>\n",
       "  </tbody>\n",
       "</table>\n",
       "</div>"
      ],
      "text/plain": [
       "   appid                    appname genres\n",
       "0     10             Counter-Strike     1/\n",
       "1     20      Team Fortress Classic     1/\n",
       "2     30              Day of Defeat     1/\n",
       "3     40         Deathmatch Classic     1/\n",
       "4     50  Half-Life: Opposing Force     1/"
      ]
     },
     "execution_count": 4,
     "metadata": {},
     "output_type": "execute_result"
    }
   ],
   "source": [
    "items = pd.read_csv('metadata.csv', sep=',')\n",
    "\n",
    "items.head()"
   ]
  },
  {
   "cell_type": "code",
   "execution_count": 5,
   "metadata": {},
   "outputs": [
    {
     "data": {
      "text/html": [
       "<div>\n",
       "<style>\n",
       "    .dataframe thead tr:only-child th {\n",
       "        text-align: right;\n",
       "    }\n",
       "\n",
       "    .dataframe thead th {\n",
       "        text-align: left;\n",
       "    }\n",
       "\n",
       "    .dataframe tbody tr th {\n",
       "        vertical-align: top;\n",
       "    }\n",
       "</style>\n",
       "<table border=\"1\" class=\"dataframe\">\n",
       "  <thead>\n",
       "    <tr style=\"text-align: right;\">\n",
       "      <th></th>\n",
       "      <th>appid</th>\n",
       "      <th>appname</th>\n",
       "      <th>genres</th>\n",
       "      <th>id</th>\n",
       "      <th>rate</th>\n",
       "    </tr>\n",
       "  </thead>\n",
       "  <tbody>\n",
       "    <tr>\n",
       "      <th>0</th>\n",
       "      <td>10</td>\n",
       "      <td>Counter-Strike</td>\n",
       "      <td>1/</td>\n",
       "      <td>76561197960265729</td>\n",
       "      <td>1.00</td>\n",
       "    </tr>\n",
       "    <tr>\n",
       "      <th>1</th>\n",
       "      <td>10</td>\n",
       "      <td>Counter-Strike</td>\n",
       "      <td>1/</td>\n",
       "      <td>76561197960265730</td>\n",
       "      <td>2.05</td>\n",
       "    </tr>\n",
       "    <tr>\n",
       "      <th>2</th>\n",
       "      <td>10</td>\n",
       "      <td>Counter-Strike</td>\n",
       "      <td>1/</td>\n",
       "      <td>76561197960265731</td>\n",
       "      <td>1.00</td>\n",
       "    </tr>\n",
       "    <tr>\n",
       "      <th>3</th>\n",
       "      <td>10</td>\n",
       "      <td>Counter-Strike</td>\n",
       "      <td>1/</td>\n",
       "      <td>76561197960265733</td>\n",
       "      <td>1.40</td>\n",
       "    </tr>\n",
       "    <tr>\n",
       "      <th>4</th>\n",
       "      <td>10</td>\n",
       "      <td>Counter-Strike</td>\n",
       "      <td>1/</td>\n",
       "      <td>76561197960265734</td>\n",
       "      <td>1.00</td>\n",
       "    </tr>\n",
       "  </tbody>\n",
       "</table>\n",
       "</div>"
      ],
      "text/plain": [
       "   appid         appname genres                 id  rate\n",
       "0     10  Counter-Strike     1/  76561197960265729  1.00\n",
       "1     10  Counter-Strike     1/  76561197960265730  2.05\n",
       "2     10  Counter-Strike     1/  76561197960265731  1.00\n",
       "3     10  Counter-Strike     1/  76561197960265733  1.40\n",
       "4     10  Counter-Strike     1/  76561197960265734  1.00"
      ]
     },
     "execution_count": 5,
     "metadata": {},
     "output_type": "execute_result"
    }
   ],
   "source": [
    "all_ratings = pd.merge(items, raw_ratings)\n",
    "\n",
    "all_ratings.head()"
   ]
  },
  {
   "cell_type": "markdown",
   "metadata": {},
   "source": [
    "### Data pre-analysis\n",
    "Survey the data and analyze its distribution and statistics. The following are computed:\n",
    "\n",
    "- number of users\n",
    "- number of items\n",
    "- rating distribution"
   ]
  },
  {
   "cell_type": "code",
   "execution_count": 6,
   "metadata": {},
   "outputs": [
    {
     "data": {
      "text/plain": [
       "count    2.573393e+07\n",
       "mean     1.275410e+00\n",
       "std      7.960212e-01\n",
       "min      1.000000e+00\n",
       "25%      1.000000e+00\n",
       "50%      1.000000e+00\n",
       "75%      1.100000e+00\n",
       "max      5.950000e+00\n",
       "Name: rate, dtype: float64"
      ]
     },
     "execution_count": 6,
     "metadata": {},
     "output_type": "execute_result"
    }
   ],
   "source": [
    "all_ratings['rate'].describe()"
   ]
  },
  {
   "cell_type": "markdown",
   "metadata": {},
   "source": [
    "#### Maximum Stats"
   ]
  },
  {
   "cell_type": "code",
   "execution_count": 7,
   "metadata": {},
   "outputs": [
    {
     "name": "stdout",
     "output_type": "stream",
     "text": [
      "76561197973009892\n",
      "10440\n"
     ]
    }
   ],
   "source": [
    "print(all_ratings['id'].value_counts().index.tolist()[0])\n",
    "print(all_ratings['id'].value_counts().tolist()[0])"
   ]
  },
  {
   "cell_type": "markdown",
   "metadata": {},
   "source": [
    "User 76561197973009892 contains the most games in our dataset, with more than 10440 ratings."
   ]
  },
  {
   "cell_type": "code",
   "execution_count": 8,
   "metadata": {},
   "outputs": [
    {
     "name": "stdout",
     "output_type": "stream",
     "text": [
      "340\n",
      "364650\n"
     ]
    }
   ],
   "source": [
    "print(all_ratings['appid'].value_counts().index.tolist()[0])\n",
    "print(all_ratings['appid'].value_counts().tolist()[0])"
   ]
  },
  {
   "cell_type": "markdown",
   "metadata": {},
   "source": [
    "Game 15 has the most ownerships, with 364.650 owners, or about 53.89% of our user dataset."
   ]
  },
  {
   "cell_type": "markdown",
   "metadata": {},
   "source": [
    "#### User Game Statistics"
   ]
  },
  {
   "cell_type": "code",
   "execution_count": 9,
   "metadata": {},
   "outputs": [
    {
     "data": {
      "text/plain": [
       "count    676668.000000\n",
       "mean         38.030361\n",
       "std         123.929002\n",
       "min           1.000000\n",
       "25%           4.000000\n",
       "50%           8.000000\n",
       "75%          22.000000\n",
       "max       10440.000000\n",
       "Name: nb_lines, dtype: float64"
      ]
     },
     "execution_count": 9,
     "metadata": {},
     "output_type": "execute_result"
    }
   ],
   "source": [
    "users_nb = all_ratings['id'].value_counts().reset_index()\n",
    "users_nb.columns= ['id','nb_lines']\n",
    "users_nb['nb_lines'].describe()"
   ]
  },
  {
   "cell_type": "code",
   "execution_count": 10,
   "metadata": {},
   "outputs": [
    {
     "data": {
      "text/plain": [
       "<matplotlib.axes._subplots.AxesSubplot at 0x10e1b9358>"
      ]
     },
     "execution_count": 10,
     "metadata": {},
     "output_type": "execute_result"
    },
    {
     "data": {
      "image/png": "[encoded data removed]",
      "text/plain": [
       "<matplotlib.figure.Figure at 0x1096fc3c8>"
      ]
     },
     "metadata": {},
     "output_type": "display_data"
    }
   ],
   "source": [
    "import seaborn\n",
    "users_nb['nb_lines'].hist()"
   ]
  },
  {
   "cell_type": "markdown",
   "metadata": {},
   "source": [
    "Half the user dataset owns not more than 8 games."
   ]
  },
  {
   "cell_type": "markdown",
   "metadata": {},
   "source": [
    "#### Game ownership stats"
   ]
  },
  {
   "cell_type": "code",
   "execution_count": 11,
   "metadata": {},
   "outputs": [
    {
     "data": {
      "text/plain": [
       "count     18865.000000\n",
       "mean       1364.109621\n",
       "std        8333.452088\n",
       "min           1.000000\n",
       "25%          13.000000\n",
       "50%          86.000000\n",
       "75%         510.000000\n",
       "max      364650.000000\n",
       "Name: nb_lines, dtype: float64"
      ]
     },
     "execution_count": 11,
     "metadata": {},
     "output_type": "execute_result"
    }
   ],
   "source": [
    "games_nb = all_ratings['appid'].value_counts().reset_index()\n",
    "games_nb.columns= ['appid','nb_lines']\n",
    "games_nb['nb_lines'].describe()"
   ]
  },
  {
   "cell_type": "code",
   "execution_count": 12,
   "metadata": {},
   "outputs": [
    {
     "data": {
      "text/plain": [
       "<matplotlib.axes._subplots.AxesSubplot at 0x110f6b0f0>"
      ]
     },
     "execution_count": 12,
     "metadata": {},
     "output_type": "execute_result"
    },
    {
     "data": {
      "image/png": "[encoded data removed]",
      "text/plain": [
       "<matplotlib.figure.Figure at 0x110f31780>"
      ]
     },
     "metadata": {},
     "output_type": "display_data"
    }
   ],
   "source": [
    "games_nb['nb_lines'].hist()"
   ]
  },
  {
   "cell_type": "markdown",
   "metadata": {},
   "source": [
    "Half of the game dataset has no more than 86 ownerships"
   ]
  },
  {
   "cell_type": "markdown",
   "metadata": {},
   "source": [
    "### Data pre-processing"
   ]
  },
  {
   "cell_type": "code",
   "execution_count": 13,
   "metadata": {},
   "outputs": [
    {
     "name": "stdout",
     "output_type": "stream",
     "text": [
      "A total of:  676668 unique users\n",
      "A total of:  18865 unique games\n"
     ]
    }
   ],
   "source": [
    "users = all_ratings.id.unique()\n",
    "user_map = {i:val for i,val in enumerate(users)}\n",
    "inverse_user_map = {val:i for i,val in enumerate(users)}\n",
    "\n",
    "\n",
    "games = all_ratings.appid.unique()\n",
    "game_map = {i:val for i,val in enumerate(games)}\n",
    "inverse_game_map = {val:i for i,val in enumerate(games)}\n",
    "\n",
    "all_ratings[\"id\"] = all_ratings[\"id\"].map(inverse_user_map)\n",
    "\n",
    "all_ratings[\"old_id\"] = all_ratings[\"appid\"] # copying for join with metadata\n",
    "all_ratings[\"appid\"] = all_ratings[\"appid\"].map(inverse_game_map)\n",
    "\n",
    "print (\"A total of: \", users.shape[0], \"unique users\")\n",
    "print (\"A total of: \", games.shape[0], \"unique games\")"
   ]
  },
  {
   "cell_type": "code",
   "execution_count": 14,
   "metadata": {},
   "outputs": [
    {
     "data": {
      "text/html": [
       "<div>\n",
       "<style>\n",
       "    .dataframe thead tr:only-child th {\n",
       "        text-align: right;\n",
       "    }\n",
       "\n",
       "    .dataframe thead th {\n",
       "        text-align: left;\n",
       "    }\n",
       "\n",
       "    .dataframe tbody tr th {\n",
       "        vertical-align: top;\n",
       "    }\n",
       "</style>\n",
       "<table border=\"1\" class=\"dataframe\">\n",
       "  <thead>\n",
       "    <tr style=\"text-align: right;\">\n",
       "      <th></th>\n",
       "      <th>appid</th>\n",
       "      <th>appname</th>\n",
       "      <th>genres</th>\n",
       "      <th>id</th>\n",
       "      <th>rate</th>\n",
       "      <th>old_id</th>\n",
       "    </tr>\n",
       "  </thead>\n",
       "  <tbody>\n",
       "    <tr>\n",
       "      <th>543073</th>\n",
       "      <td>2</td>\n",
       "      <td>Day of Defeat</td>\n",
       "      <td>1/</td>\n",
       "      <td>100887</td>\n",
       "      <td>5.95</td>\n",
       "      <td>30</td>\n",
       "    </tr>\n",
       "    <tr>\n",
       "      <th>2433028</th>\n",
       "      <td>11</td>\n",
       "      <td>Counter-Strike: Source</td>\n",
       "      <td>1/</td>\n",
       "      <td>364830</td>\n",
       "      <td>5.95</td>\n",
       "      <td>240</td>\n",
       "    </tr>\n",
       "    <tr>\n",
       "      <th>13934442</th>\n",
       "      <td>1625</td>\n",
       "      <td>Football Manager 2013™</td>\n",
       "      <td>28/18/</td>\n",
       "      <td>560547</td>\n",
       "      <td>5.95</td>\n",
       "      <td>207890</td>\n",
       "    </tr>\n",
       "    <tr>\n",
       "      <th>25295968</th>\n",
       "      <td>13817</td>\n",
       "      <td>PLAYERUNKNOWN'S BATTLEGROUNDS</td>\n",
       "      <td>73/1/25/29/</td>\n",
       "      <td>475864</td>\n",
       "      <td>5.95</td>\n",
       "      <td>578080</td>\n",
       "    </tr>\n",
       "    <tr>\n",
       "      <th>6266506</th>\n",
       "      <td>283</td>\n",
       "      <td>BioShock Infinite</td>\n",
       "      <td>1/</td>\n",
       "      <td>428206</td>\n",
       "      <td>5.95</td>\n",
       "      <td>8870</td>\n",
       "    </tr>\n",
       "    <tr>\n",
       "      <th>23728290</th>\n",
       "      <td>8791</td>\n",
       "      <td>Raw Data</td>\n",
       "      <td>1/23/2/</td>\n",
       "      <td>280654</td>\n",
       "      <td>5.95</td>\n",
       "      <td>436320</td>\n",
       "    </tr>\n",
       "    <tr>\n",
       "      <th>6827805</th>\n",
       "      <td>333</td>\n",
       "      <td>Call of Duty®: Modern Warfare® 2</td>\n",
       "      <td>1/</td>\n",
       "      <td>446221</td>\n",
       "      <td>5.95</td>\n",
       "      <td>10190</td>\n",
       "    </tr>\n",
       "    <tr>\n",
       "      <th>24754130</th>\n",
       "      <td>11471</td>\n",
       "      <td>Panzer Warfare</td>\n",
       "      <td>1/4/23/29/28/2/70/</td>\n",
       "      <td>358534</td>\n",
       "      <td>5.95</td>\n",
       "      <td>513880</td>\n",
       "    </tr>\n",
       "    <tr>\n",
       "      <th>9434766</th>\n",
       "      <td>811</td>\n",
       "      <td>Arma 2: Operation Arrowhead</td>\n",
       "      <td>1/28/2/</td>\n",
       "      <td>404183</td>\n",
       "      <td>5.95</td>\n",
       "      <td>33930</td>\n",
       "    </tr>\n",
       "    <tr>\n",
       "      <th>18807596</th>\n",
       "      <td>2846</td>\n",
       "      <td>XCOM® 2</td>\n",
       "      <td>2/</td>\n",
       "      <td>45380</td>\n",
       "      <td>5.95</td>\n",
       "      <td>268500</td>\n",
       "    </tr>\n",
       "  </tbody>\n",
       "</table>\n",
       "</div>"
      ],
      "text/plain": [
       "          appid                           appname              genres      id  \\\n",
       "543073        2                     Day of Defeat                  1/  100887   \n",
       "2433028      11            Counter-Strike: Source                  1/  364830   \n",
       "13934442   1625            Football Manager 2013™              28/18/  560547   \n",
       "25295968  13817     PLAYERUNKNOWN'S BATTLEGROUNDS         73/1/25/29/  475864   \n",
       "6266506     283                 BioShock Infinite                  1/  428206   \n",
       "23728290   8791                          Raw Data             1/23/2/  280654   \n",
       "6827805     333  Call of Duty®: Modern Warfare® 2                  1/  446221   \n",
       "24754130  11471                    Panzer Warfare  1/4/23/29/28/2/70/  358534   \n",
       "9434766     811       Arma 2: Operation Arrowhead             1/28/2/  404183   \n",
       "18807596   2846                           XCOM® 2                  2/   45380   \n",
       "\n",
       "          rate  old_id  \n",
       "543073    5.95      30  \n",
       "2433028   5.95     240  \n",
       "13934442  5.95  207890  \n",
       "25295968  5.95  578080  \n",
       "6266506   5.95    8870  \n",
       "23728290  5.95  436320  \n",
       "6827805   5.95   10190  \n",
       "24754130  5.95  513880  \n",
       "9434766   5.95   33930  \n",
       "18807596  5.95  268500  "
      ]
     },
     "execution_count": 14,
     "metadata": {},
     "output_type": "execute_result"
    }
   ],
   "source": [
    "all_ratings.sort_values('rate', ascending=False).head(10)"
   ]
  },
  {
   "cell_type": "code",
   "execution_count": 15,
   "metadata": {},
   "outputs": [],
   "source": [
    "from sklearn.model_selection import train_test_split\n",
    "\n",
    "ratings_train, ratings_test = train_test_split(\n",
    "    all_ratings, test_size=0.2, random_state=0)"
   ]
  },
  {
   "cell_type": "code",
   "execution_count": 16,
   "metadata": {},
   "outputs": [
    {
     "name": "stderr",
     "output_type": "stream",
     "text": [
      "Using TensorFlow backend.\n"
     ]
    }
   ],
   "source": [
    "import tensorflow as tf\n",
    "from keras.backend.tensorflow_backend import set_session\n",
    "config = tf.ConfigProto()\n",
    "config.gpu_options.per_process_gpu_memory_fraction \n",
    "config.gpu_options.visible_device_list = \"0\" # \"0,1\"\n",
    "set_session(tf.Session(config=config))"
   ]
  },
  {
   "cell_type": "code",
   "execution_count": 17,
   "metadata": {},
   "outputs": [],
   "source": [
    "from keras.models import Model\n",
    "from keras.layers import Input\n",
    "from keras.layers.core import Reshape\n",
    "from keras.layers.merge import Multiply\n",
    "from keras.layers.merge import Dot\n",
    "from keras.layers.embeddings import Embedding\n",
    "from keras import optimizers"
   ]
  },
  {
   "cell_type": "code",
   "execution_count": 18,
   "metadata": {},
   "outputs": [],
   "source": [
    "user_id_input = Input(shape=[1], name='user')\n",
    "item_id_input = Input(shape=[1], name='item')\n",
    "\n",
    "embedding_size = 30\n",
    "user_embedding = Embedding(output_dim=embedding_size, input_dim=users.shape[0],\n",
    "                           input_length=1, name='user_embedding')(user_id_input)\n",
    "item_embedding = Embedding(output_dim=embedding_size, input_dim=games.shape[0],\n",
    "                           input_length=1, name='item_embedding')(item_id_input)\n",
    "\n",
    "user_vecs = Reshape([embedding_size])(user_embedding)\n",
    "item_vecs = Reshape([embedding_size])(item_embedding)\n",
    "\n",
    "y = Dot(1, normalize=False)([user_vecs, item_vecs])\n",
    "\n",
    "model = Model(inputs=[user_id_input, item_id_input], outputs=y)\n",
    "\n",
    "model.compile(loss='mse',\n",
    "              optimizer=\"adam\"\n",
    "             )"
   ]
  },
  {
   "cell_type": "code",
   "execution_count": 19,
   "metadata": {},
   "outputs": [
    {
     "data": {
      "image/svg+xml": [
       "<svg height=\"264pt\" viewBox=\"0.00 0.00 307.50 264.00\" width=\"308pt\" xmlns=\"http://www.w3.org/2000/svg\" xmlns:xlink=\"http://www.w3.org/1999/xlink\">\n",
       "<g class=\"graph\" id=\"graph0\" transform=\"scale(1 1) rotate(0) translate(4 260)\">\n",
       "<title>G</title>\n",
       "<polygon fill=\"#ffffff\" points=\"-4,4 -4,-260 303.5,-260 303.5,4 -4,4\" stroke=\"transparent\"/>\n",
       "<!-- 5133511592 -->\n",
       "<g class=\"node\" id=\"node1\">\n",
       "<title>5133511592</title>\n",
       "<polygon fill=\"none\" points=\"27,-219.5 27,-255.5 113,-255.5 113,-219.5 27,-219.5\" stroke=\"#000000\"/>\n",
       "<text fill=\"#000000\" font-family=\"Times,serif\" font-size=\"14.00\" text-anchor=\"middle\" x=\"70\" y=\"-233.8\">user: InputLayer</text>\n",
       "</g>\n",
       "<!-- 5133512600 -->\n",
       "<g class=\"node\" id=\"node3\">\n",
       "<title>5133512600</title>\n",
       "<polygon fill=\"none\" points=\"0,-146.5 0,-182.5 140,-182.5 140,-146.5 0,-146.5\" stroke=\"#000000\"/>\n",
       "<text fill=\"#000000\" font-family=\"Times,serif\" font-size=\"14.00\" text-anchor=\"middle\" x=\"70\" y=\"-160.8\">user_embedding: Embedding</text>\n",
       "</g>\n",
       "<!-- 5133511592&#45;&gt;5133512600 -->\n",
       "<g class=\"edge\" id=\"edge1\">\n",
       "<title>5133511592-&gt;5133512600</title>\n",
       "<path d=\"M70,-219.4551C70,-211.3828 70,-201.6764 70,-192.6817\" fill=\"none\" stroke=\"#000000\"/>\n",
       "<polygon fill=\"#000000\" points=\"73.5001,-192.5903 70,-182.5904 66.5001,-192.5904 73.5001,-192.5903\" stroke=\"#000000\"/>\n",
       "</g>\n",
       "<!-- 5133511704 -->\n",
       "<g class=\"node\" id=\"node2\">\n",
       "<title>5133511704</title>\n",
       "<polygon fill=\"none\" points=\"185.5,-219.5 185.5,-255.5 272.5,-255.5 272.5,-219.5 185.5,-219.5\" stroke=\"#000000\"/>\n",
       "<text fill=\"#000000\" font-family=\"Times,serif\" font-size=\"14.00\" text-anchor=\"middle\" x=\"229\" y=\"-233.8\">item: InputLayer</text>\n",
       "</g>\n",
       "<!-- 115169179632 -->\n",
       "<g class=\"node\" id=\"node4\">\n",
       "<title>115169179632</title>\n",
       "<polygon fill=\"none\" points=\"158.5,-146.5 158.5,-182.5 299.5,-182.5 299.5,-146.5 158.5,-146.5\" stroke=\"#000000\"/>\n",
       "<text fill=\"#000000\" font-family=\"Times,serif\" font-size=\"14.00\" text-anchor=\"middle\" x=\"229\" y=\"-160.8\">item_embedding: Embedding</text>\n",
       "</g>\n",
       "<!-- 5133511704&#45;&gt;115169179632 -->\n",
       "<g class=\"edge\" id=\"edge2\">\n",
       "<title>5133511704-&gt;115169179632</title>\n",
       "<path d=\"M229,-219.4551C229,-211.3828 229,-201.6764 229,-192.6817\" fill=\"none\" stroke=\"#000000\"/>\n",
       "<polygon fill=\"#000000\" points=\"232.5001,-192.5903 229,-182.5904 225.5001,-192.5904 232.5001,-192.5903\" stroke=\"#000000\"/>\n",
       "</g>\n",
       "<!-- 5133512320 -->\n",
       "<g class=\"node\" id=\"node5\">\n",
       "<title>5133512320</title>\n",
       "<polygon fill=\"none\" points=\"40,-73.5 40,-109.5 140,-109.5 140,-73.5 40,-73.5\" stroke=\"#000000\"/>\n",
       "<text fill=\"#000000\" font-family=\"Times,serif\" font-size=\"14.00\" text-anchor=\"middle\" x=\"90\" y=\"-87.8\">reshape_1: Reshape</text>\n",
       "</g>\n",
       "<!-- 5133512600&#45;&gt;5133512320 -->\n",
       "<g class=\"edge\" id=\"edge3\">\n",
       "<title>5133512600-&gt;5133512320</title>\n",
       "<path d=\"M74.9438,-146.4551C77.1794,-138.2951 79.8726,-128.4652 82.3593,-119.3887\" fill=\"none\" stroke=\"#000000\"/>\n",
       "<polygon fill=\"#000000\" points=\"85.7769,-120.1598 85.0437,-109.5904 79.0257,-118.3101 85.7769,-120.1598\" stroke=\"#000000\"/>\n",
       "</g>\n",
       "<!-- 5133461656 -->\n",
       "<g class=\"node\" id=\"node6\">\n",
       "<title>5133461656</title>\n",
       "<polygon fill=\"none\" points=\"168,-73.5 168,-109.5 268,-109.5 268,-73.5 168,-73.5\" stroke=\"#000000\"/>\n",
       "<text fill=\"#000000\" font-family=\"Times,serif\" font-size=\"14.00\" text-anchor=\"middle\" x=\"218\" y=\"-87.8\">reshape_2: Reshape</text>\n",
       "</g>\n",
       "<!-- 115169179632&#45;&gt;5133461656 -->\n",
       "<g class=\"edge\" id=\"edge4\">\n",
       "<title>115169179632-&gt;5133461656</title>\n",
       "<path d=\"M226.2809,-146.4551C225.0645,-138.3828 223.6019,-128.6764 222.2466,-119.6817\" fill=\"none\" stroke=\"#000000\"/>\n",
       "<polygon fill=\"#000000\" points=\"225.677,-118.9572 220.7259,-109.5904 218.7551,-120.0003 225.677,-118.9572\" stroke=\"#000000\"/>\n",
       "</g>\n",
       "<!-- 5133462104 -->\n",
       "<g class=\"node\" id=\"node7\">\n",
       "<title>5133462104</title>\n",
       "<polygon fill=\"none\" points=\"118,-.5 118,-36.5 180,-36.5 180,-.5 118,-.5\" stroke=\"#000000\"/>\n",
       "<text fill=\"#000000\" font-family=\"Times,serif\" font-size=\"14.00\" text-anchor=\"middle\" x=\"149\" y=\"-14.8\">dot_1: Dot</text>\n",
       "</g>\n",
       "<!-- 5133512320&#45;&gt;5133462104 -->\n",
       "<g class=\"edge\" id=\"edge5\">\n",
       "<title>5133512320-&gt;5133462104</title>\n",
       "<path d=\"M104.5843,-73.4551C111.6048,-64.7686 120.1548,-54.1898 127.8715,-44.642\" fill=\"none\" stroke=\"#000000\"/>\n",
       "<polygon fill=\"#000000\" points=\"130.8152,-46.5678 134.379,-36.5904 125.371,-42.1677 130.8152,-46.5678\" stroke=\"#000000\"/>\n",
       "</g>\n",
       "<!-- 5133461656&#45;&gt;5133462104 -->\n",
       "<g class=\"edge\" id=\"edge6\">\n",
       "<title>5133461656-&gt;5133462104</title>\n",
       "<path d=\"M200.9438,-73.4551C192.5675,-64.5932 182.3295,-53.7616 173.1638,-44.0646\" fill=\"none\" stroke=\"#000000\"/>\n",
       "<polygon fill=\"#000000\" points=\"175.5119,-41.4535 166.0991,-36.5904 170.4247,-46.262 175.5119,-41.4535\" stroke=\"#000000\"/>\n",
       "</g>\n",
       "</g>\n",
       "</svg>"
      ],
      "text/plain": [
       "<IPython.core.display.SVG object>"
      ]
     },
     "execution_count": 19,
     "metadata": {},
     "output_type": "execute_result"
    }
   ],
   "source": [
    "from IPython.display import SVG\n",
    "from keras.utils.vis_utils import model_to_dot\n",
    "from keras.utils import plot_model\n",
    "import pydot\n",
    "SVG(model_to_dot(model).create(prog='dot', format='svg'))"
   ]
  },
  {
   "cell_type": "code",
   "execution_count": 20,
   "metadata": {},
   "outputs": [],
   "source": [
    "# import time\n",
    "# from keras.callbacks import ModelCheckpoint\n",
    "# mainpath = '/Desktop/vidyarecsys/preprocessing/game_mf'\n",
    "# save_path = mainpath + \"/models\"\n",
    "# mytime = time.strftime(\"%Y_%m_%d_%H_%M\")\n",
    "# modname = 'matrix_facto_50_' + mytime \n",
    "# thename = save_path + '/' + modname + '.h5'\n",
    "# mcheck = ModelCheckpoint(thename  , monitor='val_loss', save_best_only=True)"
   ]
  },
  {
   "cell_type": "code",
   "execution_count": 21,
   "metadata": {},
   "outputs": [],
   "source": [
    "\n",
    "# %%time\n",
    "\n",
    "# # Training the model\n",
    "# history = model.fit([user_id_train, item_id_train], rating_train,\n",
    "#                     batch_size=64, nb_epoch=6, validation_split=0.1,\n",
    "#                     shuffle=True, verbose=2)"
   ]
  },
  {
   "cell_type": "code",
   "execution_count": 22,
   "metadata": {},
   "outputs": [],
   "source": [
    "# %%time\n",
    "\n",
    "# history = model.fit([ratings_train[\"id\"], ratings_train[\"appid\"]]\n",
    "#                     , ratings_train[\"rate\"]\n",
    "#                     , batch_size=64, epochs=6\n",
    "#                     , validation_split=0.1\n",
    "#                     , verbose = 2\n",
    "#                     , shuffle=True)"
   ]
  },
  {
   "cell_type": "code",
   "execution_count": 23,
   "metadata": {},
   "outputs": [],
   "source": [
    "\n",
    "# histories = ['matrixfactorization.pkl']\n",
    "\n",
    "# import pickle\n",
    "# for val in histories:\n",
    "#     with open(val , 'rb') as file_pi:\n",
    "#         thepickle = pickle.load(file_pi)\n",
    "#         plt.plot(thepickle[\"loss\"],label ='loss_' + val,linestyle='--')\n",
    "#         plt.plot(thepickle[\"val_loss\"],label='val_loss' + val)\n",
    "# plt.legend()\n",
    "# plt.ylim(0, 1)\n",
    "\n",
    "# pd.DataFrame(thepickle,columns =['loss','val_loss']).head(20).transpose()"
   ]
  },
  {
   "cell_type": "code",
   "execution_count": 24,
   "metadata": {},
   "outputs": [],
   "source": [
    "from keras.models import Model\n",
    "from keras.layers import Input\n",
    "from keras.layers.core import Reshape, Dropout, Dense\n",
    "from keras.layers.merge import Multiply, Dot\n",
    "from keras.layers.embeddings import Embedding\n",
    "from keras.layers.merge import Concatenate\n",
    "from keras import optimizers"
   ]
  },
  {
   "cell_type": "code",
   "execution_count": 25,
   "metadata": {},
   "outputs": [],
   "source": [
    "user_id_input = Input(shape=[1], name='user')\n",
    "item_id_input = Input(shape=[1], name='item')\n",
    "\n",
    "embedding_size = 10 # 5\n",
    "user_embedding = Embedding(output_dim=embedding_size, input_dim=users.shape[0],\n",
    "                           input_length=1, name='user_embedding')(user_id_input)\n",
    "item_embedding = Embedding(output_dim=embedding_size, input_dim=games.shape[0],\n",
    "                           input_length=1, name='item_embedding')(item_id_input)\n",
    "\n",
    "user_vecs = Reshape([embedding_size])(user_embedding)\n",
    "item_vecs = Reshape([embedding_size])(item_embedding)\n",
    "\n",
    "input_vecs = Concatenate()([user_vecs, item_vecs])\n",
    "input_vecs = Dropout(0.5)(input_vecs)\n",
    "\n",
    "x = Dense(200, activation='relu')(input_vecs)\n",
    "# x = Dense(128, activation='relu')(x)\n",
    "\n",
    "y = Dense(1)(x)\n",
    "\n",
    "\n",
    "model = Model(inputs=[user_id_input, item_id_input], outputs=y)\n",
    "model.compile(optimizer='adam', loss='mse')"
   ]
  },
  {
   "cell_type": "code",
   "execution_count": 26,
   "metadata": {},
   "outputs": [
    {
     "name": "stdout",
     "output_type": "stream",
     "text": [
      "Initial train MSE: 2.249\n",
      "Initial train MAE: 1.271\n"
     ]
    }
   ],
   "source": [
    "from sklearn.metrics import mean_squared_error\n",
    "from sklearn.metrics import mean_absolute_error\n",
    "\n",
    "initial_train_preds = model.predict([ratings_train[\"id\"], ratings_train[\"appid\"]])\n",
    "print(\"Initial train MSE: %0.3f\" % mean_squared_error(initial_train_preds, ratings_train[\"rate\"]))\n",
    "print(\"Initial train MAE: %0.3f\" % mean_absolute_error(initial_train_preds, ratings_train[\"rate\"]))"
   ]
  },
  {
   "cell_type": "code",
   "execution_count": 27,
   "metadata": {},
   "outputs": [
    {
     "name": "stdout",
     "output_type": "stream",
     "text": [
      "Initial test MSE: 2.251\n",
      "Initial test MAE: 1.271\n"
     ]
    }
   ],
   "source": [
    "initial_test_preds = model.predict([ratings_test[\"id\"], ratings_test[\"appid\"]])\n",
    "print(\"Initial test MSE: %0.3f\" % mean_squared_error(initial_test_preds, ratings_test[\"rate\"]))\n",
    "print(\"Initial test MAE: %0.3f\" % mean_absolute_error(initial_test_preds, ratings_test[\"rate\"]))"
   ]
  },
  {
   "cell_type": "code",
   "execution_count": 28,
   "metadata": {},
   "outputs": [
    {
     "data": {
      "image/svg+xml": [
       "<svg height=\"483pt\" viewBox=\"0.00 0.00 307.50 483.00\" width=\"308pt\" xmlns=\"http://www.w3.org/2000/svg\" xmlns:xlink=\"http://www.w3.org/1999/xlink\">\n",
       "<g class=\"graph\" id=\"graph0\" transform=\"scale(1 1) rotate(0) translate(4 479)\">\n",
       "<title>G</title>\n",
       "<polygon fill=\"#ffffff\" points=\"-4,4 -4,-479 303.5,-479 303.5,4 -4,4\" stroke=\"transparent\"/>\n",
       "<!-- 5135212384 -->\n",
       "<g class=\"node\" id=\"node1\">\n",
       "<title>5135212384</title>\n",
       "<polygon fill=\"none\" points=\"27,-438.5 27,-474.5 113,-474.5 113,-438.5 27,-438.5\" stroke=\"#000000\"/>\n",
       "<text fill=\"#000000\" font-family=\"Times,serif\" font-size=\"14.00\" text-anchor=\"middle\" x=\"70\" y=\"-452.8\">user: InputLayer</text>\n",
       "</g>\n",
       "<!-- 5135221032 -->\n",
       "<g class=\"node\" id=\"node3\">\n",
       "<title>5135221032</title>\n",
       "<polygon fill=\"none\" points=\"0,-365.5 0,-401.5 140,-401.5 140,-365.5 0,-365.5\" stroke=\"#000000\"/>\n",
       "<text fill=\"#000000\" font-family=\"Times,serif\" font-size=\"14.00\" text-anchor=\"middle\" x=\"70\" y=\"-379.8\">user_embedding: Embedding</text>\n",
       "</g>\n",
       "<!-- 5135212384&#45;&gt;5135221032 -->\n",
       "<g class=\"edge\" id=\"edge1\">\n",
       "<title>5135212384-&gt;5135221032</title>\n",
       "<path d=\"M70,-438.4551C70,-430.3828 70,-420.6764 70,-411.6817\" fill=\"none\" stroke=\"#000000\"/>\n",
       "<polygon fill=\"#000000\" points=\"73.5001,-411.5903 70,-401.5904 66.5001,-411.5904 73.5001,-411.5903\" stroke=\"#000000\"/>\n",
       "</g>\n",
       "<!-- 5135212496 -->\n",
       "<g class=\"node\" id=\"node2\">\n",
       "<title>5135212496</title>\n",
       "<polygon fill=\"none\" points=\"185.5,-438.5 185.5,-474.5 272.5,-474.5 272.5,-438.5 185.5,-438.5\" stroke=\"#000000\"/>\n",
       "<text fill=\"#000000\" font-family=\"Times,serif\" font-size=\"14.00\" text-anchor=\"middle\" x=\"229\" y=\"-452.8\">item: InputLayer</text>\n",
       "</g>\n",
       "<!-- 4877252536 -->\n",
       "<g class=\"node\" id=\"node4\">\n",
       "<title>4877252536</title>\n",
       "<polygon fill=\"none\" points=\"158.5,-365.5 158.5,-401.5 299.5,-401.5 299.5,-365.5 158.5,-365.5\" stroke=\"#000000\"/>\n",
       "<text fill=\"#000000\" font-family=\"Times,serif\" font-size=\"14.00\" text-anchor=\"middle\" x=\"229\" y=\"-379.8\">item_embedding: Embedding</text>\n",
       "</g>\n",
       "<!-- 5135212496&#45;&gt;4877252536 -->\n",
       "<g class=\"edge\" id=\"edge2\">\n",
       "<title>5135212496-&gt;4877252536</title>\n",
       "<path d=\"M229,-438.4551C229,-430.3828 229,-420.6764 229,-411.6817\" fill=\"none\" stroke=\"#000000\"/>\n",
       "<polygon fill=\"#000000\" points=\"232.5001,-411.5903 229,-401.5904 225.5001,-411.5904 232.5001,-411.5903\" stroke=\"#000000\"/>\n",
       "</g>\n",
       "<!-- 5135106792 -->\n",
       "<g class=\"node\" id=\"node5\">\n",
       "<title>5135106792</title>\n",
       "<polygon fill=\"none\" points=\"40,-292.5 40,-328.5 140,-328.5 140,-292.5 40,-292.5\" stroke=\"#000000\"/>\n",
       "<text fill=\"#000000\" font-family=\"Times,serif\" font-size=\"14.00\" text-anchor=\"middle\" x=\"90\" y=\"-306.8\">reshape_3: Reshape</text>\n",
       "</g>\n",
       "<!-- 5135221032&#45;&gt;5135106792 -->\n",
       "<g class=\"edge\" id=\"edge3\">\n",
       "<title>5135221032-&gt;5135106792</title>\n",
       "<path d=\"M74.9438,-365.4551C77.1794,-357.2951 79.8726,-347.4652 82.3593,-338.3887\" fill=\"none\" stroke=\"#000000\"/>\n",
       "<polygon fill=\"#000000\" points=\"85.7769,-339.1598 85.0437,-328.5904 79.0257,-337.3101 85.7769,-339.1598\" stroke=\"#000000\"/>\n",
       "</g>\n",
       "<!-- 5134651744 -->\n",
       "<g class=\"node\" id=\"node6\">\n",
       "<title>5134651744</title>\n",
       "<polygon fill=\"none\" points=\"168,-292.5 168,-328.5 268,-328.5 268,-292.5 168,-292.5\" stroke=\"#000000\"/>\n",
       "<text fill=\"#000000\" font-family=\"Times,serif\" font-size=\"14.00\" text-anchor=\"middle\" x=\"218\" y=\"-306.8\">reshape_4: Reshape</text>\n",
       "</g>\n",
       "<!-- 4877252536&#45;&gt;5134651744 -->\n",
       "<g class=\"edge\" id=\"edge4\">\n",
       "<title>4877252536-&gt;5134651744</title>\n",
       "<path d=\"M226.2809,-365.4551C225.0645,-357.3828 223.6019,-347.6764 222.2466,-338.6817\" fill=\"none\" stroke=\"#000000\"/>\n",
       "<polygon fill=\"#000000\" points=\"225.677,-337.9572 220.7259,-328.5904 218.7551,-339.0003 225.677,-337.9572\" stroke=\"#000000\"/>\n",
       "</g>\n",
       "<!-- 5134977624 -->\n",
       "<g class=\"node\" id=\"node7\">\n",
       "<title>5134977624</title>\n",
       "<polygon fill=\"none\" points=\"82,-219.5 82,-255.5 216,-255.5 216,-219.5 82,-219.5\" stroke=\"#000000\"/>\n",
       "<text fill=\"#000000\" font-family=\"Times,serif\" font-size=\"14.00\" text-anchor=\"middle\" x=\"149\" y=\"-233.8\">concatenate_1: Concatenate</text>\n",
       "</g>\n",
       "<!-- 5135106792&#45;&gt;5134977624 -->\n",
       "<g class=\"edge\" id=\"edge5\">\n",
       "<title>5135106792-&gt;5134977624</title>\n",
       "<path d=\"M104.5843,-292.4551C111.6048,-283.7686 120.1548,-273.1898 127.8715,-263.642\" fill=\"none\" stroke=\"#000000\"/>\n",
       "<polygon fill=\"#000000\" points=\"130.8152,-265.5678 134.379,-255.5904 125.371,-261.1677 130.8152,-265.5678\" stroke=\"#000000\"/>\n",
       "</g>\n",
       "<!-- 5134651744&#45;&gt;5134977624 -->\n",
       "<g class=\"edge\" id=\"edge6\">\n",
       "<title>5134651744-&gt;5134977624</title>\n",
       "<path d=\"M200.9438,-292.4551C192.5675,-283.5932 182.3295,-272.7616 173.1638,-263.0646\" fill=\"none\" stroke=\"#000000\"/>\n",
       "<polygon fill=\"#000000\" points=\"175.5119,-260.4535 166.0991,-255.5904 170.4247,-265.262 175.5119,-260.4535\" stroke=\"#000000\"/>\n",
       "</g>\n",
       "<!-- 5134978464 -->\n",
       "<g class=\"node\" id=\"node8\">\n",
       "<title>5134978464</title>\n",
       "<polygon fill=\"none\" points=\"99,-146.5 99,-182.5 199,-182.5 199,-146.5 99,-146.5\" stroke=\"#000000\"/>\n",
       "<text fill=\"#000000\" font-family=\"Times,serif\" font-size=\"14.00\" text-anchor=\"middle\" x=\"149\" y=\"-160.8\">dropout_1: Dropout</text>\n",
       "</g>\n",
       "<!-- 5134977624&#45;&gt;5134978464 -->\n",
       "<g class=\"edge\" id=\"edge7\">\n",
       "<title>5134977624-&gt;5134978464</title>\n",
       "<path d=\"M149,-219.4551C149,-211.3828 149,-201.6764 149,-192.6817\" fill=\"none\" stroke=\"#000000\"/>\n",
       "<polygon fill=\"#000000\" points=\"152.5001,-192.5903 149,-182.5904 145.5001,-192.5904 152.5001,-192.5903\" stroke=\"#000000\"/>\n",
       "</g>\n",
       "<!-- 4984211440 -->\n",
       "<g class=\"node\" id=\"node9\">\n",
       "<title>4984211440</title>\n",
       "<polygon fill=\"none\" points=\"107.5,-73.5 107.5,-109.5 190.5,-109.5 190.5,-73.5 107.5,-73.5\" stroke=\"#000000\"/>\n",
       "<text fill=\"#000000\" font-family=\"Times,serif\" font-size=\"14.00\" text-anchor=\"middle\" x=\"149\" y=\"-87.8\">dense_1: Dense</text>\n",
       "</g>\n",
       "<!-- 5134978464&#45;&gt;4984211440 -->\n",
       "<g class=\"edge\" id=\"edge8\">\n",
       "<title>5134978464-&gt;4984211440</title>\n",
       "<path d=\"M149,-146.4551C149,-138.3828 149,-128.6764 149,-119.6817\" fill=\"none\" stroke=\"#000000\"/>\n",
       "<polygon fill=\"#000000\" points=\"152.5001,-119.5903 149,-109.5904 145.5001,-119.5904 152.5001,-119.5903\" stroke=\"#000000\"/>\n",
       "</g>\n",
       "<!-- 4898219736 -->\n",
       "<g class=\"node\" id=\"node10\">\n",
       "<title>4898219736</title>\n",
       "<polygon fill=\"none\" points=\"107.5,-.5 107.5,-36.5 190.5,-36.5 190.5,-.5 107.5,-.5\" stroke=\"#000000\"/>\n",
       "<text fill=\"#000000\" font-family=\"Times,serif\" font-size=\"14.00\" text-anchor=\"middle\" x=\"149\" y=\"-14.8\">dense_2: Dense</text>\n",
       "</g>\n",
       "<!-- 4984211440&#45;&gt;4898219736 -->\n",
       "<g class=\"edge\" id=\"edge9\">\n",
       "<title>4984211440-&gt;4898219736</title>\n",
       "<path d=\"M149,-73.4551C149,-65.3828 149,-55.6764 149,-46.6817\" fill=\"none\" stroke=\"#000000\"/>\n",
       "<polygon fill=\"#000000\" points=\"152.5001,-46.5903 149,-36.5904 145.5001,-46.5904 152.5001,-46.5903\" stroke=\"#000000\"/>\n",
       "</g>\n",
       "</g>\n",
       "</svg>"
      ],
      "text/plain": [
       "<IPython.core.display.SVG object>"
      ]
     },
     "execution_count": 28,
     "metadata": {},
     "output_type": "execute_result"
    }
   ],
   "source": [
    "SVG(model_to_dot(model).create(prog='dot', format='svg'))"
   ]
  },
  {
   "cell_type": "code",
   "execution_count": null,
   "metadata": {
    "scrolled": true
   },
   "outputs": [
    {
     "name": "stdout",
     "output_type": "stream",
     "text": [
      "__________________________________________________________________________________________________\n",
      "Layer (type)                    Output Shape         Param #     Connected to                     \n",
      "==================================================================================================\n",
      "user (InputLayer)               (None, 1)            0                                            \n",
      "__________________________________________________________________________________________________\n",
      "item (InputLayer)               (None, 1)            0                                            \n",
      "__________________________________________________________________________________________________\n",
      "user_embedding (Embedding)      (None, 1, 10)        6766680     user[0][0]                       \n",
      "__________________________________________________________________________________________________\n",
      "item_embedding (Embedding)      (None, 1, 10)        188650      item[0][0]                       \n",
      "__________________________________________________________________________________________________\n",
      "reshape_3 (Reshape)             (None, 10)           0           user_embedding[0][0]             \n",
      "__________________________________________________________________________________________________\n",
      "reshape_4 (Reshape)             (None, 10)           0           item_embedding[0][0]             \n",
      "__________________________________________________________________________________________________\n",
      "concatenate_1 (Concatenate)     (None, 20)           0           reshape_3[0][0]                  \n",
      "                                                                 reshape_4[0][0]                  \n",
      "__________________________________________________________________________________________________\n",
      "dropout_1 (Dropout)             (None, 20)           0           concatenate_1[0][0]              \n",
      "__________________________________________________________________________________________________\n",
      "dense_1 (Dense)                 (None, 200)          4200        dropout_1[0][0]                  \n",
      "__________________________________________________________________________________________________\n",
      "dense_2 (Dense)                 (None, 1)            201         dense_1[0][0]                    \n",
      "==================================================================================================\n",
      "Total params: 6,959,731\n",
      "Trainable params: 6,959,731\n",
      "Non-trainable params: 0\n",
      "__________________________________________________________________________________________________\n"
     ]
    }
   ],
   "source": [
    "model.summary()"
   ]
  },
  {
   "cell_type": "code",
   "execution_count": null,
   "metadata": {},
   "outputs": [
    {
     "name": "stdout",
     "output_type": "stream",
     "text": [
      "Train on 18528427 samples, validate on 2058715 samples\n",
      "Epoch 1/20\n",
      " - 19500s - loss: 0.4248 - val_loss: 0.4977\n",
      "Epoch 2/20\n",
      " - 34050s - loss: 0.3950 - val_loss: 0.5213\n",
      "Epoch 3/20\n",
      " - 33661s - loss: 0.3845 - val_loss: 0.5777\n",
      "Epoch 4/20\n",
      " - 33855s - loss: 0.3793 - val_loss: 0.6010\n",
      "Epoch 5/20\n",
      " - 33832s - loss: 0.3762 - val_loss: 0.6522\n",
      "Epoch 6/20\n",
      " - 33872s - loss: 0.3745 - val_loss: 0.6788\n",
      "Epoch 7/20\n",
      " - 33883s - loss: 0.3728 - val_loss: 0.6666\n",
      "Epoch 8/20\n",
      " - 33831s - loss: 0.3714 - val_loss: 0.6731\n",
      "Epoch 9/20\n",
      " - 33718s - loss: 0.3703 - val_loss: 0.6370\n",
      "Epoch 10/20\n",
      " - 33581s - loss: 0.3696 - val_loss: 0.6489\n",
      "Epoch 11/20\n",
      " - 33914s - loss: 0.3691 - val_loss: 0.6306\n",
      "Epoch 12/20\n",
      " - 34017s - loss: 0.3686 - val_loss: 0.6563\n",
      "Epoch 13/20\n",
      " - 33682s - loss: 0.3683 - val_loss: 0.6582\n",
      "Epoch 14/20\n",
      " - 33758s - loss: 0.3682 - val_loss: 0.6514\n",
      "Epoch 15/20\n",
      " - 33447s - loss: 0.3683 - val_loss: 0.6506\n",
      "Epoch 16/20\n"
     ]
    }
   ],
   "source": [
    "%%time\n",
    "\n",
    "history = model.fit([ratings_train[\"id\"], ratings_train[\"appid\"]]\n",
    "                    , ratings_train[\"rate\"]\n",
    "                    , batch_size=64, epochs=20\n",
    "                    , validation_split=0.1\n",
    "                    , verbose = 2\n",
    "                    , shuffle=True)\n"
   ]
  },
  {
   "cell_type": "code",
   "execution_count": null,
   "metadata": {},
   "outputs": [],
   "source": [
    "import pickle\n",
    "\n",
    "with open('dnn200.pkl' , 'wb') as file_pi:\n",
    "    pickle.dump(history.history, file_pi)"
   ]
  },
  {
   "cell_type": "code",
   "execution_count": null,
   "metadata": {},
   "outputs": [],
   "source": [
    "histories = ['dnn200.pkl']\n",
    "\n",
    "import pickle\n",
    "for val in histories:\n",
    "    with open(val , 'rb') as file_pi:\n",
    "        thepickle = pickle.load(file_pi)\n",
    "        plt.plot(thepickle[\"loss\"],label ='loss_' + val,linestyle='--')\n",
    "        plt.plot(thepickle[\"val_loss\"],label='val_loss' + val)\n",
    "plt.legend()\n",
    "plt.ylim(0, 1)\n",
    "\n",
    "pd.DataFrame(thepickle,columns =['loss','val_loss']).head(20).transpose()"
   ]
  },
  {
   "cell_type": "code",
   "execution_count": null,
   "metadata": {},
   "outputs": [],
   "source": [
    "from sklearn.metrics import mean_squared_error\n",
    "from sklearn.metrics import mean_absolute_error\n",
    "\n",
    "train_preds = model.predict([ratings_train[\"id\"], ratings_train[\"appid\"]])\n",
    "print(\"Final train MSE: %0.3f\" % mean_squared_error(train_preds, ratings_train[\"rate\"]))\n",
    "print(\"Final train MAE: %0.3f\" % mean_absolute_error(train_preds, ratings_train[\"rate\"]))"
   ]
  },
  {
   "cell_type": "code",
   "execution_count": null,
   "metadata": {},
   "outputs": [],
   "source": [
    "test_preds = model.predict([ratings_test[\"id\"], ratings_test[\"appid\"]])\n",
    "print(\"Final test MSE: %0.3f\" % mean_squared_error(test_preds, ratings_test[\"rate\"]))\n",
    "print(\"Final test MAE: %0.3f\" % mean_absolute_error(test_preds, ratings_test[\"rate\"]))"
   ]
  },
  {
   "cell_type": "code",
   "execution_count": null,
   "metadata": {},
   "outputs": [],
   "source": [
    "# user_id_train = ratings_train['user_id']\n",
    "# item_id_train = ratings_train['item_id']\n",
    "# rating_train = ratings_train['rating']\n",
    "\n",
    "# user_id_test = ratings_test['user_id']\n",
    "# item_id_test = ratings_test['item_id']\n",
    "# rating_test = ratings_test['rating']\n",
    "\n",
    "# train_preds = model.predict([user_id_train, item_id_train])\n",
    "# print(\"Final train MSE: %0.3f\" % mean_squared_error(train_preds, rating_train))\n",
    "# print(\"Final train MAE: %0.3f\" % mean_absolute_error(train_preds, rating_train))"
   ]
  }
 ],
 "metadata": {
  "kernelspec": {
   "display_name": "Python 3",
   "language": "python",
   "name": "python3"
  },
  "language_info": {
   "codemirror_mode": {
    "name": "ipython",
    "version": 3
   },
   "file_extension": ".py",
   "mimetype": "text/x-python",
   "name": "python",
   "nbconvert_exporter": "python",
   "pygments_lexer": "ipython3",
   "version": "3.6.3"
  }
 },
 "nbformat": 4,
 "nbformat_minor": 2
}
