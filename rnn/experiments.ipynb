{
 "cells": [
  {
   "cell_type": "code",
   "execution_count": 30,
   "metadata": {},
   "outputs": [],
   "source": [
    "%matplotlib inline\n",
    "import matplotlib.pyplot as plt\n",
    "import pandas as pd"
   ]
  },
  {
   "cell_type": "markdown",
   "metadata": {},
   "source": [
    "### Ratings file\n",
    "Each line contains a rated video game:\n",
    "\n",
    "- a user\n",
    "- an item\n",
    "- a rating from 1 to 5"
   ]
  },
  {
   "cell_type": "code",
   "execution_count": 31,
   "metadata": {},
   "outputs": [
    {
     "data": {
      "text/html": [
       "<div>\n",
       "<style>\n",
       "    .dataframe thead tr:only-child th {\n",
       "        text-align: right;\n",
       "    }\n",
       "\n",
       "    .dataframe thead th {\n",
       "        text-align: left;\n",
       "    }\n",
       "\n",
       "    .dataframe tbody tr th {\n",
       "        vertical-align: top;\n",
       "    }\n",
       "</style>\n",
       "<table border=\"1\" class=\"dataframe\">\n",
       "  <thead>\n",
       "    <tr style=\"text-align: right;\">\n",
       "      <th></th>\n",
       "      <th>id</th>\n",
       "      <th>rate</th>\n",
       "      <th>appid</th>\n",
       "    </tr>\n",
       "  </thead>\n",
       "  <tbody>\n",
       "    <tr>\n",
       "      <th>0</th>\n",
       "      <td>76561197960265729</td>\n",
       "      <td>1.0</td>\n",
       "      <td>10</td>\n",
       "    </tr>\n",
       "    <tr>\n",
       "      <th>1</th>\n",
       "      <td>76561197960265729</td>\n",
       "      <td>1.0</td>\n",
       "      <td>20</td>\n",
       "    </tr>\n",
       "    <tr>\n",
       "      <th>2</th>\n",
       "      <td>76561197960265729</td>\n",
       "      <td>1.0</td>\n",
       "      <td>30</td>\n",
       "    </tr>\n",
       "    <tr>\n",
       "      <th>3</th>\n",
       "      <td>76561197960265729</td>\n",
       "      <td>1.0</td>\n",
       "      <td>40</td>\n",
       "    </tr>\n",
       "    <tr>\n",
       "      <th>4</th>\n",
       "      <td>76561197960265729</td>\n",
       "      <td>1.0</td>\n",
       "      <td>50</td>\n",
       "    </tr>\n",
       "  </tbody>\n",
       "</table>\n",
       "</div>"
      ],
      "text/plain": [
       "                  id  rate  appid\n",
       "0  76561197960265729   1.0     10\n",
       "1  76561197960265729   1.0     20\n",
       "2  76561197960265729   1.0     30\n",
       "3  76561197960265729   1.0     40\n",
       "4  76561197960265729   1.0     50"
      ]
     },
     "execution_count": 31,
     "metadata": {},
     "output_type": "execute_result"
    }
   ],
   "source": [
    "raw_ratings = pd.read_csv('ratings_latest.csv', sep=',')\n",
    "\n",
    "raw_ratings.head()"
   ]
  },
  {
   "cell_type": "markdown",
   "metadata": {},
   "source": [
    "### Metadata file\n",
    "\n",
    "This file contains information about each game, specifically:\n",
    "- item\n",
    "- name\n",
    "- genres"
   ]
  },
  {
   "cell_type": "code",
   "execution_count": 32,
   "metadata": {},
   "outputs": [
    {
     "data": {
      "text/html": [
       "<div>\n",
       "<style>\n",
       "    .dataframe thead tr:only-child th {\n",
       "        text-align: right;\n",
       "    }\n",
       "\n",
       "    .dataframe thead th {\n",
       "        text-align: left;\n",
       "    }\n",
       "\n",
       "    .dataframe tbody tr th {\n",
       "        vertical-align: top;\n",
       "    }\n",
       "</style>\n",
       "<table border=\"1\" class=\"dataframe\">\n",
       "  <thead>\n",
       "    <tr style=\"text-align: right;\">\n",
       "      <th></th>\n",
       "      <th>appid</th>\n",
       "      <th>appname</th>\n",
       "      <th>genres</th>\n",
       "    </tr>\n",
       "  </thead>\n",
       "  <tbody>\n",
       "    <tr>\n",
       "      <th>0</th>\n",
       "      <td>10</td>\n",
       "      <td>Counter-Strike</td>\n",
       "      <td>1/</td>\n",
       "    </tr>\n",
       "    <tr>\n",
       "      <th>1</th>\n",
       "      <td>20</td>\n",
       "      <td>Team Fortress Classic</td>\n",
       "      <td>1/</td>\n",
       "    </tr>\n",
       "    <tr>\n",
       "      <th>2</th>\n",
       "      <td>30</td>\n",
       "      <td>Day of Defeat</td>\n",
       "      <td>1/</td>\n",
       "    </tr>\n",
       "    <tr>\n",
       "      <th>3</th>\n",
       "      <td>40</td>\n",
       "      <td>Deathmatch Classic</td>\n",
       "      <td>1/</td>\n",
       "    </tr>\n",
       "    <tr>\n",
       "      <th>4</th>\n",
       "      <td>50</td>\n",
       "      <td>Half-Life: Opposing Force</td>\n",
       "      <td>1/</td>\n",
       "    </tr>\n",
       "  </tbody>\n",
       "</table>\n",
       "</div>"
      ],
      "text/plain": [
       "   appid                    appname genres\n",
       "0     10             Counter-Strike     1/\n",
       "1     20      Team Fortress Classic     1/\n",
       "2     30              Day of Defeat     1/\n",
       "3     40         Deathmatch Classic     1/\n",
       "4     50  Half-Life: Opposing Force     1/"
      ]
     },
     "execution_count": 32,
     "metadata": {},
     "output_type": "execute_result"
    }
   ],
   "source": [
    "items = pd.read_csv('metadata.csv', sep=',')\n",
    "\n",
    "items.head()"
   ]
  },
  {
   "cell_type": "code",
   "execution_count": 33,
   "metadata": {},
   "outputs": [
    {
     "data": {
      "text/html": [
       "<div>\n",
       "<style>\n",
       "    .dataframe thead tr:only-child th {\n",
       "        text-align: right;\n",
       "    }\n",
       "\n",
       "    .dataframe thead th {\n",
       "        text-align: left;\n",
       "    }\n",
       "\n",
       "    .dataframe tbody tr th {\n",
       "        vertical-align: top;\n",
       "    }\n",
       "</style>\n",
       "<table border=\"1\" class=\"dataframe\">\n",
       "  <thead>\n",
       "    <tr style=\"text-align: right;\">\n",
       "      <th></th>\n",
       "      <th>appid</th>\n",
       "      <th>appname</th>\n",
       "      <th>genres</th>\n",
       "      <th>id</th>\n",
       "      <th>rate</th>\n",
       "    </tr>\n",
       "  </thead>\n",
       "  <tbody>\n",
       "    <tr>\n",
       "      <th>0</th>\n",
       "      <td>10</td>\n",
       "      <td>Counter-Strike</td>\n",
       "      <td>1/</td>\n",
       "      <td>76561197960265729</td>\n",
       "      <td>1.00</td>\n",
       "    </tr>\n",
       "    <tr>\n",
       "      <th>1</th>\n",
       "      <td>10</td>\n",
       "      <td>Counter-Strike</td>\n",
       "      <td>1/</td>\n",
       "      <td>76561197960265730</td>\n",
       "      <td>2.05</td>\n",
       "    </tr>\n",
       "    <tr>\n",
       "      <th>2</th>\n",
       "      <td>10</td>\n",
       "      <td>Counter-Strike</td>\n",
       "      <td>1/</td>\n",
       "      <td>76561197960265731</td>\n",
       "      <td>1.00</td>\n",
       "    </tr>\n",
       "    <tr>\n",
       "      <th>3</th>\n",
       "      <td>10</td>\n",
       "      <td>Counter-Strike</td>\n",
       "      <td>1/</td>\n",
       "      <td>76561197960265733</td>\n",
       "      <td>1.40</td>\n",
       "    </tr>\n",
       "    <tr>\n",
       "      <th>4</th>\n",
       "      <td>10</td>\n",
       "      <td>Counter-Strike</td>\n",
       "      <td>1/</td>\n",
       "      <td>76561197960265734</td>\n",
       "      <td>1.00</td>\n",
       "    </tr>\n",
       "  </tbody>\n",
       "</table>\n",
       "</div>"
      ],
      "text/plain": [
       "   appid         appname genres                 id  rate\n",
       "0     10  Counter-Strike     1/  76561197960265729  1.00\n",
       "1     10  Counter-Strike     1/  76561197960265730  2.05\n",
       "2     10  Counter-Strike     1/  76561197960265731  1.00\n",
       "3     10  Counter-Strike     1/  76561197960265733  1.40\n",
       "4     10  Counter-Strike     1/  76561197960265734  1.00"
      ]
     },
     "execution_count": 33,
     "metadata": {},
     "output_type": "execute_result"
    }
   ],
   "source": [
    "all_ratings = pd.merge(items, raw_ratings)\n",
    "\n",
    "all_ratings.head()"
   ]
  },
  {
   "cell_type": "markdown",
   "metadata": {},
   "source": [
    "### Data pre-analysis\n",
    "Survey the data and analyze its distribution and statistics. The following are computed:\n",
    "\n",
    "- number of users\n",
    "- number of items\n",
    "- rating distribution"
   ]
  },
  {
   "cell_type": "code",
   "execution_count": 34,
   "metadata": {},
   "outputs": [
    {
     "data": {
      "text/plain": [
       "count    2.573393e+07\n",
       "mean     1.275410e+00\n",
       "std      7.960212e-01\n",
       "min      1.000000e+00\n",
       "25%      1.000000e+00\n",
       "50%      1.000000e+00\n",
       "75%      1.100000e+00\n",
       "max      5.950000e+00\n",
       "Name: rate, dtype: float64"
      ]
     },
     "execution_count": 34,
     "metadata": {},
     "output_type": "execute_result"
    }
   ],
   "source": [
    "all_ratings['rate'].describe()"
   ]
  },
  {
   "cell_type": "markdown",
   "metadata": {},
   "source": [
    "#### Maximum Stats"
   ]
  },
  {
   "cell_type": "code",
   "execution_count": 35,
   "metadata": {},
   "outputs": [
    {
     "name": "stdout",
     "output_type": "stream",
     "text": [
      "76561197973009892\n",
      "10440\n"
     ]
    }
   ],
   "source": [
    "print(all_ratings['id'].value_counts().index.tolist()[0])\n",
    "print(all_ratings['id'].value_counts().tolist()[0])"
   ]
  },
  {
   "cell_type": "markdown",
   "metadata": {},
   "source": [
    "User 76561197973009892 contains the most games in our dataset, with more than 10440 ratings."
   ]
  },
  {
   "cell_type": "code",
   "execution_count": 36,
   "metadata": {},
   "outputs": [
    {
     "name": "stdout",
     "output_type": "stream",
     "text": [
      "340\n",
      "364650\n"
     ]
    }
   ],
   "source": [
    "print(all_ratings['appid'].value_counts().index.tolist()[0])\n",
    "print(all_ratings['appid'].value_counts().tolist()[0])"
   ]
  },
  {
   "cell_type": "markdown",
   "metadata": {},
   "source": [
    "Game 15 has the most ownerships, with 364.650 owners, or about 53.89% of our user dataset."
   ]
  },
  {
   "cell_type": "markdown",
   "metadata": {},
   "source": [
    "#### User Game Statistics"
   ]
  },
  {
   "cell_type": "code",
   "execution_count": 37,
   "metadata": {},
   "outputs": [
    {
     "data": {
      "text/plain": [
       "count    676668.000000\n",
       "mean         38.030361\n",
       "std         123.929002\n",
       "min           1.000000\n",
       "25%           4.000000\n",
       "50%           8.000000\n",
       "75%          22.000000\n",
       "max       10440.000000\n",
       "Name: nb_lines, dtype: float64"
      ]
     },
     "execution_count": 37,
     "metadata": {},
     "output_type": "execute_result"
    }
   ],
   "source": [
    "users_nb = all_ratings['id'].value_counts().reset_index()\n",
    "users_nb.columns= ['id','nb_lines']\n",
    "users_nb['nb_lines'].describe()"
   ]
  },
  {
   "cell_type": "code",
   "execution_count": 38,
   "metadata": {},
   "outputs": [
    {
     "data": {
      "text/plain": [
       "<matplotlib.axes._subplots.AxesSubplot at 0x1274bb0b8>"
      ]
     },
     "execution_count": 38,
     "metadata": {},
     "output_type": "execute_result"
    },
    {
     "data": {
      "image/png": "[encoded data removed]",
      "text/plain": [
       "<matplotlib.figure.Figure at 0x1274b0128>"
      ]
     },
     "metadata": {},
     "output_type": "display_data"
    }
   ],
   "source": [
    "import seaborn\n",
    "users_nb['nb_lines'].hist()"
   ]
  },
  {
   "cell_type": "markdown",
   "metadata": {},
   "source": [
    "Half the user dataset owns not more than 8 games."
   ]
  },
  {
   "cell_type": "markdown",
   "metadata": {},
   "source": [
    "#### Game ownership stats"
   ]
  },
  {
   "cell_type": "code",
   "execution_count": 39,
   "metadata": {},
   "outputs": [
    {
     "data": {
      "text/plain": [
       "count     18865.000000\n",
       "mean       1364.109621\n",
       "std        8333.452088\n",
       "min           1.000000\n",
       "25%          13.000000\n",
       "50%          86.000000\n",
       "75%         510.000000\n",
       "max      364650.000000\n",
       "Name: nb_lines, dtype: float64"
      ]
     },
     "execution_count": 39,
     "metadata": {},
     "output_type": "execute_result"
    }
   ],
   "source": [
    "games_nb = all_ratings['appid'].value_counts().reset_index()\n",
    "games_nb.columns= ['appid','nb_lines']\n",
    "games_nb['nb_lines'].describe()"
   ]
  },
  {
   "cell_type": "code",
   "execution_count": 40,
   "metadata": {},
   "outputs": [
    {
     "data": {
      "text/plain": [
       "<matplotlib.axes._subplots.AxesSubplot at 0x1274c88d0>"
      ]
     },
     "execution_count": 40,
     "metadata": {},
     "output_type": "execute_result"
    },
    {
     "data": {
      "image/png": "[encoded data removed]",
      "text/plain": [
       "<matplotlib.figure.Figure at 0x10aad86a0>"
      ]
     },
     "metadata": {},
     "output_type": "display_data"
    }
   ],
   "source": [
    "games_nb['nb_lines'].hist()"
   ]
  },
  {
   "cell_type": "markdown",
   "metadata": {},
   "source": [
    "Half of the game dataset has no more than 86 ownerships"
   ]
  },
  {
   "cell_type": "markdown",
   "metadata": {},
   "source": [
    "### Data pre-processing"
   ]
  },
  {
   "cell_type": "code",
   "execution_count": 41,
   "metadata": {},
   "outputs": [
    {
     "name": "stdout",
     "output_type": "stream",
     "text": [
      "A total of:  676668 unique users\n",
      "A total of:  18865 unique games\n"
     ]
    }
   ],
   "source": [
    "users = all_ratings.id.unique()\n",
    "user_map = {i:val for i,val in enumerate(users)}\n",
    "inverse_user_map = {val:i for i,val in enumerate(users)}\n",
    "\n",
    "\n",
    "games = all_ratings.appid.unique()\n",
    "game_map = {i:val for i,val in enumerate(games)}\n",
    "inverse_game_map = {val:i for i,val in enumerate(games)}\n",
    "\n",
    "all_ratings[\"id\"] = all_ratings[\"id\"].map(inverse_user_map)\n",
    "\n",
    "all_ratings[\"old_id\"] = all_ratings[\"appid\"] # copying for join with metadata\n",
    "all_ratings[\"appid\"] = all_ratings[\"appid\"].map(inverse_game_map)\n",
    "\n",
    "print (\"A total of: \", users.shape[0], \"unique users\")\n",
    "print (\"A total of: \", games.shape[0], \"unique games\")"
   ]
  },
  {
   "cell_type": "code",
   "execution_count": 42,
   "metadata": {},
   "outputs": [
    {
     "data": {
      "text/html": [
       "<div>\n",
       "<style>\n",
       "    .dataframe thead tr:only-child th {\n",
       "        text-align: right;\n",
       "    }\n",
       "\n",
       "    .dataframe thead th {\n",
       "        text-align: left;\n",
       "    }\n",
       "\n",
       "    .dataframe tbody tr th {\n",
       "        vertical-align: top;\n",
       "    }\n",
       "</style>\n",
       "<table border=\"1\" class=\"dataframe\">\n",
       "  <thead>\n",
       "    <tr style=\"text-align: right;\">\n",
       "      <th></th>\n",
       "      <th>appid</th>\n",
       "      <th>appname</th>\n",
       "      <th>genres</th>\n",
       "      <th>id</th>\n",
       "      <th>rate</th>\n",
       "      <th>old_id</th>\n",
       "    </tr>\n",
       "  </thead>\n",
       "  <tbody>\n",
       "    <tr>\n",
       "      <th>543073</th>\n",
       "      <td>2</td>\n",
       "      <td>Day of Defeat</td>\n",
       "      <td>1/</td>\n",
       "      <td>100887</td>\n",
       "      <td>5.95</td>\n",
       "      <td>30</td>\n",
       "    </tr>\n",
       "    <tr>\n",
       "      <th>2433028</th>\n",
       "      <td>11</td>\n",
       "      <td>Counter-Strike: Source</td>\n",
       "      <td>1/</td>\n",
       "      <td>364830</td>\n",
       "      <td>5.95</td>\n",
       "      <td>240</td>\n",
       "    </tr>\n",
       "    <tr>\n",
       "      <th>13934442</th>\n",
       "      <td>1625</td>\n",
       "      <td>Football Manager 2013™</td>\n",
       "      <td>28/18/</td>\n",
       "      <td>560547</td>\n",
       "      <td>5.95</td>\n",
       "      <td>207890</td>\n",
       "    </tr>\n",
       "    <tr>\n",
       "      <th>25295968</th>\n",
       "      <td>13817</td>\n",
       "      <td>PLAYERUNKNOWN'S BATTLEGROUNDS</td>\n",
       "      <td>73/1/25/29/</td>\n",
       "      <td>475864</td>\n",
       "      <td>5.95</td>\n",
       "      <td>578080</td>\n",
       "    </tr>\n",
       "    <tr>\n",
       "      <th>6266506</th>\n",
       "      <td>283</td>\n",
       "      <td>BioShock Infinite</td>\n",
       "      <td>1/</td>\n",
       "      <td>428206</td>\n",
       "      <td>5.95</td>\n",
       "      <td>8870</td>\n",
       "    </tr>\n",
       "    <tr>\n",
       "      <th>23728290</th>\n",
       "      <td>8791</td>\n",
       "      <td>Raw Data</td>\n",
       "      <td>1/23/2/</td>\n",
       "      <td>280654</td>\n",
       "      <td>5.95</td>\n",
       "      <td>436320</td>\n",
       "    </tr>\n",
       "    <tr>\n",
       "      <th>6827805</th>\n",
       "      <td>333</td>\n",
       "      <td>Call of Duty®: Modern Warfare® 2</td>\n",
       "      <td>1/</td>\n",
       "      <td>446221</td>\n",
       "      <td>5.95</td>\n",
       "      <td>10190</td>\n",
       "    </tr>\n",
       "    <tr>\n",
       "      <th>24754130</th>\n",
       "      <td>11471</td>\n",
       "      <td>Panzer Warfare</td>\n",
       "      <td>1/4/23/29/28/2/70/</td>\n",
       "      <td>358534</td>\n",
       "      <td>5.95</td>\n",
       "      <td>513880</td>\n",
       "    </tr>\n",
       "    <tr>\n",
       "      <th>9434766</th>\n",
       "      <td>811</td>\n",
       "      <td>Arma 2: Operation Arrowhead</td>\n",
       "      <td>1/28/2/</td>\n",
       "      <td>404183</td>\n",
       "      <td>5.95</td>\n",
       "      <td>33930</td>\n",
       "    </tr>\n",
       "    <tr>\n",
       "      <th>18807596</th>\n",
       "      <td>2846</td>\n",
       "      <td>XCOM® 2</td>\n",
       "      <td>2/</td>\n",
       "      <td>45380</td>\n",
       "      <td>5.95</td>\n",
       "      <td>268500</td>\n",
       "    </tr>\n",
       "  </tbody>\n",
       "</table>\n",
       "</div>"
      ],
      "text/plain": [
       "          appid                           appname              genres      id  \\\n",
       "543073        2                     Day of Defeat                  1/  100887   \n",
       "2433028      11            Counter-Strike: Source                  1/  364830   \n",
       "13934442   1625            Football Manager 2013™              28/18/  560547   \n",
       "25295968  13817     PLAYERUNKNOWN'S BATTLEGROUNDS         73/1/25/29/  475864   \n",
       "6266506     283                 BioShock Infinite                  1/  428206   \n",
       "23728290   8791                          Raw Data             1/23/2/  280654   \n",
       "6827805     333  Call of Duty®: Modern Warfare® 2                  1/  446221   \n",
       "24754130  11471                    Panzer Warfare  1/4/23/29/28/2/70/  358534   \n",
       "9434766     811       Arma 2: Operation Arrowhead             1/28/2/  404183   \n",
       "18807596   2846                           XCOM® 2                  2/   45380   \n",
       "\n",
       "          rate  old_id  \n",
       "543073    5.95      30  \n",
       "2433028   5.95     240  \n",
       "13934442  5.95  207890  \n",
       "25295968  5.95  578080  \n",
       "6266506   5.95    8870  \n",
       "23728290  5.95  436320  \n",
       "6827805   5.95   10190  \n",
       "24754130  5.95  513880  \n",
       "9434766   5.95   33930  \n",
       "18807596  5.95  268500  "
      ]
     },
     "execution_count": 42,
     "metadata": {},
     "output_type": "execute_result"
    }
   ],
   "source": [
    "all_ratings.sort_values('rate', ascending=False).head(10)"
   ]
  },
  {
   "cell_type": "code",
   "execution_count": 43,
   "metadata": {},
   "outputs": [],
   "source": [
    "from sklearn.model_selection import train_test_split\n",
    "\n",
    "ratings_train, ratings_test = train_test_split(\n",
    "    all_ratings, test_size=0.2, random_state=0)"
   ]
  },
  {
   "cell_type": "code",
   "execution_count": 44,
   "metadata": {},
   "outputs": [],
   "source": [
    "import tensorflow as tf\n",
    "from keras.backend.tensorflow_backend import set_session\n",
    "config = tf.ConfigProto()\n",
    "config.gpu_options.per_process_gpu_memory_fraction \n",
    "config.gpu_options.visible_device_list = \"0\" # \"0,1\"\n",
    "set_session(tf.Session(config=config))"
   ]
  },
  {
   "cell_type": "code",
   "execution_count": 45,
   "metadata": {},
   "outputs": [],
   "source": [
    "from IPython.display import SVG\n",
    "from keras.utils.vis_utils import model_to_dot\n",
    "from keras.utils import plot_model\n",
    "import pydot"
   ]
  },
  {
   "cell_type": "code",
   "execution_count": 46,
   "metadata": {},
   "outputs": [],
   "source": [
    "from keras.models import Model\n",
    "from keras.layers import Input\n",
    "from keras.layers.core import Reshape, Dropout, Dense\n",
    "from keras.layers.merge import Multiply, Dot\n",
    "from keras.layers.embeddings import Embedding\n",
    "from keras.layers.merge import Concatenate\n",
    "from keras import optimizers\n",
    "from keras.optimizers import Adam"
   ]
  },
  {
   "cell_type": "code",
   "execution_count": 47,
   "metadata": {},
   "outputs": [],
   "source": [
    "user_id_input = Input(shape=[1], name='user')\n",
    "item_id_input = Input(shape=[1], name='item')\n",
    "\n",
    "embedding_size = 10 # 5\n",
    "user_embedding = Embedding(output_dim=embedding_size, input_dim=users.shape[0],\n",
    "                           input_length=1, name='user_embedding')(user_id_input)\n",
    "item_embedding = Embedding(output_dim=embedding_size, input_dim=games.shape[0],\n",
    "                           input_length=1, name='item_embedding')(item_id_input)\n",
    "\n",
    "user_vecs = Reshape([embedding_size])(user_embedding)\n",
    "item_vecs = Reshape([embedding_size])(item_embedding)\n",
    "\n",
    "input_vecs = Concatenate()([user_vecs, item_vecs])\n",
    "\n",
    "input_vecs = Dropout(0.3)(input_vecs)\n",
    "x = Dense(70, activation='relu')(input_vecs)\n",
    "# x = Dense(128, activation='relu')(x)\n",
    "x = Dropout(0.75)(x)\n",
    "y = Dense(1)(x)\n",
    "\n",
    "\n",
    "model = Model(inputs=[user_id_input, item_id_input], outputs=y)\n",
    "# model.compile(optimizer='adam', loss='mse')\n",
    "model.compile(Adam(0.001), loss='mse')"
   ]
  },
  {
   "cell_type": "code",
   "execution_count": 48,
   "metadata": {},
   "outputs": [
    {
     "name": "stdout",
     "output_type": "stream",
     "text": [
      "Initial train MSE: 2.279\n",
      "Initial train MAE: 1.283\n"
     ]
    }
   ],
   "source": [
    "from sklearn.metrics import mean_squared_error\n",
    "from sklearn.metrics import mean_absolute_error\n",
    "\n",
    "initial_train_preds = model.predict([ratings_train[\"id\"], ratings_train[\"appid\"]])\n",
    "print(\"Initial train MSE: %0.3f\" % mean_squared_error(initial_train_preds, ratings_train[\"rate\"]))\n",
    "print(\"Initial train MAE: %0.3f\" % mean_absolute_error(initial_train_preds, ratings_train[\"rate\"]))"
   ]
  },
  {
   "cell_type": "code",
   "execution_count": 49,
   "metadata": {},
   "outputs": [
    {
     "name": "stdout",
     "output_type": "stream",
     "text": [
      "Initial test MSE: 2.281\n",
      "Initial test MAE: 1.283\n"
     ]
    }
   ],
   "source": [
    "initial_test_preds = model.predict([ratings_test[\"id\"], ratings_test[\"appid\"]])\n",
    "print(\"Initial test MSE: %0.3f\" % mean_squared_error(initial_test_preds, ratings_test[\"rate\"]))\n",
    "print(\"Initial test MAE: %0.3f\" % mean_absolute_error(initial_test_preds, ratings_test[\"rate\"]))"
   ]
  },
  {
   "cell_type": "code",
   "execution_count": 50,
   "metadata": {},
   "outputs": [
    {
     "data": {
      "image/svg+xml": [
       "<svg height=\"556pt\" viewBox=\"0.00 0.00 307.50 556.00\" width=\"308pt\" xmlns=\"http://www.w3.org/2000/svg\" xmlns:xlink=\"http://www.w3.org/1999/xlink\">\n",
       "<g class=\"graph\" id=\"graph0\" transform=\"scale(1 1) rotate(0) translate(4 552)\">\n",
       "<title>G</title>\n",
       "<polygon fill=\"#ffffff\" points=\"-4,4 -4,-552 303.5,-552 303.5,4 -4,4\" stroke=\"transparent\"/>\n",
       "<!-- 5041357040 -->\n",
       "<g class=\"node\" id=\"node1\">\n",
       "<title>5041357040</title>\n",
       "<polygon fill=\"none\" points=\"27,-511.5 27,-547.5 113,-547.5 113,-511.5 27,-511.5\" stroke=\"#000000\"/>\n",
       "<text fill=\"#000000\" font-family=\"Times,serif\" font-size=\"14.00\" text-anchor=\"middle\" x=\"70\" y=\"-525.8\">user: InputLayer</text>\n",
       "</g>\n",
       "<!-- 5041357488 -->\n",
       "<g class=\"node\" id=\"node3\">\n",
       "<title>5041357488</title>\n",
       "<polygon fill=\"none\" points=\"0,-438.5 0,-474.5 140,-474.5 140,-438.5 0,-438.5\" stroke=\"#000000\"/>\n",
       "<text fill=\"#000000\" font-family=\"Times,serif\" font-size=\"14.00\" text-anchor=\"middle\" x=\"70\" y=\"-452.8\">user_embedding: Embedding</text>\n",
       "</g>\n",
       "<!-- 5041357040&#45;&gt;5041357488 -->\n",
       "<g class=\"edge\" id=\"edge1\">\n",
       "<title>5041357040-&gt;5041357488</title>\n",
       "<path d=\"M70,-511.4551C70,-503.3828 70,-493.6764 70,-484.6817\" fill=\"none\" stroke=\"#000000\"/>\n",
       "<polygon fill=\"#000000\" points=\"73.5001,-484.5903 70,-474.5904 66.5001,-484.5904 73.5001,-484.5903\" stroke=\"#000000\"/>\n",
       "</g>\n",
       "<!-- 5041357152 -->\n",
       "<g class=\"node\" id=\"node2\">\n",
       "<title>5041357152</title>\n",
       "<polygon fill=\"none\" points=\"185.5,-511.5 185.5,-547.5 272.5,-547.5 272.5,-511.5 185.5,-511.5\" stroke=\"#000000\"/>\n",
       "<text fill=\"#000000\" font-family=\"Times,serif\" font-size=\"14.00\" text-anchor=\"middle\" x=\"229\" y=\"-525.8\">item: InputLayer</text>\n",
       "</g>\n",
       "<!-- 4474566920 -->\n",
       "<g class=\"node\" id=\"node4\">\n",
       "<title>4474566920</title>\n",
       "<polygon fill=\"none\" points=\"158.5,-438.5 158.5,-474.5 299.5,-474.5 299.5,-438.5 158.5,-438.5\" stroke=\"#000000\"/>\n",
       "<text fill=\"#000000\" font-family=\"Times,serif\" font-size=\"14.00\" text-anchor=\"middle\" x=\"229\" y=\"-452.8\">item_embedding: Embedding</text>\n",
       "</g>\n",
       "<!-- 5041357152&#45;&gt;4474566920 -->\n",
       "<g class=\"edge\" id=\"edge2\">\n",
       "<title>5041357152-&gt;4474566920</title>\n",
       "<path d=\"M229,-511.4551C229,-503.3828 229,-493.6764 229,-484.6817\" fill=\"none\" stroke=\"#000000\"/>\n",
       "<polygon fill=\"#000000\" points=\"232.5001,-484.5903 229,-474.5904 225.5001,-484.5904 232.5001,-484.5903\" stroke=\"#000000\"/>\n",
       "</g>\n",
       "<!-- 4474566472 -->\n",
       "<g class=\"node\" id=\"node5\">\n",
       "<title>4474566472</title>\n",
       "<polygon fill=\"none\" points=\"39,-365.5 39,-401.5 139,-401.5 139,-365.5 39,-365.5\" stroke=\"#000000\"/>\n",
       "<text fill=\"#000000\" font-family=\"Times,serif\" font-size=\"14.00\" text-anchor=\"middle\" x=\"89\" y=\"-379.8\">reshape_9: Reshape</text>\n",
       "</g>\n",
       "<!-- 5041357488&#45;&gt;4474566472 -->\n",
       "<g class=\"edge\" id=\"edge3\">\n",
       "<title>5041357488-&gt;4474566472</title>\n",
       "<path d=\"M74.6966,-438.4551C76.8205,-430.2951 79.3789,-420.4652 81.7413,-411.3887\" fill=\"none\" stroke=\"#000000\"/>\n",
       "<polygon fill=\"#000000\" points=\"85.1598,-412.1496 84.2916,-401.5904 78.3855,-410.3863 85.1598,-412.1496\" stroke=\"#000000\"/>\n",
       "</g>\n",
       "<!-- 4951380432 -->\n",
       "<g class=\"node\" id=\"node6\">\n",
       "<title>4951380432</title>\n",
       "<polygon fill=\"none\" points=\"166.5,-365.5 166.5,-401.5 271.5,-401.5 271.5,-365.5 166.5,-365.5\" stroke=\"#000000\"/>\n",
       "<text fill=\"#000000\" font-family=\"Times,serif\" font-size=\"14.00\" text-anchor=\"middle\" x=\"219\" y=\"-379.8\">reshape_10: Reshape</text>\n",
       "</g>\n",
       "<!-- 4474566920&#45;&gt;4951380432 -->\n",
       "<g class=\"edge\" id=\"edge4\">\n",
       "<title>4474566920-&gt;4951380432</title>\n",
       "<path d=\"M226.5281,-438.4551C225.4223,-430.3828 224.0927,-420.6764 222.8605,-411.6817\" fill=\"none\" stroke=\"#000000\"/>\n",
       "<polygon fill=\"#000000\" points=\"226.303,-411.0228 221.4781,-401.5904 219.3678,-411.9729 226.303,-411.0228\" stroke=\"#000000\"/>\n",
       "</g>\n",
       "<!-- 5041358216 -->\n",
       "<g class=\"node\" id=\"node7\">\n",
       "<title>5041358216</title>\n",
       "<polygon fill=\"none\" points=\"82,-292.5 82,-328.5 216,-328.5 216,-292.5 82,-292.5\" stroke=\"#000000\"/>\n",
       "<text fill=\"#000000\" font-family=\"Times,serif\" font-size=\"14.00\" text-anchor=\"middle\" x=\"149\" y=\"-306.8\">concatenate_5: Concatenate</text>\n",
       "</g>\n",
       "<!-- 4474566472&#45;&gt;5041358216 -->\n",
       "<g class=\"edge\" id=\"edge5\">\n",
       "<title>4474566472-&gt;5041358216</title>\n",
       "<path d=\"M103.8315,-365.4551C111.0431,-356.6809 119.8417,-345.9759 127.751,-336.353\" fill=\"none\" stroke=\"#000000\"/>\n",
       "<polygon fill=\"#000000\" points=\"130.4854,-338.5382 134.1312,-328.5904 125.0776,-334.0934 130.4854,-338.5382\" stroke=\"#000000\"/>\n",
       "</g>\n",
       "<!-- 4951380432&#45;&gt;5041358216 -->\n",
       "<g class=\"edge\" id=\"edge6\">\n",
       "<title>4951380432-&gt;5041358216</title>\n",
       "<path d=\"M201.6966,-365.4551C193.1989,-356.5932 182.8125,-345.7616 173.514,-336.0646\" fill=\"none\" stroke=\"#000000\"/>\n",
       "<polygon fill=\"#000000\" points=\"175.7944,-333.3858 166.3469,-328.5904 170.7419,-338.2306 175.7944,-333.3858\" stroke=\"#000000\"/>\n",
       "</g>\n",
       "<!-- 5041357880 -->\n",
       "<g class=\"node\" id=\"node8\">\n",
       "<title>5041357880</title>\n",
       "<polygon fill=\"none\" points=\"99,-219.5 99,-255.5 199,-255.5 199,-219.5 99,-219.5\" stroke=\"#000000\"/>\n",
       "<text fill=\"#000000\" font-family=\"Times,serif\" font-size=\"14.00\" text-anchor=\"middle\" x=\"149\" y=\"-233.8\">dropout_9: Dropout</text>\n",
       "</g>\n",
       "<!-- 5041358216&#45;&gt;5041357880 -->\n",
       "<g class=\"edge\" id=\"edge7\">\n",
       "<title>5041358216-&gt;5041357880</title>\n",
       "<path d=\"M149,-292.4551C149,-284.3828 149,-274.6764 149,-265.6817\" fill=\"none\" stroke=\"#000000\"/>\n",
       "<polygon fill=\"#000000\" points=\"152.5001,-265.5903 149,-255.5904 145.5001,-265.5904 152.5001,-265.5903\" stroke=\"#000000\"/>\n",
       "</g>\n",
       "<!-- 5041359560 -->\n",
       "<g class=\"node\" id=\"node9\">\n",
       "<title>5041359560</title>\n",
       "<polygon fill=\"none\" points=\"107.5,-146.5 107.5,-182.5 190.5,-182.5 190.5,-146.5 107.5,-146.5\" stroke=\"#000000\"/>\n",
       "<text fill=\"#000000\" font-family=\"Times,serif\" font-size=\"14.00\" text-anchor=\"middle\" x=\"149\" y=\"-160.8\">dense_9: Dense</text>\n",
       "</g>\n",
       "<!-- 5041357880&#45;&gt;5041359560 -->\n",
       "<g class=\"edge\" id=\"edge8\">\n",
       "<title>5041357880-&gt;5041359560</title>\n",
       "<path d=\"M149,-219.4551C149,-211.3828 149,-201.6764 149,-192.6817\" fill=\"none\" stroke=\"#000000\"/>\n",
       "<polygon fill=\"#000000\" points=\"152.5001,-192.5903 149,-182.5904 145.5001,-192.5904 152.5001,-192.5903\" stroke=\"#000000\"/>\n",
       "</g>\n",
       "<!-- 5041347160 -->\n",
       "<g class=\"node\" id=\"node10\">\n",
       "<title>5041347160</title>\n",
       "<polygon fill=\"none\" points=\"96.5,-73.5 96.5,-109.5 201.5,-109.5 201.5,-73.5 96.5,-73.5\" stroke=\"#000000\"/>\n",
       "<text fill=\"#000000\" font-family=\"Times,serif\" font-size=\"14.00\" text-anchor=\"middle\" x=\"149\" y=\"-87.8\">dropout_10: Dropout</text>\n",
       "</g>\n",
       "<!-- 5041359560&#45;&gt;5041347160 -->\n",
       "<g class=\"edge\" id=\"edge9\">\n",
       "<title>5041359560-&gt;5041347160</title>\n",
       "<path d=\"M149,-146.4551C149,-138.3828 149,-128.6764 149,-119.6817\" fill=\"none\" stroke=\"#000000\"/>\n",
       "<polygon fill=\"#000000\" points=\"152.5001,-119.5903 149,-109.5904 145.5001,-119.5904 152.5001,-119.5903\" stroke=\"#000000\"/>\n",
       "</g>\n",
       "<!-- 5042040056 -->\n",
       "<g class=\"node\" id=\"node11\">\n",
       "<title>5042040056</title>\n",
       "<polygon fill=\"none\" points=\"105,-.5 105,-36.5 193,-36.5 193,-.5 105,-.5\" stroke=\"#000000\"/>\n",
       "<text fill=\"#000000\" font-family=\"Times,serif\" font-size=\"14.00\" text-anchor=\"middle\" x=\"149\" y=\"-14.8\">dense_10: Dense</text>\n",
       "</g>\n",
       "<!-- 5041347160&#45;&gt;5042040056 -->\n",
       "<g class=\"edge\" id=\"edge10\">\n",
       "<title>5041347160-&gt;5042040056</title>\n",
       "<path d=\"M149,-73.4551C149,-65.3828 149,-55.6764 149,-46.6817\" fill=\"none\" stroke=\"#000000\"/>\n",
       "<polygon fill=\"#000000\" points=\"152.5001,-46.5903 149,-36.5904 145.5001,-46.5904 152.5001,-46.5903\" stroke=\"#000000\"/>\n",
       "</g>\n",
       "</g>\n",
       "</svg>"
      ],
      "text/plain": [
       "<IPython.core.display.SVG object>"
      ]
     },
     "execution_count": 50,
     "metadata": {},
     "output_type": "execute_result"
    }
   ],
   "source": [
    "SVG(model_to_dot(model).create(prog='dot', format='svg'))"
   ]
  },
  {
   "cell_type": "code",
   "execution_count": 51,
   "metadata": {
    "scrolled": true
   },
   "outputs": [
    {
     "name": "stdout",
     "output_type": "stream",
     "text": [
      "__________________________________________________________________________________________________\n",
      "Layer (type)                    Output Shape         Param #     Connected to                     \n",
      "==================================================================================================\n",
      "user (InputLayer)               (None, 1)            0                                            \n",
      "__________________________________________________________________________________________________\n",
      "item (InputLayer)               (None, 1)            0                                            \n",
      "__________________________________________________________________________________________________\n",
      "user_embedding (Embedding)      (None, 1, 10)        6766680     user[0][0]                       \n",
      "__________________________________________________________________________________________________\n",
      "item_embedding (Embedding)      (None, 1, 10)        188650      item[0][0]                       \n",
      "__________________________________________________________________________________________________\n",
      "reshape_9 (Reshape)             (None, 10)           0           user_embedding[0][0]             \n",
      "__________________________________________________________________________________________________\n",
      "reshape_10 (Reshape)            (None, 10)           0           item_embedding[0][0]             \n",
      "__________________________________________________________________________________________________\n",
      "concatenate_5 (Concatenate)     (None, 20)           0           reshape_9[0][0]                  \n",
      "                                                                 reshape_10[0][0]                 \n",
      "__________________________________________________________________________________________________\n",
      "dropout_9 (Dropout)             (None, 20)           0           concatenate_5[0][0]              \n",
      "__________________________________________________________________________________________________\n",
      "dense_9 (Dense)                 (None, 70)           1470        dropout_9[0][0]                  \n",
      "__________________________________________________________________________________________________\n",
      "dropout_10 (Dropout)            (None, 70)           0           dense_9[0][0]                    \n",
      "__________________________________________________________________________________________________\n",
      "dense_10 (Dense)                (None, 1)            71          dropout_10[0][0]                 \n",
      "==================================================================================================\n",
      "Total params: 6,956,871\n",
      "Trainable params: 6,956,871\n",
      "Non-trainable params: 0\n",
      "__________________________________________________________________________________________________\n"
     ]
    }
   ],
   "source": [
    "model.summary()"
   ]
  },
  {
   "cell_type": "code",
   "execution_count": 52,
   "metadata": {},
   "outputs": [],
   "source": [
    "# initial_train_preds_nn = model.predict([ratings_train[\"id\"], ratings_train[\"appid\"]])"
   ]
  },
  {
   "cell_type": "code",
   "execution_count": 53,
   "metadata": {},
   "outputs": [
    {
     "name": "stdout",
     "output_type": "stream",
     "text": [
      "Train on 20587142 samples, validate on 5146786 samples\n",
      "Epoch 1/20\n",
      " - 38053s - loss: 0.4389 - val_loss: 0.4042\n",
      "Epoch 2/20\n",
      " - 37759s - loss: 0.4154 - val_loss: 0.4002\n",
      "Epoch 3/20\n",
      " - 37830s - loss: 0.4066 - val_loss: 0.3967\n",
      "Epoch 4/20\n",
      " - 37685s - loss: 0.4011 - val_loss: 0.4025\n",
      "Epoch 5/20\n",
      " - 37787s - loss: 0.3978 - val_loss: 0.3986\n",
      "Epoch 6/20\n",
      " - 37753s - loss: 0.3951 - val_loss: 0.3995\n",
      "Epoch 7/20\n",
      " - 37662s - loss: 0.3929 - val_loss: 0.4052\n",
      "Epoch 8/20\n",
      " - 37582s - loss: 0.3912 - val_loss: 0.4034\n",
      "Epoch 9/20\n",
      " - 37692s - loss: 0.3900 - val_loss: 0.4028\n",
      "Epoch 10/20\n",
      " - 37919s - loss: 0.3891 - val_loss: 0.4071\n",
      "Epoch 11/20\n",
      " - 37669s - loss: 0.3883 - val_loss: 0.4076\n",
      "Epoch 12/20\n",
      " - 37592s - loss: 0.3880 - val_loss: 0.4033\n",
      "Epoch 13/20\n",
      " - 39267s - loss: 0.3871 - val_loss: 0.4028\n",
      "Epoch 14/20\n",
      " - 38407s - loss: 0.3864 - val_loss: 0.4046\n",
      "Epoch 15/20\n",
      " - 37487s - loss: 0.3860 - val_loss: 0.4080\n",
      "Epoch 16/20\n",
      " - 39041s - loss: 0.3856 - val_loss: 0.4119\n",
      "Epoch 17/20\n",
      " - 37359s - loss: 0.3857 - val_loss: 0.4103\n",
      "Epoch 18/20\n",
      " - 19493s - loss: 0.3853 - val_loss: 0.4051\n",
      "Epoch 19/20\n",
      " - 20179s - loss: 0.3851 - val_loss: 0.4061\n",
      "Epoch 20/20\n",
      " - 19186s - loss: 0.3852 - val_loss: 0.4113\n",
      "CPU times: user 13d 3h 58min 29s, sys: 3d 8h 41min 26s, total: 16d 12h 39min 55s\n",
      "Wall time: 8d 3h 23min 25s\n"
     ]
    }
   ],
   "source": [
    "%%time\n",
    "\n",
    "history = model.fit([ratings_train[\"id\"], ratings_train[\"appid\"]]\n",
    "                    , ratings_train[\"rate\"]\n",
    "                    , validation_data = ([ratings_test[\"id\"], ratings_test[\"appid\"]], ratings_test[\"rate\"])\n",
    "                    , batch_size=64, epochs=20\n",
    "                    , validation_split=0.1\n",
    "                    , verbose = 2\n",
    "                    , shuffle=True)\n"
   ]
  },
  {
   "cell_type": "code",
   "execution_count": 54,
   "metadata": {},
   "outputs": [],
   "source": [
    "import pickle\n",
    "\n",
    "with open('dense70.pkl' , 'wb') as file_pi:\n",
    "    pickle.dump(history.history, file_pi)"
   ]
  },
  {
   "cell_type": "code",
   "execution_count": 55,
   "metadata": {},
   "outputs": [
    {
     "data": {
      "text/html": [
       "<div>\n",
       "<style>\n",
       "    .dataframe thead tr:only-child th {\n",
       "        text-align: right;\n",
       "    }\n",
       "\n",
       "    .dataframe thead th {\n",
       "        text-align: left;\n",
       "    }\n",
       "\n",
       "    .dataframe tbody tr th {\n",
       "        vertical-align: top;\n",
       "    }\n",
       "</style>\n",
       "<table border=\"1\" class=\"dataframe\">\n",
       "  <thead>\n",
       "    <tr style=\"text-align: right;\">\n",
       "      <th></th>\n",
       "      <th>0</th>\n",
       "      <th>1</th>\n",
       "      <th>2</th>\n",
       "      <th>3</th>\n",
       "      <th>4</th>\n",
       "      <th>5</th>\n",
       "      <th>6</th>\n",
       "      <th>7</th>\n",
       "      <th>8</th>\n",
       "      <th>9</th>\n",
       "      <th>10</th>\n",
       "      <th>11</th>\n",
       "      <th>12</th>\n",
       "      <th>13</th>\n",
       "      <th>14</th>\n",
       "      <th>15</th>\n",
       "      <th>16</th>\n",
       "      <th>17</th>\n",
       "      <th>18</th>\n",
       "      <th>19</th>\n",
       "    </tr>\n",
       "  </thead>\n",
       "  <tbody>\n",
       "    <tr>\n",
       "      <th>loss</th>\n",
       "      <td>0.438926</td>\n",
       "      <td>0.415372</td>\n",
       "      <td>0.40656</td>\n",
       "      <td>0.401054</td>\n",
       "      <td>0.397784</td>\n",
       "      <td>0.395111</td>\n",
       "      <td>0.392864</td>\n",
       "      <td>0.391222</td>\n",
       "      <td>0.389958</td>\n",
       "      <td>0.389102</td>\n",
       "      <td>0.388287</td>\n",
       "      <td>0.387991</td>\n",
       "      <td>0.387057</td>\n",
       "      <td>0.386362</td>\n",
       "      <td>0.386012</td>\n",
       "      <td>0.385635</td>\n",
       "      <td>0.385662</td>\n",
       "      <td>0.385306</td>\n",
       "      <td>0.385104</td>\n",
       "      <td>0.385151</td>\n",
       "    </tr>\n",
       "    <tr>\n",
       "      <th>val_loss</th>\n",
       "      <td>0.404163</td>\n",
       "      <td>0.400179</td>\n",
       "      <td>0.39673</td>\n",
       "      <td>0.402464</td>\n",
       "      <td>0.398603</td>\n",
       "      <td>0.399531</td>\n",
       "      <td>0.405217</td>\n",
       "      <td>0.403373</td>\n",
       "      <td>0.402757</td>\n",
       "      <td>0.407068</td>\n",
       "      <td>0.407623</td>\n",
       "      <td>0.403302</td>\n",
       "      <td>0.402815</td>\n",
       "      <td>0.404582</td>\n",
       "      <td>0.408002</td>\n",
       "      <td>0.411909</td>\n",
       "      <td>0.410331</td>\n",
       "      <td>0.405127</td>\n",
       "      <td>0.406132</td>\n",
       "      <td>0.411312</td>\n",
       "    </tr>\n",
       "  </tbody>\n",
       "</table>\n",
       "</div>"
      ],
      "text/plain": [
       "                0         1        2         3         4         5         6   \\\n",
       "loss      0.438926  0.415372  0.40656  0.401054  0.397784  0.395111  0.392864   \n",
       "val_loss  0.404163  0.400179  0.39673  0.402464  0.398603  0.399531  0.405217   \n",
       "\n",
       "                7         8         9         10        11        12  \\\n",
       "loss      0.391222  0.389958  0.389102  0.388287  0.387991  0.387057   \n",
       "val_loss  0.403373  0.402757  0.407068  0.407623  0.403302  0.402815   \n",
       "\n",
       "                13        14        15        16        17        18        19  \n",
       "loss      0.386362  0.386012  0.385635  0.385662  0.385306  0.385104  0.385151  \n",
       "val_loss  0.404582  0.408002  0.411909  0.410331  0.405127  0.406132  0.411312  "
      ]
     },
     "execution_count": 55,
     "metadata": {},
     "output_type": "execute_result"
    },
    {
     "data": {
      "image/png": "[encoded data removed]",
      "text/plain": [
       "<matplotlib.figure.Figure at 0x157480c88>"
      ]
     },
     "metadata": {},
     "output_type": "display_data"
    }
   ],
   "source": [
    "histories = ['dense70.pkl']\n",
    "\n",
    "import pickle\n",
    "for val in histories:\n",
    "    with open(val , 'rb') as file_pi:\n",
    "        thepickle = pickle.load(file_pi)\n",
    "        plt.plot(thepickle[\"loss\"],label ='loss_' + val,linestyle='--')\n",
    "        plt.plot(thepickle[\"val_loss\"],label='val_loss' + val)\n",
    "plt.legend()\n",
    "plt.ylim(0, 1)\n",
    "\n",
    "pd.DataFrame(thepickle,columns =['loss','val_loss']).head(20).transpose()"
   ]
  },
  {
   "cell_type": "code",
   "execution_count": 56,
   "metadata": {},
   "outputs": [
    {
     "name": "stdout",
     "output_type": "stream",
     "text": [
      "Final train MSE: 0.353\n",
      "Final train MAE: 0.261\n"
     ]
    }
   ],
   "source": [
    "from sklearn.metrics import mean_squared_error\n",
    "from sklearn.metrics import mean_absolute_error\n",
    "\n",
    "train_preds = model.predict([ratings_train[\"id\"], ratings_train[\"appid\"]])\n",
    "print(\"Final train MSE: %0.3f\" % mean_squared_error(train_preds, ratings_train[\"rate\"]))\n",
    "print(\"Final train MAE: %0.3f\" % mean_absolute_error(train_preds, ratings_train[\"rate\"]))"
   ]
  },
  {
   "cell_type": "code",
   "execution_count": 57,
   "metadata": {},
   "outputs": [
    {
     "name": "stdout",
     "output_type": "stream",
     "text": [
      "Final train MSE: 0.411\n",
      "Final train MAE: 0.281\n"
     ]
    }
   ],
   "source": [
    "test_preds = model.predict([ratings_test[\"id\"], ratings_test[\"appid\"]])\n",
    "print(\"Final train MSE: %0.3f\" % mean_squared_error(test_preds, ratings_test[\"rate\"]))\n",
    "print(\"Final train MAE: %0.3f\" % mean_absolute_error(test_preds, ratings_test[\"rate\"]))"
   ]
  },
  {
   "cell_type": "code",
   "execution_count": 59,
   "metadata": {},
   "outputs": [],
   "source": [
    "model.save('dense70.h5')"
   ]
  },
  {
   "cell_type": "code",
   "execution_count": 60,
   "metadata": {},
   "outputs": [
    {
     "name": "stdout",
     "output_type": "stream",
     "text": [
      "5146786/5146786 [==============================] - 114s 22us/step\n"
     ]
    }
   ],
   "source": [
    "loss = model.evaluate([ratings_test[\"id\"], ratings_test[\"appid\"]], ratings_test[\"rate\"])"
   ]
  },
  {
   "cell_type": "code",
   "execution_count": 61,
   "metadata": {},
   "outputs": [
    {
     "name": "stdout",
     "output_type": "stream",
     "text": [
      "0.411312131531\n"
     ]
    }
   ],
   "source": [
    "print(loss)"
   ]
  },
  {
   "cell_type": "markdown",
   "metadata": {
    "collapsed": true
   },
   "source": [
    "### Experimenting with recurrent layers"
   ]
  },
  {
   "cell_type": "code",
   "execution_count": 58,
   "metadata": {},
   "outputs": [
    {
     "ename": "ValueError",
     "evalue": "Input 0 is incompatible with layer gru_1: expected ndim=3, found ndim=2",
     "output_type": "error",
     "traceback": [
      "\u001b[0;31m---------------------------------------------------------------------------\u001b[0m",
      "\u001b[0;31mValueError\u001b[0m                                Traceback (most recent call last)",
      "\u001b[0;32m<ipython-input-58-a8f5a0022a4f>\u001b[0m in \u001b[0;36m<module>\u001b[0;34m()\u001b[0m\n\u001b[1;32m     17\u001b[0m \u001b[0;34m\u001b[0m\u001b[0m\n\u001b[1;32m     18\u001b[0m \u001b[0minput_vecs\u001b[0m \u001b[0;34m=\u001b[0m \u001b[0mDropout\u001b[0m\u001b[0;34m(\u001b[0m\u001b[0;36m0.3\u001b[0m\u001b[0;34m)\u001b[0m\u001b[0;34m(\u001b[0m\u001b[0minput_vecs\u001b[0m\u001b[0;34m)\u001b[0m\u001b[0;34m\u001b[0m\u001b[0m\n\u001b[0;32m---> 19\u001b[0;31m \u001b[0mx\u001b[0m \u001b[0;34m=\u001b[0m \u001b[0mGRU\u001b[0m\u001b[0;34m(\u001b[0m\u001b[0;36m70\u001b[0m\u001b[0;34m)\u001b[0m\u001b[0;34m(\u001b[0m\u001b[0minput_vecs\u001b[0m\u001b[0;34m)\u001b[0m\u001b[0;34m\u001b[0m\u001b[0m\n\u001b[0m\u001b[1;32m     20\u001b[0m \u001b[0;34m\u001b[0m\u001b[0m\n\u001b[1;32m     21\u001b[0m \u001b[0mx\u001b[0m \u001b[0;34m=\u001b[0m \u001b[0mDropout\u001b[0m\u001b[0;34m(\u001b[0m\u001b[0;36m0.75\u001b[0m\u001b[0;34m)\u001b[0m\u001b[0;34m(\u001b[0m\u001b[0mx\u001b[0m\u001b[0;34m)\u001b[0m\u001b[0;34m\u001b[0m\u001b[0m\n",
      "\u001b[0;32m/anaconda3/lib/python3.6/site-packages/keras/layers/recurrent.py\u001b[0m in \u001b[0;36m__call__\u001b[0;34m(self, inputs, initial_state, constants, **kwargs)\u001b[0m\n\u001b[1;32m    497\u001b[0m \u001b[0;34m\u001b[0m\u001b[0m\n\u001b[1;32m    498\u001b[0m         \u001b[0;32mif\u001b[0m \u001b[0minitial_state\u001b[0m \u001b[0;32mis\u001b[0m \u001b[0;32mNone\u001b[0m \u001b[0;32mand\u001b[0m \u001b[0mconstants\u001b[0m \u001b[0;32mis\u001b[0m \u001b[0;32mNone\u001b[0m\u001b[0;34m:\u001b[0m\u001b[0;34m\u001b[0m\u001b[0m\n\u001b[0;32m--> 499\u001b[0;31m             \u001b[0;32mreturn\u001b[0m \u001b[0msuper\u001b[0m\u001b[0;34m(\u001b[0m\u001b[0mRNN\u001b[0m\u001b[0;34m,\u001b[0m \u001b[0mself\u001b[0m\u001b[0;34m)\u001b[0m\u001b[0;34m.\u001b[0m\u001b[0m__call__\u001b[0m\u001b[0;34m(\u001b[0m\u001b[0minputs\u001b[0m\u001b[0;34m,\u001b[0m \u001b[0;34m**\u001b[0m\u001b[0mkwargs\u001b[0m\u001b[0;34m)\u001b[0m\u001b[0;34m\u001b[0m\u001b[0m\n\u001b[0m\u001b[1;32m    500\u001b[0m \u001b[0;34m\u001b[0m\u001b[0m\n\u001b[1;32m    501\u001b[0m         \u001b[0;31m# If any of `initial_state` or `constants` are specified and are Keras\u001b[0m\u001b[0;34m\u001b[0m\u001b[0;34m\u001b[0m\u001b[0m\n",
      "\u001b[0;32m/anaconda3/lib/python3.6/site-packages/keras/engine/topology.py\u001b[0m in \u001b[0;36m__call__\u001b[0;34m(self, inputs, **kwargs)\u001b[0m\n\u001b[1;32m    571\u001b[0m                 \u001b[0;31m# Raise exceptions in case the input is not compatible\u001b[0m\u001b[0;34m\u001b[0m\u001b[0;34m\u001b[0m\u001b[0m\n\u001b[1;32m    572\u001b[0m                 \u001b[0;31m# with the input_spec specified in the layer constructor.\u001b[0m\u001b[0;34m\u001b[0m\u001b[0;34m\u001b[0m\u001b[0m\n\u001b[0;32m--> 573\u001b[0;31m                 \u001b[0mself\u001b[0m\u001b[0;34m.\u001b[0m\u001b[0massert_input_compatibility\u001b[0m\u001b[0;34m(\u001b[0m\u001b[0minputs\u001b[0m\u001b[0;34m)\u001b[0m\u001b[0;34m\u001b[0m\u001b[0m\n\u001b[0m\u001b[1;32m    574\u001b[0m \u001b[0;34m\u001b[0m\u001b[0m\n\u001b[1;32m    575\u001b[0m                 \u001b[0;31m# Collect input shapes to build layer.\u001b[0m\u001b[0;34m\u001b[0m\u001b[0;34m\u001b[0m\u001b[0m\n",
      "\u001b[0;32m/anaconda3/lib/python3.6/site-packages/keras/engine/topology.py\u001b[0m in \u001b[0;36massert_input_compatibility\u001b[0;34m(self, inputs)\u001b[0m\n\u001b[1;32m    470\u001b[0m                                      \u001b[0mself\u001b[0m\u001b[0;34m.\u001b[0m\u001b[0mname\u001b[0m \u001b[0;34m+\u001b[0m \u001b[0;34m': expected ndim='\u001b[0m \u001b[0;34m+\u001b[0m\u001b[0;34m\u001b[0m\u001b[0m\n\u001b[1;32m    471\u001b[0m                                      \u001b[0mstr\u001b[0m\u001b[0;34m(\u001b[0m\u001b[0mspec\u001b[0m\u001b[0;34m.\u001b[0m\u001b[0mndim\u001b[0m\u001b[0;34m)\u001b[0m \u001b[0;34m+\u001b[0m \u001b[0;34m', found ndim='\u001b[0m \u001b[0;34m+\u001b[0m\u001b[0;34m\u001b[0m\u001b[0m\n\u001b[0;32m--> 472\u001b[0;31m                                      str(K.ndim(x)))\n\u001b[0m\u001b[1;32m    473\u001b[0m             \u001b[0;32mif\u001b[0m \u001b[0mspec\u001b[0m\u001b[0;34m.\u001b[0m\u001b[0mmax_ndim\u001b[0m \u001b[0;32mis\u001b[0m \u001b[0;32mnot\u001b[0m \u001b[0;32mNone\u001b[0m\u001b[0;34m:\u001b[0m\u001b[0;34m\u001b[0m\u001b[0m\n\u001b[1;32m    474\u001b[0m                 \u001b[0mndim\u001b[0m \u001b[0;34m=\u001b[0m \u001b[0mK\u001b[0m\u001b[0;34m.\u001b[0m\u001b[0mndim\u001b[0m\u001b[0;34m(\u001b[0m\u001b[0mx\u001b[0m\u001b[0;34m)\u001b[0m\u001b[0;34m\u001b[0m\u001b[0m\n",
      "\u001b[0;31mValueError\u001b[0m: Input 0 is incompatible with layer gru_1: expected ndim=3, found ndim=2"
     ]
    }
   ],
   "source": [
    "from keras.layers.recurrent import GRU, LSTM\n",
    "\n",
    "\n",
    "user_id_input_gru = Input(shape=[1], name='user')\n",
    "item_id_input_gru = Input(shape=[1], name='item')\n",
    "\n",
    "embedding_size = 10 # 5\n",
    "user_embedding_gru = Embedding(output_dim=embedding_size, input_dim=users.shape[0],\n",
    "                           input_length=1, name='user_embedding')(user_id_input_gru)\n",
    "item_embedding_gru = Embedding(output_dim=embedding_size, input_dim=games.shape[0],\n",
    "                           input_length=1, name='item_embedding')(item_id_input_gru)\n",
    "\n",
    "user_vecs = Reshape([embedding_size])(user_embedding_gru)\n",
    "item_vecs = Reshape([embedding_size])(item_embedding_gru)\n",
    "\n",
    "input_vecs = Concatenate()([user_vecs, item_vecs])\n",
    "\n",
    "input_vecs = Dropout(0.3)(input_vecs)\n",
    "x = GRU(70)(input_vecs)\n",
    "\n",
    "x = Dropout(0.75)(x)\n",
    "y = Dense(1)(x)\n",
    "\n",
    "\n",
    "model_GRU = Model(inputs=[user_id_input, item_id_input], outputs=y)\n",
    "# model.compile(optimizer='adam', loss='mse')\n",
    "model_GRU.compile(Adam(0.001), loss='mse')"
   ]
  },
  {
   "cell_type": "code",
   "execution_count": null,
   "metadata": {},
   "outputs": [],
   "source": [
    "from sklearn.metrics import mean_squared_error\n",
    "from sklearn.metrics import mean_absolute_error\n",
    "\n",
    "initial_train_preds_gru = model.predict([ratings_train[\"id\"], ratings_train[\"appid\"]])\n",
    "print(\"Initial train MSE: %0.3f\" % mean_squared_error(initial_train_preds_gru, ratings_train[\"rate\"]))\n",
    "print(\"Initial train MAE: %0.3f\" % mean_absolute_error(initial_train_preds_gru, ratings_train[\"rate\"]))"
   ]
  },
  {
   "cell_type": "code",
   "execution_count": null,
   "metadata": {},
   "outputs": [],
   "source": [
    "initial_test_preds_gru = model.predict([ratings_test[\"id\"], ratings_test[\"appid\"]])\n",
    "print(\"Initial test MSE: %0.3f\" % mean_squared_error(initial_test_preds_gru, ratings_test[\"rate\"]))\n",
    "print(\"Initial test MAE: %0.3f\" % mean_absolute_error(initial_test_preds_gru, ratings_test[\"rate\"]))"
   ]
  },
  {
   "cell_type": "code",
   "execution_count": null,
   "metadata": {},
   "outputs": [],
   "source": [
    "SVG(model_to_dot(model).create(prog='dot', format='svg'))"
   ]
  },
  {
   "cell_type": "code",
   "execution_count": null,
   "metadata": {},
   "outputs": [],
   "source": [
    "model_GRU.summary()"
   ]
  },
  {
   "cell_type": "code",
   "execution_count": null,
   "metadata": {},
   "outputs": [],
   "source": [
    "%%time\n",
    "\n",
    "history = model_GRU.fit([ratings_train[\"id\"], ratings_train[\"appid\"]]\n",
    "                    , ratings_train[\"rate\"]\n",
    "                    , validation_data = ([ratings_test[\"id\"], ratings_test[\"appid\"]], ratings_test[\"rate\"])\n",
    "                    , batch_size=64, epochs=20\n",
    "                    , validation_split=0.1\n",
    "                    , verbose = 2\n",
    "                    , shuffle=True)"
   ]
  },
  {
   "cell_type": "code",
   "execution_count": null,
   "metadata": {},
   "outputs": [],
   "source": [
    "import pickle\n",
    "\n",
    "with open('gru70.pkl' , 'wb') as file_pi:\n",
    "    pickle.dump(history.history, file_pi)"
   ]
  },
  {
   "cell_type": "code",
   "execution_count": null,
   "metadata": {},
   "outputs": [],
   "source": [
    "histories = ['gru70.pkl']\n",
    "\n",
    "import pickle\n",
    "for val in histories:\n",
    "    with open(val , 'rb') as file_pi:\n",
    "        thepickle = pickle.load(file_pi)\n",
    "        plt.plot(thepickle[\"loss\"],label ='loss_' + val,linestyle='--')\n",
    "        plt.plot(thepickle[\"val_loss\"],label='val_loss' + val)\n",
    "plt.legend()\n",
    "plt.ylim(0, 1)\n",
    "\n",
    "pd.DataFrame(thepickle,columns =['loss','val_loss']).head(20).transpose()"
   ]
  }
 ],
 "metadata": {
  "kernelspec": {
   "display_name": "Python 3",
   "language": "python",
   "name": "python3"
  },
  "language_info": {
   "codemirror_mode": {
    "name": "ipython",
    "version": 3
   },
   "file_extension": ".py",
   "mimetype": "text/x-python",
   "name": "python",
   "nbconvert_exporter": "python",
   "pygments_lexer": "ipython3",
   "version": "3.6.3"
  }
 },
 "nbformat": 4,
 "nbformat_minor": 2
}
