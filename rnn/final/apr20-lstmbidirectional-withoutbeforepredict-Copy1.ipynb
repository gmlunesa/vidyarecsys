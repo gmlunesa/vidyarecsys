{
 "cells": [
  {
   "cell_type": "code",
   "execution_count": 18,
   "metadata": {},
   "outputs": [],
   "source": [
    "import pandas as pd\n",
    "import numpy as np \n",
    "\n",
    "from sklearn.cluster import AffinityPropagation, KMeans\n",
    "from sklearn.decomposition import PCA\n",
    "from sklearn.manifold import TSNE\n",
    "\n",
    "from mpl_toolkits.mplot3d import Axes3D\n",
    "import matplotlib.pyplot as plt\n",
    "import matplotlib.lines as mlines\n",
    "\n",
    "from scipy import stats\n",
    "from scipy.spatial.distance import pdist\n",
    "\n",
    "from mpl_toolkits.axes_grid1.inset_locator import zoomed_inset_axes\n",
    "from mpl_toolkits.axes_grid1.inset_locator import mark_inset\n",
    "\n",
    "from itertools import cycle\n",
    "\n",
    "import string\n",
    "\n",
    "from collections import Counter"
   ]
  },
  {
   "cell_type": "code",
   "execution_count": 19,
   "metadata": {},
   "outputs": [],
   "source": [
    "from keras.layers.embeddings import Embedding\n",
    "from keras.layers import Input, merge\n",
    "from keras.models import Model\n",
    "from keras.layers.core import Flatten, Dropout, Dense\n",
    "from keras.optimizers import Adam\n",
    "from keras.layers.normalization import BatchNormalization\n",
    "\n",
    "\n",
    "from keras.layers.merge import Concatenate\n",
    "\n",
    "from keras.regularizers import l1, l2\n",
    "\n",
    "from keras.layers.recurrent import GRU, LSTM\n",
    "\n",
    "from keras import backend as K"
   ]
  },
  {
   "cell_type": "code",
   "execution_count": 20,
   "metadata": {},
   "outputs": [
    {
     "data": {
      "text/plain": [
       "(                  id  rate  appid\n",
       " 0  76561197960265729   1.0     10\n",
       " 1  76561197960265729   1.0     20\n",
       " 2  76561197960265729   1.0     30\n",
       " 3  76561197960265729   1.0     40\n",
       " 4  76561197960265729   1.0     50,    appid                    appname genres\n",
       " 0     10             Counter-Strike     1/\n",
       " 1     20      Team Fortress Classic     1/\n",
       " 2     30              Day of Defeat     1/\n",
       " 3     40         Deathmatch Classic     1/\n",
       " 4     50  Half-Life: Opposing Force     1/)"
      ]
     },
     "execution_count": 20,
     "metadata": {},
     "output_type": "execute_result"
    }
   ],
   "source": [
    "org_ratings = pd.read_csv('ratings_latest.csv')\n",
    "org_movies = pd.read_csv('metadata.csv')\n",
    "org_ratings.head(), org_movies.head()"
   ]
  },
  {
   "cell_type": "code",
   "execution_count": 21,
   "metadata": {
    "scrolled": true
   },
   "outputs": [
    {
     "name": "stdout",
     "output_type": "stream",
     "text": [
      "A total of:  676668 unique users\n",
      "A total of:  18865 unique games\n"
     ]
    }
   ],
   "source": [
    "users = org_ratings.id.unique()\n",
    "user_map = {i:val for i,val in enumerate(users)}\n",
    "inverse_user_map = {val:i for i,val in enumerate(users)}\n",
    "\n",
    "\n",
    "games = org_ratings.appid.unique()\n",
    "game_map = {i:val for i,val in enumerate(games)}\n",
    "inverse_game_map = {val:i for i,val in enumerate(games)}\n",
    "\n",
    "org_ratings[\"id\"] = org_ratings[\"id\"].map(inverse_user_map)\n",
    "\n",
    "org_ratings[\"old_id\"] = org_ratings[\"appid\"] # copying for join with metadata\n",
    "org_ratings[\"appid\"] = org_ratings[\"appid\"].map(inverse_game_map)\n",
    "\n",
    "print (\"A total of: \", users.shape[0], \"unique users\")\n",
    "print (\"A total of: \", games.shape[0], \"unique games\")"
   ]
  },
  {
   "cell_type": "code",
   "execution_count": 22,
   "metadata": {},
   "outputs": [
    {
     "data": {
      "text/plain": [
       "(676668, 18865, 100)"
      ]
     },
     "execution_count": 22,
     "metadata": {},
     "output_type": "execute_result"
    }
   ],
   "source": [
    "users = org_ratings.id.unique()\n",
    "games = org_ratings.appid.unique()\n",
    "rating = org_ratings.rate.unique()\n",
    "len(users), len(games), len(rating)"
   ]
  },
  {
   "cell_type": "code",
   "execution_count": 23,
   "metadata": {},
   "outputs": [],
   "source": [
    "userid2idx = {o:i for i,o in enumerate(users)}\n",
    "gameid2idx = {o:i for i,o in enumerate(games)}\n",
    "gameidx2id = {i:o for i,o in enumerate(games)}"
   ]
  },
  {
   "cell_type": "code",
   "execution_count": 24,
   "metadata": {},
   "outputs": [],
   "source": [
    "new_ratings = org_ratings.copy()\n",
    "\n",
    "new_ratings.gameId = org_ratings.appid.apply(lambda x: gameid2idx[x])\n",
    "new_ratings.userId = org_ratings.id.apply(lambda x: userid2idx[x])"
   ]
  },
  {
   "cell_type": "code",
   "execution_count": 25,
   "metadata": {},
   "outputs": [],
   "source": [
    "msk = np.random.rand(len(new_ratings)) < 0.8\n",
    "\n",
    "train = new_ratings[msk]\n",
    "valid = new_ratings[~msk]"
   ]
  },
  {
   "cell_type": "code",
   "execution_count": 26,
   "metadata": {},
   "outputs": [
    {
     "name": "stdout",
     "output_type": "stream",
     "text": [
      "(20588105, 4) (5145823, 4)\n",
      "   id  rate  appid  old_id\n",
      "0   0   1.0      0      10\n",
      "1   0   1.0      1      20\n",
      "2   0   1.0      2      30\n",
      "3   0   1.0      3      40\n",
      "4   0   1.0      4      50\n"
     ]
    }
   ],
   "source": [
    "print(train.shape, valid.shape)\n",
    "print(train.head())"
   ]
  },
  {
   "cell_type": "code",
   "execution_count": 27,
   "metadata": {},
   "outputs": [],
   "source": [
    "user_input = Input(shape=(1,), dtype='int64', name='user_input')\n",
    "game_input = Input(shape = (1,), dtype = 'int64', name = 'game_input')"
   ]
  },
  {
   "cell_type": "code",
   "execution_count": 28,
   "metadata": {},
   "outputs": [],
   "source": [
    "user_embed = Embedding(len(users), 50, input_length =1)(user_input)\n",
    "game_embed = Embedding(len(games), 50, input_length =1)(game_input)"
   ]
  },
  {
   "cell_type": "code",
   "execution_count": 29,
   "metadata": {},
   "outputs": [],
   "source": [
    "# x = merge([user_embed, game_embed], mode='concat')\n",
    "x = Concatenate()([user_embed, game_embed])"
   ]
  },
  {
   "cell_type": "code",
   "execution_count": 30,
   "metadata": {},
   "outputs": [],
   "source": [
    "user_input = Input(shape=(1,), dtype='int64', name='user_input')\n",
    "game_input = Input(shape = (1,), dtype = 'int64', name = 'game_input')\n",
    "user_embed = Embedding(len(users), 50, input_length =1)(user_input)\n",
    "game_embed = Embedding(len(games), 50, input_length =1)(game_input)\n",
    "x = Concatenate()([user_embed, game_embed])\n",
    " \n",
    "# x = Dropout(0.25)(x)\n",
    "# BatchNormalization()\n",
    "# x = LSTM(70)(x)\n",
    "# x = Dropout(0.25)(x)\n",
    "# BatchNormalization()\n",
    "\n",
    "x = Dropout(0.25)(x)\n",
    "BatchNormalization()\n",
    "x_fwd = LSTM(40)(x)\n",
    "x_bwd = LSTM(40, go_backwards = True)(x)\n",
    "# x_bdir = merge([x_fwd, x_bwd], mode = 'concat')\n",
    "x_bdir = Concatenate()([x_fwd, x_bwd])\n",
    "x = Dropout(0.25)(x_bdir)\n",
    "BatchNormalization()\n",
    "x = Dense(1)(x)\n",
    "LSTM_nn = Model([user_input, game_input], x)\n"
   ]
  },
  {
   "cell_type": "code",
   "execution_count": 31,
   "metadata": {},
   "outputs": [],
   "source": [
    "LSTM_nn.compile(optimizer='adam', loss='mse', metrics=['accuracy'])"
   ]
  },
  {
   "cell_type": "code",
   "execution_count": 32,
   "metadata": {},
   "outputs": [],
   "source": [
    "# from sklearn.metrics import mean_squared_error\n",
    "# from sklearn.metrics import mean_absolute_error\n",
    "\n",
    "# initial_train_preds = LSTM_nn.predict([train[\"id\"], train[\"appid\"]])\n",
    "# print(\"Initial train MSE: %0.3f\" % mean_squared_error(initial_train_preds, train[\"rate\"]))\n",
    "# print(\"Initial train MAE: %0.3f\" % mean_absolute_error(initial_train_preds, train[\"rate\"]))"
   ]
  },
  {
   "cell_type": "code",
   "execution_count": 33,
   "metadata": {},
   "outputs": [],
   "source": [
    "# initial_test_preds = LSTM_nn.predict([test[\"id\"], test[\"appid\"]])\n",
    "# print(\"Initial test MSE: %0.3f\" % mean_squared_error(initial_test_preds, test[\"rate\"]))\n",
    "# print(\"Initial test MAE: %0.3f\" % mean_absolute_error(initial_test_preds, test[\"rate\"]))"
   ]
  },
  {
   "cell_type": "code",
   "execution_count": 34,
   "metadata": {},
   "outputs": [
    {
     "data": {
      "image/svg+xml": [
       "<svg height=\"556pt\" viewBox=\"0.00 0.00 282.00 556.00\" width=\"282pt\" xmlns=\"http://www.w3.org/2000/svg\" xmlns:xlink=\"http://www.w3.org/1999/xlink\">\n",
       "<g class=\"graph\" id=\"graph0\" transform=\"scale(1 1) rotate(0) translate(4 552)\">\n",
       "<title>G</title>\n",
       "<polygon fill=\"#ffffff\" points=\"-4,4 -4,-552 278,-552 278,4 -4,4\" stroke=\"transparent\"/>\n",
       "<!-- 112079303232 -->\n",
       "<g class=\"node\" id=\"node1\">\n",
       "<title>112079303232</title>\n",
       "<polygon fill=\"none\" points=\"7.5,-511.5 7.5,-547.5 120.5,-547.5 120.5,-511.5 7.5,-511.5\" stroke=\"#000000\"/>\n",
       "<text fill=\"#000000\" font-family=\"Times,serif\" font-size=\"14.00\" text-anchor=\"middle\" x=\"64\" y=\"-525.8\">user_input: InputLayer</text>\n",
       "</g>\n",
       "<!-- 112079303960 -->\n",
       "<g class=\"node\" id=\"node3\">\n",
       "<title>112079303960</title>\n",
       "<polygon fill=\"none\" points=\"0,-438.5 0,-474.5 128,-474.5 128,-438.5 0,-438.5\" stroke=\"#000000\"/>\n",
       "<text fill=\"#000000\" font-family=\"Times,serif\" font-size=\"14.00\" text-anchor=\"middle\" x=\"64\" y=\"-452.8\">embedding_7: Embedding</text>\n",
       "</g>\n",
       "<!-- 112079303232&#45;&gt;112079303960 -->\n",
       "<g class=\"edge\" id=\"edge1\">\n",
       "<title>112079303232-&gt;112079303960</title>\n",
       "<path d=\"M64,-511.4551C64,-503.3828 64,-493.6764 64,-484.6817\" fill=\"none\" stroke=\"#000000\"/>\n",
       "<polygon fill=\"#000000\" points=\"67.5001,-484.5903 64,-474.5904 60.5001,-484.5904 67.5001,-484.5903\" stroke=\"#000000\"/>\n",
       "</g>\n",
       "<!-- 112079303288 -->\n",
       "<g class=\"node\" id=\"node2\">\n",
       "<title>112079303288</title>\n",
       "<polygon fill=\"none\" points=\"151,-511.5 151,-547.5 269,-547.5 269,-511.5 151,-511.5\" stroke=\"#000000\"/>\n",
       "<text fill=\"#000000\" font-family=\"Times,serif\" font-size=\"14.00\" text-anchor=\"middle\" x=\"210\" y=\"-525.8\">game_input: InputLayer</text>\n",
       "</g>\n",
       "<!-- 112079303736 -->\n",
       "<g class=\"node\" id=\"node4\">\n",
       "<title>112079303736</title>\n",
       "<polygon fill=\"none\" points=\"146,-438.5 146,-474.5 274,-474.5 274,-438.5 146,-438.5\" stroke=\"#000000\"/>\n",
       "<text fill=\"#000000\" font-family=\"Times,serif\" font-size=\"14.00\" text-anchor=\"middle\" x=\"210\" y=\"-452.8\">embedding_8: Embedding</text>\n",
       "</g>\n",
       "<!-- 112079303288&#45;&gt;112079303736 -->\n",
       "<g class=\"edge\" id=\"edge2\">\n",
       "<title>112079303288-&gt;112079303736</title>\n",
       "<path d=\"M210,-511.4551C210,-503.3828 210,-493.6764 210,-484.6817\" fill=\"none\" stroke=\"#000000\"/>\n",
       "<polygon fill=\"#000000\" points=\"213.5001,-484.5903 210,-474.5904 206.5001,-484.5904 213.5001,-484.5903\" stroke=\"#000000\"/>\n",
       "</g>\n",
       "<!-- 112079304408 -->\n",
       "<g class=\"node\" id=\"node5\">\n",
       "<title>112079304408</title>\n",
       "<polygon fill=\"none\" points=\"70,-365.5 70,-401.5 204,-401.5 204,-365.5 70,-365.5\" stroke=\"#000000\"/>\n",
       "<text fill=\"#000000\" font-family=\"Times,serif\" font-size=\"14.00\" text-anchor=\"middle\" x=\"137\" y=\"-379.8\">concatenate_5: Concatenate</text>\n",
       "</g>\n",
       "<!-- 112079303960&#45;&gt;112079304408 -->\n",
       "<g class=\"edge\" id=\"edge3\">\n",
       "<title>112079303960-&gt;112079304408</title>\n",
       "<path d=\"M82.0449,-438.4551C90.9946,-429.5054 101.953,-418.547 111.7231,-408.7769\" fill=\"none\" stroke=\"#000000\"/>\n",
       "<polygon fill=\"#000000\" points=\"114.3134,-411.1363 118.9096,-401.5904 109.3637,-406.1866 114.3134,-411.1363\" stroke=\"#000000\"/>\n",
       "</g>\n",
       "<!-- 112079303736&#45;&gt;112079304408 -->\n",
       "<g class=\"edge\" id=\"edge4\">\n",
       "<title>112079303736-&gt;112079304408</title>\n",
       "<path d=\"M191.9551,-438.4551C183.0054,-429.5054 172.047,-418.547 162.2769,-408.7769\" fill=\"none\" stroke=\"#000000\"/>\n",
       "<polygon fill=\"#000000\" points=\"164.6363,-406.1866 155.0904,-401.5904 159.6866,-411.1363 164.6363,-406.1866\" stroke=\"#000000\"/>\n",
       "</g>\n",
       "<!-- 112079305864 -->\n",
       "<g class=\"node\" id=\"node6\">\n",
       "<title>112079305864</title>\n",
       "<polygon fill=\"none\" points=\"87,-292.5 87,-328.5 187,-328.5 187,-292.5 87,-292.5\" stroke=\"#000000\"/>\n",
       "<text fill=\"#000000\" font-family=\"Times,serif\" font-size=\"14.00\" text-anchor=\"middle\" x=\"137\" y=\"-306.8\">dropout_3: Dropout</text>\n",
       "</g>\n",
       "<!-- 112079304408&#45;&gt;112079305864 -->\n",
       "<g class=\"edge\" id=\"edge5\">\n",
       "<title>112079304408-&gt;112079305864</title>\n",
       "<path d=\"M137,-365.4551C137,-357.3828 137,-347.6764 137,-338.6817\" fill=\"none\" stroke=\"#000000\"/>\n",
       "<polygon fill=\"#000000\" points=\"140.5001,-338.5903 137,-328.5904 133.5001,-338.5904 140.5001,-338.5903\" stroke=\"#000000\"/>\n",
       "</g>\n",
       "<!-- 112079303904 -->\n",
       "<g class=\"node\" id=\"node7\">\n",
       "<title>112079303904</title>\n",
       "<polygon fill=\"none\" points=\"49.5,-219.5 49.5,-255.5 128.5,-255.5 128.5,-219.5 49.5,-219.5\" stroke=\"#000000\"/>\n",
       "<text fill=\"#000000\" font-family=\"Times,serif\" font-size=\"14.00\" text-anchor=\"middle\" x=\"89\" y=\"-233.8\">lstm_3: LSTM</text>\n",
       "</g>\n",
       "<!-- 112079305864&#45;&gt;112079303904 -->\n",
       "<g class=\"edge\" id=\"edge6\">\n",
       "<title>112079305864-&gt;112079303904</title>\n",
       "<path d=\"M125.1348,-292.4551C119.5386,-283.9441 112.7478,-273.6165 106.5706,-264.2219\" fill=\"none\" stroke=\"#000000\"/>\n",
       "<polygon fill=\"#000000\" points=\"109.3136,-262.023 100.895,-255.5904 103.4647,-265.8689 109.3136,-262.023\" stroke=\"#000000\"/>\n",
       "</g>\n",
       "<!-- 112079306536 -->\n",
       "<g class=\"node\" id=\"node8\">\n",
       "<title>112079306536</title>\n",
       "<polygon fill=\"none\" points=\"146.5,-219.5 146.5,-255.5 225.5,-255.5 225.5,-219.5 146.5,-219.5\" stroke=\"#000000\"/>\n",
       "<text fill=\"#000000\" font-family=\"Times,serif\" font-size=\"14.00\" text-anchor=\"middle\" x=\"186\" y=\"-233.8\">lstm_4: LSTM</text>\n",
       "</g>\n",
       "<!-- 112079305864&#45;&gt;112079306536 -->\n",
       "<g class=\"edge\" id=\"edge7\">\n",
       "<title>112079305864-&gt;112079306536</title>\n",
       "<path d=\"M149.1124,-292.4551C154.8841,-283.8564 161.9005,-273.4034 168.2582,-263.9316\" fill=\"none\" stroke=\"#000000\"/>\n",
       "<polygon fill=\"#000000\" points=\"171.1899,-265.844 173.8572,-255.5904 165.3778,-261.9427 171.1899,-265.844\" stroke=\"#000000\"/>\n",
       "</g>\n",
       "<!-- 114905318904 -->\n",
       "<g class=\"node\" id=\"node9\">\n",
       "<title>114905318904</title>\n",
       "<polygon fill=\"none\" points=\"70,-146.5 70,-182.5 204,-182.5 204,-146.5 70,-146.5\" stroke=\"#000000\"/>\n",
       "<text fill=\"#000000\" font-family=\"Times,serif\" font-size=\"14.00\" text-anchor=\"middle\" x=\"137\" y=\"-160.8\">concatenate_6: Concatenate</text>\n",
       "</g>\n",
       "<!-- 112079303904&#45;&gt;114905318904 -->\n",
       "<g class=\"edge\" id=\"edge8\">\n",
       "<title>112079303904-&gt;114905318904</title>\n",
       "<path d=\"M100.8652,-219.4551C106.4614,-210.9441 113.2522,-200.6165 119.4294,-191.2219\" fill=\"none\" stroke=\"#000000\"/>\n",
       "<polygon fill=\"#000000\" points=\"122.5353,-192.8689 125.105,-182.5904 116.6864,-189.023 122.5353,-192.8689\" stroke=\"#000000\"/>\n",
       "</g>\n",
       "<!-- 112079306536&#45;&gt;114905318904 -->\n",
       "<g class=\"edge\" id=\"edge9\">\n",
       "<title>112079306536-&gt;114905318904</title>\n",
       "<path d=\"M173.8876,-219.4551C168.1159,-210.8564 161.0995,-200.4034 154.7418,-190.9316\" fill=\"none\" stroke=\"#000000\"/>\n",
       "<polygon fill=\"#000000\" points=\"157.6222,-188.9427 149.1428,-182.5904 151.8101,-192.844 157.6222,-188.9427\" stroke=\"#000000\"/>\n",
       "</g>\n",
       "<!-- 112013779688 -->\n",
       "<g class=\"node\" id=\"node10\">\n",
       "<title>112013779688</title>\n",
       "<polygon fill=\"none\" points=\"87,-73.5 87,-109.5 187,-109.5 187,-73.5 87,-73.5\" stroke=\"#000000\"/>\n",
       "<text fill=\"#000000\" font-family=\"Times,serif\" font-size=\"14.00\" text-anchor=\"middle\" x=\"137\" y=\"-87.8\">dropout_4: Dropout</text>\n",
       "</g>\n",
       "<!-- 114905318904&#45;&gt;112013779688 -->\n",
       "<g class=\"edge\" id=\"edge10\">\n",
       "<title>114905318904-&gt;112013779688</title>\n",
       "<path d=\"M137,-146.4551C137,-138.3828 137,-128.6764 137,-119.6817\" fill=\"none\" stroke=\"#000000\"/>\n",
       "<polygon fill=\"#000000\" points=\"140.5001,-119.5903 137,-109.5904 133.5001,-119.5904 140.5001,-119.5903\" stroke=\"#000000\"/>\n",
       "</g>\n",
       "<!-- 112014820408 -->\n",
       "<g class=\"node\" id=\"node11\">\n",
       "<title>112014820408</title>\n",
       "<polygon fill=\"none\" points=\"95.5,-.5 95.5,-36.5 178.5,-36.5 178.5,-.5 95.5,-.5\" stroke=\"#000000\"/>\n",
       "<text fill=\"#000000\" font-family=\"Times,serif\" font-size=\"14.00\" text-anchor=\"middle\" x=\"137\" y=\"-14.8\">dense_2: Dense</text>\n",
       "</g>\n",
       "<!-- 112013779688&#45;&gt;112014820408 -->\n",
       "<g class=\"edge\" id=\"edge11\">\n",
       "<title>112013779688-&gt;112014820408</title>\n",
       "<path d=\"M137,-73.4551C137,-65.3828 137,-55.6764 137,-46.6817\" fill=\"none\" stroke=\"#000000\"/>\n",
       "<polygon fill=\"#000000\" points=\"140.5001,-46.5903 137,-36.5904 133.5001,-46.5904 140.5001,-46.5903\" stroke=\"#000000\"/>\n",
       "</g>\n",
       "</g>\n",
       "</svg>"
      ],
      "text/plain": [
       "<IPython.core.display.SVG object>"
      ]
     },
     "execution_count": 34,
     "metadata": {},
     "output_type": "execute_result"
    }
   ],
   "source": [
    "\n",
    "from IPython.display import Image, display, SVG\n",
    "from keras.utils.vis_utils import model_to_dot\n",
    "\n",
    "SVG(model_to_dot(LSTM_nn).create(prog='dot', format='svg'))"
   ]
  },
  {
   "cell_type": "code",
   "execution_count": 37,
   "metadata": {},
   "outputs": [],
   "source": [
    "\n",
    "LSTM_history = LSTM_nn.fit([train.id, train.appid], train.rate, batch_size=64, epochs=10, \n",
    "          validation_data=([valid.id, valid.appid], valid.rate), verbose = 1)"
   ]
  },
  {
   "cell_type": "code",
   "execution_count": null,
   "metadata": {},
   "outputs": [],
   "source": [
    "import pickle\n",
    "\n",
    "with open('lstmbirnn70.pkl' , 'wb') as file_pi:\n",
    "    pickle.dump(LSTM_history.history, file_pi)"
   ]
  },
  {
   "cell_type": "code",
   "execution_count": null,
   "metadata": {},
   "outputs": [],
   "source": [
    "model.save('lstmbirnn70.h5')"
   ]
  },
  {
   "cell_type": "code",
   "execution_count": null,
   "metadata": {},
   "outputs": [],
   "source": [
    "final_train_preds = LSTM_nn.predict([train[\"id\"], train[\"appid\"]])\n",
    "print(\"Initial train MSE: %0.3f\" % mean_squared_error(final_train_preds, train[\"rate\"]))\n",
    "print(\"Initial train MAE: %0.3f\" % mean_absolute_error(final_train_preds, train[\"rate\"]))"
   ]
  },
  {
   "cell_type": "code",
   "execution_count": null,
   "metadata": {},
   "outputs": [],
   "source": [
    "final_test_preds = LSTM_nn.predict([test[\"id\"], test[\"appid\"]])\n",
    "print(\"Initial test MSE: %0.3f\" % mean_squared_error(final_test_preds, test[\"rate\"]))\n",
    "print(\"Initial test MAE: %0.3f\" % mean_absolute_error(final_test_preds,test[\"rate\"]))"
   ]
  }
 ],
 "metadata": {
  "kernelspec": {
   "display_name": "Python 3",
   "language": "python",
   "name": "python3"
  },
  "language_info": {
   "codemirror_mode": {
    "name": "ipython",
    "version": 3
   },
   "file_extension": ".py",
   "mimetype": "text/x-python",
   "name": "python",
   "nbconvert_exporter": "python",
   "pygments_lexer": "ipython3",
   "version": "3.6.3"
  }
 },
 "nbformat": 4,
 "nbformat_minor": 2
}
