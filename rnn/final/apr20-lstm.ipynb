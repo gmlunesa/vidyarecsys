{
 "cells": [
  {
   "cell_type": "code",
   "execution_count": 23,
   "metadata": {},
   "outputs": [],
   "source": [
    "import pandas as pd\n",
    "import numpy as np \n",
    "\n",
    "from sklearn.cluster import AffinityPropagation, KMeans\n",
    "from sklearn.decomposition import PCA\n",
    "from sklearn.manifold import TSNE\n",
    "\n",
    "from mpl_toolkits.mplot3d import Axes3D\n",
    "import matplotlib.pyplot as plt\n",
    "import matplotlib.lines as mlines\n",
    "\n",
    "from scipy import stats\n",
    "from scipy.spatial.distance import pdist\n",
    "\n",
    "from mpl_toolkits.axes_grid1.inset_locator import zoomed_inset_axes\n",
    "from mpl_toolkits.axes_grid1.inset_locator import mark_inset\n",
    "\n",
    "from itertools import cycle\n",
    "\n",
    "import string\n",
    "\n",
    "from collections import Counter"
   ]
  },
  {
   "cell_type": "code",
   "execution_count": 24,
   "metadata": {},
   "outputs": [],
   "source": [
    "from keras.layers.embeddings import Embedding\n",
    "from keras.layers import Input, merge\n",
    "from keras.models import Model\n",
    "from keras.layers.core import Flatten, Dropout, Dense\n",
    "from keras.optimizers import Adam\n",
    "from keras.layers.normalization import BatchNormalization\n",
    "\n",
    "\n",
    "from keras.layers.merge import Concatenate\n",
    "\n",
    "from keras.regularizers import l1, l2\n",
    "\n",
    "from keras.layers.recurrent import GRU, LSTM\n",
    "\n",
    "from keras import backend as K"
   ]
  },
  {
   "cell_type": "code",
   "execution_count": 25,
   "metadata": {},
   "outputs": [
    {
     "data": {
      "text/plain": [
       "(                  id  rate  appid\n",
       " 0  76561197960265729   1.0     10\n",
       " 1  76561197960265729   1.0     20\n",
       " 2  76561197960265729   1.0     30\n",
       " 3  76561197960265729   1.0     40\n",
       " 4  76561197960265729   1.0     50,    appid                    appname genres\n",
       " 0     10             Counter-Strike     1/\n",
       " 1     20      Team Fortress Classic     1/\n",
       " 2     30              Day of Defeat     1/\n",
       " 3     40         Deathmatch Classic     1/\n",
       " 4     50  Half-Life: Opposing Force     1/)"
      ]
     },
     "execution_count": 25,
     "metadata": {},
     "output_type": "execute_result"
    }
   ],
   "source": [
    "org_ratings = pd.read_csv('ratings_latest.csv')\n",
    "org_movies = pd.read_csv('metadata.csv')\n",
    "org_ratings.head(), org_movies.head()"
   ]
  },
  {
   "cell_type": "code",
   "execution_count": 26,
   "metadata": {
    "scrolled": true
   },
   "outputs": [
    {
     "name": "stdout",
     "output_type": "stream",
     "text": [
      "A total of:  676668 unique users\n",
      "A total of:  18865 unique games\n"
     ]
    }
   ],
   "source": [
    "users = org_ratings.id.unique()\n",
    "user_map = {i:val for i,val in enumerate(users)}\n",
    "inverse_user_map = {val:i for i,val in enumerate(users)}\n",
    "\n",
    "\n",
    "games = org_ratings.appid.unique()\n",
    "game_map = {i:val for i,val in enumerate(games)}\n",
    "inverse_game_map = {val:i for i,val in enumerate(games)}\n",
    "\n",
    "org_ratings[\"id\"] = org_ratings[\"id\"].map(inverse_user_map)\n",
    "\n",
    "org_ratings[\"old_id\"] = org_ratings[\"appid\"] # copying for join with metadata\n",
    "org_ratings[\"appid\"] = org_ratings[\"appid\"].map(inverse_game_map)\n",
    "\n",
    "print (\"A total of: \", users.shape[0], \"unique users\")\n",
    "print (\"A total of: \", games.shape[0], \"unique games\")"
   ]
  },
  {
   "cell_type": "code",
   "execution_count": 27,
   "metadata": {},
   "outputs": [
    {
     "data": {
      "text/plain": [
       "(676668, 18865, 100)"
      ]
     },
     "execution_count": 27,
     "metadata": {},
     "output_type": "execute_result"
    }
   ],
   "source": [
    "users = org_ratings.id.unique()\n",
    "games = org_ratings.appid.unique()\n",
    "rating = org_ratings.rate.unique()\n",
    "len(users), len(games), len(rating)"
   ]
  },
  {
   "cell_type": "code",
   "execution_count": null,
   "metadata": {},
   "outputs": [],
   "source": [
    "userid2idx = {o:i for i,o in enumerate(users)}\n",
    "gameid2idx = {o:i for i,o in enumerate(games)}\n",
    "gameidx2id = {i:o for i,o in enumerate(games)}"
   ]
  },
  {
   "cell_type": "code",
   "execution_count": null,
   "metadata": {},
   "outputs": [],
   "source": [
    "new_ratings = org_ratings.copy()\n",
    "\n",
    "new_ratings.gameId = org_ratings.appid.apply(lambda x: gameid2idx[x])\n",
    "new_ratings.userId = org_ratings.id.apply(lambda x: userid2idx[x])"
   ]
  },
  {
   "cell_type": "code",
   "execution_count": null,
   "metadata": {},
   "outputs": [],
   "source": [
    "msk = np.random.rand(len(new_ratings)) < 0.8\n",
    "\n",
    "train = new_ratings[msk]\n",
    "valid = new_ratings[~msk]"
   ]
  },
  {
   "cell_type": "code",
   "execution_count": null,
   "metadata": {},
   "outputs": [],
   "source": [
    "print(train.shape, valid.shape)\n",
    "print(train.head())"
   ]
  },
  {
   "cell_type": "code",
   "execution_count": null,
   "metadata": {},
   "outputs": [],
   "source": [
    "user_input = Input(shape=(1,), dtype='int64', name='user_input')\n",
    "game_input = Input(shape = (1,), dtype = 'int64', name = 'game_input')"
   ]
  },
  {
   "cell_type": "code",
   "execution_count": null,
   "metadata": {},
   "outputs": [],
   "source": [
    "user_embed = Embedding(len(users), 50, input_length =1)(user_input)\n",
    "game_embed = Embedding(len(games), 50, input_length =1)(game_input)"
   ]
  },
  {
   "cell_type": "code",
   "execution_count": null,
   "metadata": {},
   "outputs": [],
   "source": [
    "# x = merge([user_embed, game_embed], mode='concat')\n",
    "x = Concatenate()([user_embed, game_embed])"
   ]
  },
  {
   "cell_type": "code",
   "execution_count": null,
   "metadata": {},
   "outputs": [],
   "source": [
    "user_input = Input(shape=(1,), dtype='int64', name='user_input')\n",
    "game_input = Input(shape = (1,), dtype = 'int64', name = 'game_input')\n",
    "user_embed = Embedding(len(users), 50, input_length =1)(user_input)\n",
    "game_embed = Embedding(len(games), 50, input_length =1)(game_input)\n",
    "x = Concatenate()([user_embed, game_embed])\n",
    " \n",
    "x = Dropout(0.25)(x)\n",
    "BatchNormalization()\n",
    "x = LSTM(70)(x)\n",
    "x = Dropout(0.25)(x)\n",
    "BatchNormalization()\n",
    "x = Dense(1)(x)\n",
    "LSTM_nn = Model([user_input, game_input], x)\n"
   ]
  },
  {
   "cell_type": "code",
   "execution_count": null,
   "metadata": {},
   "outputs": [],
   "source": [
    "LSTM_nn.compile(optimizer='adam', loss='mse', metrics=['accuracy'])"
   ]
  },
  {
   "cell_type": "code",
   "execution_count": null,
   "metadata": {},
   "outputs": [],
   "source": [
    "from sklearn.metrics import mean_squared_error\n",
    "from sklearn.metrics import mean_absolute_error\n",
    "\n",
    "initial_train_preds = LSTM_nn.predict([train[\"id\"], train[\"appid\"]])\n",
    "print(\"Initial train MSE: %0.3f\" % mean_squared_error(initial_train_preds, train[\"rate\"]))\n",
    "print(\"Initial train MAE: %0.3f\" % mean_absolute_error(initial_train_preds, train[\"rate\"]))"
   ]
  },
  {
   "cell_type": "code",
   "execution_count": null,
   "metadata": {},
   "outputs": [],
   "source": [
    "initial_test_preds = LSTM_nn.predict([test[\"id\"], test[\"appid\"]])\n",
    "print(\"Initial test MSE: %0.3f\" % mean_squared_error(initial_test_preds, test[\"rate\"]))\n",
    "print(\"Initial test MAE: %0.3f\" % mean_absolute_error(initial_test_preds, test[\"rate\"]))"
   ]
  },
  {
   "cell_type": "code",
   "execution_count": null,
   "metadata": {},
   "outputs": [],
   "source": [
    "from IPython.display import SVG\n",
    "\n",
    "SVG(model_to_dot(LSTM_nn).create(prog='dot', format='svg'))"
   ]
  },
  {
   "cell_type": "code",
   "execution_count": null,
   "metadata": {},
   "outputs": [],
   "source": [
    "\n",
    "LSTM_history = LSTM_nn.fit([train.id, train.appid], train.rate, batch_size=64, epochs=8, \n",
    "          validation_data=([valid.id, valid.appid], valid.rate))"
   ]
  },
  {
   "cell_type": "code",
   "execution_count": null,
   "metadata": {},
   "outputs": [],
   "source": [
    "import pickle\n",
    "\n",
    "with open('lstm70.pkl' , 'wb') as file_pi:\n",
    "    pickle.dump(LSTM_history.history, file_pi)"
   ]
  },
  {
   "cell_type": "code",
   "execution_count": null,
   "metadata": {},
   "outputs": [],
   "source": [
    "final_train_preds = LSTM_nn.predict([train[\"id\"], train[\"appid\"]])\n",
    "print(\"Initial train MSE: %0.3f\" % mean_squared_error(final_train_preds, train[\"rate\"]))\n",
    "print(\"Initial train MAE: %0.3f\" % mean_absolute_error(final_train_preds, train[\"rate\"]))"
   ]
  },
  {
   "cell_type": "code",
   "execution_count": null,
   "metadata": {},
   "outputs": [],
   "source": [
    "final_test_preds = LSTM_nn.predict([test[\"id\"], test[\"appid\"]])\n",
    "print(\"Initial test MSE: %0.3f\" % mean_squared_error(final_test_preds, test[\"rate\"]))\n",
    "print(\"Initial test MAE: %0.3f\" % mean_absolute_error(final_test_preds,test[\"rate\"]))"
   ]
  }
 ],
 "metadata": {
  "kernelspec": {
   "display_name": "Python 3",
   "language": "python",
   "name": "python3"
  },
  "language_info": {
   "codemirror_mode": {
    "name": "ipython",
    "version": 3
   },
   "file_extension": ".py",
   "mimetype": "text/x-python",
   "name": "python",
   "nbconvert_exporter": "python",
   "pygments_lexer": "ipython3",
   "version": "3.6.3"
  }
 },
 "nbformat": 4,
 "nbformat_minor": 2
}
