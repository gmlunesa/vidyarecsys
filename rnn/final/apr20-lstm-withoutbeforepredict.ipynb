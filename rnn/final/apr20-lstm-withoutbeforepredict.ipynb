{
 "cells": [
  {
   "cell_type": "code",
   "execution_count": 1,
   "metadata": {},
   "outputs": [],
   "source": [
    "import pandas as pd\n",
    "import numpy as np \n",
    "\n",
    "from sklearn.cluster import AffinityPropagation, KMeans\n",
    "from sklearn.decomposition import PCA\n",
    "from sklearn.manifold import TSNE\n",
    "\n",
    "from mpl_toolkits.mplot3d import Axes3D\n",
    "import matplotlib.pyplot as plt\n",
    "import matplotlib.lines as mlines\n",
    "\n",
    "from scipy import stats\n",
    "from scipy.spatial.distance import pdist\n",
    "\n",
    "from mpl_toolkits.axes_grid1.inset_locator import zoomed_inset_axes\n",
    "from mpl_toolkits.axes_grid1.inset_locator import mark_inset\n",
    "\n",
    "from itertools import cycle\n",
    "\n",
    "import string\n",
    "\n",
    "from collections import Counter"
   ]
  },
  {
   "cell_type": "code",
   "execution_count": 2,
   "metadata": {},
   "outputs": [
    {
     "name": "stderr",
     "output_type": "stream",
     "text": [
      "Using TensorFlow backend.\n"
     ]
    }
   ],
   "source": [
    "from keras.layers.embeddings import Embedding\n",
    "from keras.layers import Input, merge\n",
    "from keras.models import Model\n",
    "from keras.layers.core import Flatten, Dropout, Dense\n",
    "from keras.optimizers import Adam\n",
    "from keras.layers.normalization import BatchNormalization\n",
    "\n",
    "\n",
    "from keras.layers.merge import Concatenate\n",
    "\n",
    "from keras.regularizers import l1, l2\n",
    "\n",
    "from keras.layers.recurrent import GRU, LSTM\n",
    "\n",
    "from keras import backend as K"
   ]
  },
  {
   "cell_type": "code",
   "execution_count": 3,
   "metadata": {},
   "outputs": [
    {
     "data": {
      "text/plain": [
       "(                  id  rate  appid\n",
       " 0  76561197960265729   1.0     10\n",
       " 1  76561197960265729   1.0     20\n",
       " 2  76561197960265729   1.0     30\n",
       " 3  76561197960265729   1.0     40\n",
       " 4  76561197960265729   1.0     50,    appid                    appname genres\n",
       " 0     10             Counter-Strike     1/\n",
       " 1     20      Team Fortress Classic     1/\n",
       " 2     30              Day of Defeat     1/\n",
       " 3     40         Deathmatch Classic     1/\n",
       " 4     50  Half-Life: Opposing Force     1/)"
      ]
     },
     "execution_count": 3,
     "metadata": {},
     "output_type": "execute_result"
    }
   ],
   "source": [
    "org_ratings = pd.read_csv('ratings_latest.csv')\n",
    "org_movies = pd.read_csv('metadata.csv')\n",
    "org_ratings.head(), org_movies.head()"
   ]
  },
  {
   "cell_type": "code",
   "execution_count": 4,
   "metadata": {
    "scrolled": true
   },
   "outputs": [
    {
     "name": "stdout",
     "output_type": "stream",
     "text": [
      "A total of:  676668 unique users\n",
      "A total of:  18865 unique games\n"
     ]
    }
   ],
   "source": [
    "users = org_ratings.id.unique()\n",
    "user_map = {i:val for i,val in enumerate(users)}\n",
    "inverse_user_map = {val:i for i,val in enumerate(users)}\n",
    "\n",
    "\n",
    "games = org_ratings.appid.unique()\n",
    "game_map = {i:val for i,val in enumerate(games)}\n",
    "inverse_game_map = {val:i for i,val in enumerate(games)}\n",
    "\n",
    "org_ratings[\"id\"] = org_ratings[\"id\"].map(inverse_user_map)\n",
    "\n",
    "org_ratings[\"old_id\"] = org_ratings[\"appid\"] # copying for join with metadata\n",
    "org_ratings[\"appid\"] = org_ratings[\"appid\"].map(inverse_game_map)\n",
    "\n",
    "print (\"A total of: \", users.shape[0], \"unique users\")\n",
    "print (\"A total of: \", games.shape[0], \"unique games\")"
   ]
  },
  {
   "cell_type": "code",
   "execution_count": 5,
   "metadata": {},
   "outputs": [
    {
     "data": {
      "text/plain": [
       "(676668, 18865, 100)"
      ]
     },
     "execution_count": 5,
     "metadata": {},
     "output_type": "execute_result"
    }
   ],
   "source": [
    "users = org_ratings.id.unique()\n",
    "games = org_ratings.appid.unique()\n",
    "rating = org_ratings.rate.unique()\n",
    "len(users), len(games), len(rating)"
   ]
  },
  {
   "cell_type": "code",
   "execution_count": 6,
   "metadata": {},
   "outputs": [],
   "source": [
    "userid2idx = {o:i for i,o in enumerate(users)}\n",
    "gameid2idx = {o:i for i,o in enumerate(games)}\n",
    "gameidx2id = {i:o for i,o in enumerate(games)}"
   ]
  },
  {
   "cell_type": "code",
   "execution_count": 7,
   "metadata": {},
   "outputs": [],
   "source": [
    "new_ratings = org_ratings.copy()\n",
    "\n",
    "new_ratings.gameId = org_ratings.appid.apply(lambda x: gameid2idx[x])\n",
    "new_ratings.userId = org_ratings.id.apply(lambda x: userid2idx[x])"
   ]
  },
  {
   "cell_type": "code",
   "execution_count": 8,
   "metadata": {},
   "outputs": [],
   "source": [
    "msk = np.random.rand(len(new_ratings)) < 0.8\n",
    "\n",
    "train = new_ratings[msk]\n",
    "valid = new_ratings[~msk]"
   ]
  },
  {
   "cell_type": "code",
   "execution_count": 9,
   "metadata": {},
   "outputs": [
    {
     "name": "stdout",
     "output_type": "stream",
     "text": [
      "(20591204, 4) (5142724, 4)\n",
      "   id  rate  appid  old_id\n",
      "0   0   1.0      0      10\n",
      "2   0   1.0      2      30\n",
      "3   0   1.0      3      40\n",
      "4   0   1.0      4      50\n",
      "5   0   1.0      5      60\n"
     ]
    }
   ],
   "source": [
    "print(train.shape, valid.shape)\n",
    "print(train.head())"
   ]
  },
  {
   "cell_type": "code",
   "execution_count": 10,
   "metadata": {},
   "outputs": [],
   "source": [
    "user_input = Input(shape=(1,), dtype='int64', name='user_input')\n",
    "game_input = Input(shape = (1,), dtype = 'int64', name = 'game_input')"
   ]
  },
  {
   "cell_type": "code",
   "execution_count": 11,
   "metadata": {},
   "outputs": [],
   "source": [
    "user_embed = Embedding(len(users), 50, input_length =1)(user_input)\n",
    "game_embed = Embedding(len(games), 50, input_length =1)(game_input)"
   ]
  },
  {
   "cell_type": "code",
   "execution_count": 12,
   "metadata": {},
   "outputs": [],
   "source": [
    "# x = merge([user_embed, game_embed], mode='concat')\n",
    "x = Concatenate()([user_embed, game_embed])"
   ]
  },
  {
   "cell_type": "code",
   "execution_count": 13,
   "metadata": {},
   "outputs": [],
   "source": [
    "user_input = Input(shape=(1,), dtype='int64', name='user_input')\n",
    "game_input = Input(shape = (1,), dtype = 'int64', name = 'game_input')\n",
    "user_embed = Embedding(len(users), 50, input_length =1)(user_input)\n",
    "game_embed = Embedding(len(games), 50, input_length =1)(game_input)\n",
    "x = Concatenate()([user_embed, game_embed])\n",
    " \n",
    "x = Dropout(0.25)(x)\n",
    "BatchNormalization()\n",
    "x = LSTM(70)(x)\n",
    "x = Dropout(0.25)(x)\n",
    "BatchNormalization()\n",
    "x = Dense(1)(x)\n",
    "LSTM_nn = Model([user_input, game_input], x)\n"
   ]
  },
  {
   "cell_type": "code",
   "execution_count": 18,
   "metadata": {},
   "outputs": [],
   "source": [
    "LSTM_nn.compile(optimizer='adam', loss='mse', metrics=['accuracy'])"
   ]
  },
  {
   "cell_type": "code",
   "execution_count": null,
   "metadata": {},
   "outputs": [],
   "source": [
    "# from sklearn.metrics import mean_squared_error\n",
    "# from sklearn.metrics import mean_absolute_error\n",
    "\n",
    "# initial_train_preds = LSTM_nn.predict([train[\"id\"], train[\"appid\"]])\n",
    "# print(\"Initial train MSE: %0.3f\" % mean_squared_error(initial_train_preds, train[\"rate\"]))\n",
    "# print(\"Initial train MAE: %0.3f\" % mean_absolute_error(initial_train_preds, train[\"rate\"]))"
   ]
  },
  {
   "cell_type": "code",
   "execution_count": null,
   "metadata": {},
   "outputs": [],
   "source": [
    "# initial_test_preds = LSTM_nn.predict([test[\"id\"], test[\"appid\"]])\n",
    "# print(\"Initial test MSE: %0.3f\" % mean_squared_error(initial_test_preds, test[\"rate\"]))\n",
    "# print(\"Initial test MAE: %0.3f\" % mean_absolute_error(initial_test_preds, test[\"rate\"]))"
   ]
  },
  {
   "cell_type": "code",
   "execution_count": null,
   "metadata": {},
   "outputs": [
    {
     "data": {
      "image/svg+xml": [
       "<svg height=\"483pt\" viewBox=\"0.00 0.00 282.00 483.00\" width=\"282pt\" xmlns=\"http://www.w3.org/2000/svg\" xmlns:xlink=\"http://www.w3.org/1999/xlink\">\n",
       "<g class=\"graph\" id=\"graph0\" transform=\"scale(1 1) rotate(0) translate(4 479)\">\n",
       "<title>G</title>\n",
       "<polygon fill=\"#ffffff\" points=\"-4,4 -4,-479 278,-479 278,4 -4,4\" stroke=\"transparent\"/>\n",
       "<!-- 114100990528 -->\n",
       "<g class=\"node\" id=\"node1\">\n",
       "<title>114100990528</title>\n",
       "<polygon fill=\"none\" points=\"7.5,-438.5 7.5,-474.5 120.5,-474.5 120.5,-438.5 7.5,-438.5\" stroke=\"#000000\"/>\n",
       "<text fill=\"#000000\" font-family=\"Times,serif\" font-size=\"14.00\" text-anchor=\"middle\" x=\"64\" y=\"-452.8\">user_input: InputLayer</text>\n",
       "</g>\n",
       "<!-- 114100991256 -->\n",
       "<g class=\"node\" id=\"node3\">\n",
       "<title>114100991256</title>\n",
       "<polygon fill=\"none\" points=\"0,-365.5 0,-401.5 128,-401.5 128,-365.5 0,-365.5\" stroke=\"#000000\"/>\n",
       "<text fill=\"#000000\" font-family=\"Times,serif\" font-size=\"14.00\" text-anchor=\"middle\" x=\"64\" y=\"-379.8\">embedding_3: Embedding</text>\n",
       "</g>\n",
       "<!-- 114100990528&#45;&gt;114100991256 -->\n",
       "<g class=\"edge\" id=\"edge1\">\n",
       "<title>114100990528-&gt;114100991256</title>\n",
       "<path d=\"M64,-438.4551C64,-430.3828 64,-420.6764 64,-411.6817\" fill=\"none\" stroke=\"#000000\"/>\n",
       "<polygon fill=\"#000000\" points=\"67.5001,-411.5903 64,-401.5904 60.5001,-411.5904 67.5001,-411.5903\" stroke=\"#000000\"/>\n",
       "</g>\n",
       "<!-- 114100990584 -->\n",
       "<g class=\"node\" id=\"node2\">\n",
       "<title>114100990584</title>\n",
       "<polygon fill=\"none\" points=\"151,-438.5 151,-474.5 269,-474.5 269,-438.5 151,-438.5\" stroke=\"#000000\"/>\n",
       "<text fill=\"#000000\" font-family=\"Times,serif\" font-size=\"14.00\" text-anchor=\"middle\" x=\"210\" y=\"-452.8\">game_input: InputLayer</text>\n",
       "</g>\n",
       "<!-- 114100991032 -->\n",
       "<g class=\"node\" id=\"node4\">\n",
       "<title>114100991032</title>\n",
       "<polygon fill=\"none\" points=\"146,-365.5 146,-401.5 274,-401.5 274,-365.5 146,-365.5\" stroke=\"#000000\"/>\n",
       "<text fill=\"#000000\" font-family=\"Times,serif\" font-size=\"14.00\" text-anchor=\"middle\" x=\"210\" y=\"-379.8\">embedding_4: Embedding</text>\n",
       "</g>\n",
       "<!-- 114100990584&#45;&gt;114100991032 -->\n",
       "<g class=\"edge\" id=\"edge2\">\n",
       "<title>114100990584-&gt;114100991032</title>\n",
       "<path d=\"M210,-438.4551C210,-430.3828 210,-420.6764 210,-411.6817\" fill=\"none\" stroke=\"#000000\"/>\n",
       "<polygon fill=\"#000000\" points=\"213.5001,-411.5903 210,-401.5904 206.5001,-411.5904 213.5001,-411.5903\" stroke=\"#000000\"/>\n",
       "</g>\n",
       "<!-- 114100991816 -->\n",
       "<g class=\"node\" id=\"node5\">\n",
       "<title>114100991816</title>\n",
       "<polygon fill=\"none\" points=\"70,-292.5 70,-328.5 204,-328.5 204,-292.5 70,-292.5\" stroke=\"#000000\"/>\n",
       "<text fill=\"#000000\" font-family=\"Times,serif\" font-size=\"14.00\" text-anchor=\"middle\" x=\"137\" y=\"-306.8\">concatenate_2: Concatenate</text>\n",
       "</g>\n",
       "<!-- 114100991256&#45;&gt;114100991816 -->\n",
       "<g class=\"edge\" id=\"edge3\">\n",
       "<title>114100991256-&gt;114100991816</title>\n",
       "<path d=\"M82.0449,-365.4551C90.9946,-356.5054 101.953,-345.547 111.7231,-335.7769\" fill=\"none\" stroke=\"#000000\"/>\n",
       "<polygon fill=\"#000000\" points=\"114.3134,-338.1363 118.9096,-328.5904 109.3637,-333.1866 114.3134,-338.1363\" stroke=\"#000000\"/>\n",
       "</g>\n",
       "<!-- 114100991032&#45;&gt;114100991816 -->\n",
       "<g class=\"edge\" id=\"edge4\">\n",
       "<title>114100991032-&gt;114100991816</title>\n",
       "<path d=\"M191.9551,-365.4551C183.0054,-356.5054 172.047,-345.547 162.2769,-335.7769\" fill=\"none\" stroke=\"#000000\"/>\n",
       "<polygon fill=\"#000000\" points=\"164.6363,-333.1866 155.0904,-328.5904 159.6866,-338.1363 164.6363,-333.1866\" stroke=\"#000000\"/>\n",
       "</g>\n",
       "<!-- 114100993160 -->\n",
       "<g class=\"node\" id=\"node6\">\n",
       "<title>114100993160</title>\n",
       "<polygon fill=\"none\" points=\"87,-219.5 87,-255.5 187,-255.5 187,-219.5 87,-219.5\" stroke=\"#000000\"/>\n",
       "<text fill=\"#000000\" font-family=\"Times,serif\" font-size=\"14.00\" text-anchor=\"middle\" x=\"137\" y=\"-233.8\">dropout_1: Dropout</text>\n",
       "</g>\n",
       "<!-- 114100991816&#45;&gt;114100993160 -->\n",
       "<g class=\"edge\" id=\"edge5\">\n",
       "<title>114100991816-&gt;114100993160</title>\n",
       "<path d=\"M137,-292.4551C137,-284.3828 137,-274.6764 137,-265.6817\" fill=\"none\" stroke=\"#000000\"/>\n",
       "<polygon fill=\"#000000\" points=\"140.5001,-265.5903 137,-255.5904 133.5001,-265.5904 140.5001,-265.5903\" stroke=\"#000000\"/>\n",
       "</g>\n",
       "<!-- 114100991200 -->\n",
       "<g class=\"node\" id=\"node7\">\n",
       "<title>114100991200</title>\n",
       "<polygon fill=\"none\" points=\"97.5,-146.5 97.5,-182.5 176.5,-182.5 176.5,-146.5 97.5,-146.5\" stroke=\"#000000\"/>\n",
       "<text fill=\"#000000\" font-family=\"Times,serif\" font-size=\"14.00\" text-anchor=\"middle\" x=\"137\" y=\"-160.8\">lstm_1: LSTM</text>\n",
       "</g>\n",
       "<!-- 114100993160&#45;&gt;114100991200 -->\n",
       "<g class=\"edge\" id=\"edge6\">\n",
       "<title>114100993160-&gt;114100991200</title>\n",
       "<path d=\"M137,-219.4551C137,-211.3828 137,-201.6764 137,-192.6817\" fill=\"none\" stroke=\"#000000\"/>\n",
       "<polygon fill=\"#000000\" points=\"140.5001,-192.5903 137,-182.5904 133.5001,-192.5904 140.5001,-192.5903\" stroke=\"#000000\"/>\n",
       "</g>\n",
       "<!-- 114100993720 -->\n",
       "<g class=\"node\" id=\"node8\">\n",
       "<title>114100993720</title>\n",
       "<polygon fill=\"none\" points=\"87,-73.5 87,-109.5 187,-109.5 187,-73.5 87,-73.5\" stroke=\"#000000\"/>\n",
       "<text fill=\"#000000\" font-family=\"Times,serif\" font-size=\"14.00\" text-anchor=\"middle\" x=\"137\" y=\"-87.8\">dropout_2: Dropout</text>\n",
       "</g>\n",
       "<!-- 114100991200&#45;&gt;114100993720 -->\n",
       "<g class=\"edge\" id=\"edge7\">\n",
       "<title>114100991200-&gt;114100993720</title>\n",
       "<path d=\"M137,-146.4551C137,-138.3828 137,-128.6764 137,-119.6817\" fill=\"none\" stroke=\"#000000\"/>\n",
       "<polygon fill=\"#000000\" points=\"140.5001,-119.5903 137,-109.5904 133.5001,-119.5904 140.5001,-119.5903\" stroke=\"#000000\"/>\n",
       "</g>\n",
       "<!-- 114100993328 -->\n",
       "<g class=\"node\" id=\"node9\">\n",
       "<title>114100993328</title>\n",
       "<polygon fill=\"none\" points=\"95.5,-.5 95.5,-36.5 178.5,-36.5 178.5,-.5 95.5,-.5\" stroke=\"#000000\"/>\n",
       "<text fill=\"#000000\" font-family=\"Times,serif\" font-size=\"14.00\" text-anchor=\"middle\" x=\"137\" y=\"-14.8\">dense_1: Dense</text>\n",
       "</g>\n",
       "<!-- 114100993720&#45;&gt;114100993328 -->\n",
       "<g class=\"edge\" id=\"edge8\">\n",
       "<title>114100993720-&gt;114100993328</title>\n",
       "<path d=\"M137,-73.4551C137,-65.3828 137,-55.6764 137,-46.6817\" fill=\"none\" stroke=\"#000000\"/>\n",
       "<polygon fill=\"#000000\" points=\"140.5001,-46.5903 137,-36.5904 133.5001,-46.5904 140.5001,-46.5903\" stroke=\"#000000\"/>\n",
       "</g>\n",
       "</g>\n",
       "</svg>"
      ],
      "text/plain": [
       "<IPython.core.display.SVG object>"
      ]
     },
     "execution_count": 26,
     "metadata": {},
     "output_type": "execute_result"
    }
   ],
   "source": [
    "\n",
    "from IPython.display import Image, display, SVG\n",
    "from keras.utils.vis_utils import model_to_dot\n",
    "\n",
    "SVG(model_to_dot(LSTM_nn).create(prog='dot', format='svg'))"
   ]
  },
  {
   "cell_type": "code",
   "execution_count": null,
   "metadata": {},
   "outputs": [
    {
     "name": "stdout",
     "output_type": "stream",
     "text": [
      "Train on 20591204 samples, validate on 5142724 samples\n",
      "Epoch 1/10\n",
      "20591204/20591204 [==============================] - 138385s 7ms/step - loss: 0.4011 - acc: 0.6081 - val_loss: 0.3800 - val_acc: 0.6137\n",
      "Epoch 2/10\n",
      "20591204/20591204 [==============================] - 136641s 7ms/step - loss: 0.3644 - acc: 0.6168 - val_loss: 0.3829 - val_acc: 0.6187\n",
      "Epoch 3/10\n",
      "20591204/20591204 [==============================] - 140772s 7ms/step - loss: 0.3332 - acc: 0.6230 - val_loss: 0.3984 - val_acc: 0.6179\n",
      "Epoch 4/10\n",
      " 1866752/20591204 [=>............................] - ETA: 37:35:14 - loss: 0.3038 - acc: 0.6275"
     ]
    }
   ],
   "source": [
    "\n",
    "LSTM_history = LSTM_nn.fit([train.id, train.appid], train.rate, batch_size=64, epochs=10, \n",
    "          validation_data=([valid.id, valid.appid], valid.rate), verbose = 1\n",
    "                    , shuffle=True)"
   ]
  },
  {
   "cell_type": "code",
   "execution_count": null,
   "metadata": {},
   "outputs": [],
   "source": [
    "import pickle\n",
    "\n",
    "with open('lstm70.pkl' , 'wb') as file_pi:\n",
    "    pickle.dump(LSTM_history.history, file_pi)"
   ]
  },
  {
   "cell_type": "code",
   "execution_count": null,
   "metadata": {},
   "outputs": [],
   "source": [
    "model.save('lstm70.h5')"
   ]
  },
  {
   "cell_type": "code",
   "execution_count": null,
   "metadata": {},
   "outputs": [],
   "source": [
    "final_train_preds = LSTM_nn.predict([train[\"id\"], train[\"appid\"]])\n",
    "print(\"Initial train MSE: %0.3f\" % mean_squared_error(final_train_preds, train[\"rate\"]))\n",
    "print(\"Initial train MAE: %0.3f\" % mean_absolute_error(final_train_preds, train[\"rate\"]))"
   ]
  },
  {
   "cell_type": "code",
   "execution_count": null,
   "metadata": {},
   "outputs": [],
   "source": [
    "final_test_preds = LSTM_nn.predict([test[\"id\"], test[\"appid\"]])\n",
    "print(\"Initial test MSE: %0.3f\" % mean_squared_error(final_test_preds, test[\"rate\"]))\n",
    "print(\"Initial test MAE: %0.3f\" % mean_absolute_error(final_test_preds,test[\"rate\"]))"
   ]
  }
 ],
 "metadata": {
  "kernelspec": {
   "display_name": "Python 3",
   "language": "python",
   "name": "python3"
  }
 },
 "nbformat": 4,
 "nbformat_minor": 2
}
