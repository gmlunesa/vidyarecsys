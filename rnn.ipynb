{
 "cells": [
  {
   "cell_type": "markdown",
   "metadata": {},
   "source": [
    "**VIDEO GAME RECOMMENDER SYSTEM WITH NEURAL NETWORKS**"
   ]
  },
  {
   "cell_type": "code",
   "execution_count": 19,
   "metadata": {},
   "outputs": [],
   "source": [
    "%matplotlib inline\n",
    "import matplotlib.pyplot as plt\n",
    "import pandas as pd\n",
    "game_reviews = pd.read_csv('ratings_latest.csv', sep=',')"
   ]
  },
  {
   "cell_type": "code",
   "execution_count": 21,
   "metadata": {},
   "outputs": [
    {
     "name": "stdout",
     "output_type": "stream",
     "text": [
      "(25733928, 3)\n"
     ]
    }
   ],
   "source": [
    "print (game_reviews.shape)"
   ]
  },
  {
   "cell_type": "markdown",
   "metadata": {},
   "source": [
    "The dataset comprises **25.733.928** video game ownerships."
   ]
  },
  {
   "cell_type": "code",
   "execution_count": 3,
   "metadata": {},
   "outputs": [
    {
     "data": {
      "text/html": [
       "<div>\n",
       "<style>\n",
       "    .dataframe thead tr:only-child th {\n",
       "        text-align: right;\n",
       "    }\n",
       "\n",
       "    .dataframe thead th {\n",
       "        text-align: left;\n",
       "    }\n",
       "\n",
       "    .dataframe tbody tr th {\n",
       "        vertical-align: top;\n",
       "    }\n",
       "</style>\n",
       "<table border=\"1\" class=\"dataframe\">\n",
       "  <thead>\n",
       "    <tr style=\"text-align: right;\">\n",
       "      <th></th>\n",
       "      <th>id</th>\n",
       "      <th>rate</th>\n",
       "      <th>appid</th>\n",
       "    </tr>\n",
       "  </thead>\n",
       "  <tbody>\n",
       "    <tr>\n",
       "      <th>0</th>\n",
       "      <td>76561197960265729</td>\n",
       "      <td>1.0</td>\n",
       "      <td>10</td>\n",
       "    </tr>\n",
       "    <tr>\n",
       "      <th>1</th>\n",
       "      <td>76561197960265729</td>\n",
       "      <td>1.0</td>\n",
       "      <td>20</td>\n",
       "    </tr>\n",
       "    <tr>\n",
       "      <th>2</th>\n",
       "      <td>76561197960265729</td>\n",
       "      <td>1.0</td>\n",
       "      <td>30</td>\n",
       "    </tr>\n",
       "    <tr>\n",
       "      <th>3</th>\n",
       "      <td>76561197960265729</td>\n",
       "      <td>1.0</td>\n",
       "      <td>40</td>\n",
       "    </tr>\n",
       "    <tr>\n",
       "      <th>4</th>\n",
       "      <td>76561197960265729</td>\n",
       "      <td>1.0</td>\n",
       "      <td>50</td>\n",
       "    </tr>\n",
       "  </tbody>\n",
       "</table>\n",
       "</div>"
      ],
      "text/plain": [
       "                  id  rate  appid\n",
       "0  76561197960265729   1.0     10\n",
       "1  76561197960265729   1.0     20\n",
       "2  76561197960265729   1.0     30\n",
       "3  76561197960265729   1.0     40\n",
       "4  76561197960265729   1.0     50"
      ]
     },
     "execution_count": 3,
     "metadata": {},
     "output_type": "execute_result"
    }
   ],
   "source": [
    "game_reviews.head()"
   ]
  },
  {
   "cell_type": "code",
   "execution_count": 25,
   "metadata": {},
   "outputs": [
    {
     "data": {
      "text/plain": [
       "count    2.573393e+07\n",
       "mean     1.275410e+00\n",
       "std      7.960212e-01\n",
       "min      1.000000e+00\n",
       "25%      1.000000e+00\n",
       "50%      1.000000e+00\n",
       "75%      1.100000e+00\n",
       "max      5.950000e+00\n",
       "Name: rate, dtype: float64"
      ]
     },
     "execution_count": 25,
     "metadata": {},
     "output_type": "execute_result"
    }
   ],
   "source": [
    "game_reviews[\"rate\"].describe()"
   ]
  },
  {
   "cell_type": "code",
   "execution_count": 6,
   "metadata": {},
   "outputs": [
    {
     "data": {
      "text/plain": [
       "<matplotlib.axes._subplots.AxesSubplot at 0x10b1cf3c8>"
      ]
     },
     "execution_count": 6,
     "metadata": {},
     "output_type": "execute_result"
    },
    {
     "data": {
      "image/png": "[encoded data removed]",
      "text/plain": [
       "<matplotlib.figure.Figure at 0x110795e80>"
      ]
     },
     "metadata": {},
     "output_type": "display_data"
    }
   ],
   "source": [
    "game_reviews[\"rate\"].hist(bins=10)"
   ]
  },
  {
   "cell_type": "markdown",
   "metadata": {},
   "source": [
    "Most people rate their items around 1. This means that they have invested 0 - 20% of their time to their games, which in my perspective makes sense, since the user's time is dispersed across multiple games."
   ]
  },
  {
   "cell_type": "code",
   "execution_count": 7,
   "metadata": {
    "scrolled": true
   },
   "outputs": [
    {
     "name": "stdout",
     "output_type": "stream",
     "text": [
      "A total of:  676668 unique users\n",
      "A total of:  18865 unique games\n"
     ]
    }
   ],
   "source": [
    "users = game_reviews.id.unique()\n",
    "user_map = {i:val for i,val in enumerate(users)}\n",
    "inverse_user_map = {val:i for i,val in enumerate(users)}\n",
    "games = game_reviews.appid.unique()\n",
    "game_map = {i:val for i,val in enumerate(games)}\n",
    "inverse_game_map = {val:i for i,val in enumerate(games)}\n",
    "\n",
    "game_reviews[\"id\"] = game_reviews[\"id\"].map(inverse_user_map)\n",
    "game_reviews[\"old_id\"] = game_reviews[\"appid\"] # copying for join with metadata\n",
    "game_reviews[\"appid\"] = game_reviews[\"appid\"].map(inverse_game_map)\n",
    "\n",
    "\n",
    "print (\"A total of: \", users.shape[0], \"unique users\")\n",
    "print (\"A total of: \", games.shape[0], \"unique games\")"
   ]
  },
  {
   "cell_type": "markdown",
   "metadata": {},
   "source": [
    "From the dataset, there are around 676668 distinct users and 18865 games."
   ]
  },
  {
   "cell_type": "code",
   "execution_count": 8,
   "metadata": {},
   "outputs": [
    {
     "data": {
      "text/plain": [
       "count    676668.000000\n",
       "mean         38.030361\n",
       "std         123.929002\n",
       "min           1.000000\n",
       "25%           4.000000\n",
       "50%           8.000000\n",
       "75%          22.000000\n",
       "max       10440.000000\n",
       "Name: nb_lines, dtype: float64"
      ]
     },
     "execution_count": 8,
     "metadata": {},
     "output_type": "execute_result"
    }
   ],
   "source": [
    "users_nb = game_reviews['id'].value_counts().reset_index()\n",
    "users_nb.columns= ['id','nb_lines']\n",
    "users_nb['nb_lines'].describe()"
   ]
  },
  {
   "cell_type": "code",
   "execution_count": 9,
   "metadata": {},
   "outputs": [
    {
     "data": {
      "text/plain": [
       "<matplotlib.axes._subplots.AxesSubplot at 0x114c112b0>"
      ]
     },
     "execution_count": 9,
     "metadata": {},
     "output_type": "execute_result"
    },
    {
     "data": {
      "image/png": "[encoded data removed]",
      "text/plain": [
       "<matplotlib.figure.Figure at 0x10c343da0>"
      ]
     },
     "metadata": {},
     "output_type": "display_data"
    }
   ],
   "source": [
    "import seaborn\n",
    "users_nb['nb_lines'].hist()"
   ]
  },
  {
   "cell_type": "markdown",
   "metadata": {},
   "source": [
    "50% of the users in our dataset owns no more than 13 video games, whereas the maximum amount of games a user currently has is 364650."
   ]
  },
  {
   "cell_type": "code",
   "execution_count": 10,
   "metadata": {},
   "outputs": [
    {
     "data": {
      "text/plain": [
       "count     18865.000000\n",
       "mean       1364.109621\n",
       "std        8333.452088\n",
       "min           1.000000\n",
       "25%          13.000000\n",
       "50%          86.000000\n",
       "75%         510.000000\n",
       "max      364650.000000\n",
       "Name: nb_lines, dtype: float64"
      ]
     },
     "execution_count": 10,
     "metadata": {},
     "output_type": "execute_result"
    }
   ],
   "source": [
    "games_nb = game_reviews['old_id'].value_counts().reset_index()\n",
    "games_nb.columns= ['old_id','nb_lines']\n",
    "games_nb['nb_lines'].describe()"
   ]
  },
  {
   "cell_type": "code",
   "execution_count": 11,
   "metadata": {},
   "outputs": [
    {
     "data": {
      "text/plain": [
       "<matplotlib.axes._subplots.AxesSubplot at 0x110feb438>"
      ]
     },
     "execution_count": 11,
     "metadata": {},
     "output_type": "execute_result"
    },
    {
     "data": {
      "image/png": "[encoded data removed]",
      "text/plain": [
       "<matplotlib.figure.Figure at 0x1107959b0>"
      ]
     },
     "metadata": {},
     "output_type": "display_data"
    }
   ],
   "source": [
    "games_nb['nb_lines'].hist()"
   ]
  },
  {
   "cell_type": "markdown",
   "metadata": {},
   "source": [
    "50% of the games have 99 ownerships or less, while 75% of the games have at most 606 ownerships."
   ]
  },
  {
   "cell_type": "code",
   "execution_count": 12,
   "metadata": {
    "collapsed": true
   },
   "outputs": [],
   "source": [
    "a = game_reviews.dropna()[['id','rate','appid']]"
   ]
  },
  {
   "cell_type": "code",
   "execution_count": 27,
   "metadata": {},
   "outputs": [
    {
     "data": {
      "text/html": [
       "<div>\n",
       "<style>\n",
       "    .dataframe thead tr:only-child th {\n",
       "        text-align: right;\n",
       "    }\n",
       "\n",
       "    .dataframe thead th {\n",
       "        text-align: left;\n",
       "    }\n",
       "\n",
       "    .dataframe tbody tr th {\n",
       "        vertical-align: top;\n",
       "    }\n",
       "</style>\n",
       "<table border=\"1\" class=\"dataframe\">\n",
       "  <thead>\n",
       "    <tr style=\"text-align: right;\">\n",
       "      <th></th>\n",
       "      <th>id</th>\n",
       "      <th>rate</th>\n",
       "      <th>appid</th>\n",
       "    </tr>\n",
       "  </thead>\n",
       "  <tbody>\n",
       "    <tr>\n",
       "      <th>0</th>\n",
       "      <td>0</td>\n",
       "      <td>1.0</td>\n",
       "      <td>0</td>\n",
       "    </tr>\n",
       "    <tr>\n",
       "      <th>1</th>\n",
       "      <td>0</td>\n",
       "      <td>1.0</td>\n",
       "      <td>1</td>\n",
       "    </tr>\n",
       "    <tr>\n",
       "      <th>2</th>\n",
       "      <td>0</td>\n",
       "      <td>1.0</td>\n",
       "      <td>2</td>\n",
       "    </tr>\n",
       "    <tr>\n",
       "      <th>3</th>\n",
       "      <td>0</td>\n",
       "      <td>1.0</td>\n",
       "      <td>3</td>\n",
       "    </tr>\n",
       "    <tr>\n",
       "      <th>4</th>\n",
       "      <td>0</td>\n",
       "      <td>1.0</td>\n",
       "      <td>4</td>\n",
       "    </tr>\n",
       "    <tr>\n",
       "      <th>5</th>\n",
       "      <td>0</td>\n",
       "      <td>1.0</td>\n",
       "      <td>5</td>\n",
       "    </tr>\n",
       "    <tr>\n",
       "      <th>6</th>\n",
       "      <td>0</td>\n",
       "      <td>1.0</td>\n",
       "      <td>6</td>\n",
       "    </tr>\n",
       "    <tr>\n",
       "      <th>7</th>\n",
       "      <td>0</td>\n",
       "      <td>1.0</td>\n",
       "      <td>7</td>\n",
       "    </tr>\n",
       "    <tr>\n",
       "      <th>8</th>\n",
       "      <td>0</td>\n",
       "      <td>1.0</td>\n",
       "      <td>8</td>\n",
       "    </tr>\n",
       "    <tr>\n",
       "      <th>9</th>\n",
       "      <td>0</td>\n",
       "      <td>1.0</td>\n",
       "      <td>9</td>\n",
       "    </tr>\n",
       "  </tbody>\n",
       "</table>\n",
       "</div>"
      ],
      "text/plain": [
       "   id  rate  appid\n",
       "0   0   1.0      0\n",
       "1   0   1.0      1\n",
       "2   0   1.0      2\n",
       "3   0   1.0      3\n",
       "4   0   1.0      4\n",
       "5   0   1.0      5\n",
       "6   0   1.0      6\n",
       "7   0   1.0      7\n",
       "8   0   1.0      8\n",
       "9   0   1.0      9"
      ]
     },
     "execution_count": 27,
     "metadata": {},
     "output_type": "execute_result"
    }
   ],
   "source": [
    "pd.set_option('display.max_colwidth', 100)\n",
    "a.head(10)"
   ]
  },
  {
   "cell_type": "code",
   "execution_count": 15,
   "metadata": {},
   "outputs": [
    {
     "data": {
      "text/plain": [
       "1.0"
      ]
     },
     "execution_count": 15,
     "metadata": {},
     "output_type": "execute_result"
    }
   ],
   "source": [
    "a.shape[0]/float(game_reviews.shape[0])"
   ]
  },
  {
   "cell_type": "code",
   "execution_count": 45,
   "metadata": {},
   "outputs": [
    {
     "name": "stdout",
     "output_type": "stream",
     "text": [
      "         appid  \\\n",
      "0            0   \n",
      "1            1   \n",
      "2            2   \n",
      "3            3   \n",
      "4            4   \n",
      "5            5   \n",
      "6            6   \n",
      "7            7   \n",
      "8      no_data   \n",
      "9            8   \n",
      "10           9   \n",
      "11     no_data   \n",
      "12     no_data   \n",
      "13          10   \n",
      "14          11   \n",
      "15          12   \n",
      "16          13   \n",
      "17          14   \n",
      "18          15   \n",
      "19          16   \n",
      "20          17   \n",
      "21          18   \n",
      "22     no_data   \n",
      "23          19   \n",
      "24     no_data   \n",
      "25          20   \n",
      "26          21   \n",
      "27     no_data   \n",
      "28          22   \n",
      "29     no_data   \n",
      "...        ...   \n",
      "37635  no_data   \n",
      "37636  no_data   \n",
      "37637  no_data   \n",
      "37638  no_data   \n",
      "37639  no_data   \n",
      "37640  no_data   \n",
      "37641  no_data   \n",
      "37642  no_data   \n",
      "37643  no_data   \n",
      "37644  no_data   \n",
      "37645  no_data   \n",
      "37646  no_data   \n",
      "37647  no_data   \n",
      "37648  no_data   \n",
      "37649    18846   \n",
      "37650  no_data   \n",
      "37651  no_data   \n",
      "37652  no_data   \n",
      "37653  no_data   \n",
      "37654  no_data   \n",
      "37655  no_data   \n",
      "37656  no_data   \n",
      "37657  no_data   \n",
      "37658  no_data   \n",
      "37659  no_data   \n",
      "37660  no_data   \n",
      "37661  no_data   \n",
      "37662  no_data   \n",
      "37663  no_data   \n",
      "37664  no_data   \n",
      "\n",
      "                                                                            appname  \\\n",
      "0                                                                    Counter-Strike   \n",
      "1                                                             Team Fortress Classic   \n",
      "2                                                                     Day of Defeat   \n",
      "3                                                                Deathmatch Classic   \n",
      "4                                                         Half-Life: Opposing Force   \n",
      "5                                                                          Ricochet   \n",
      "6                                                                         Half-Life   \n",
      "7                                                    Counter-Strike: Condition Zero   \n",
      "8                                                                   Codename Gordon   \n",
      "9                                                    Counter-Strike: Condition Zero   \n",
      "10                                                            Half-Life: Blue Shift   \n",
      "11                                                              Counter-Strike Beta   \n",
      "12                                                                Half-Life 2: Demo   \n",
      "13                                                                      Half-Life 2   \n",
      "14                                                           Counter-Strike: Source   \n",
      "15                                                                Half-Life: Source   \n",
      "16                                                            Day of Defeat: Source   \n",
      "17                                                          Half-Life 2: Deathmatch   \n",
      "18                                                          Half-Life 2: Lost Coast   \n",
      "19                                                     Half-Life Deathmatch: Source   \n",
      "20                                                         Half-Life 2: Episode One   \n",
      "21                                                                           Portal   \n",
      "22                                                              Portal: First Slice   \n",
      "23                                                         Half-Life 2: Episode Two   \n",
      "24                                                                  Team Fortress 2   \n",
      "25                                                                      Left 4 Dead   \n",
      "26                                                                    Left 4 Dead 2   \n",
      "27                                                                           Dota 2   \n",
      "28                                                                         Portal 2   \n",
      "29                                                                      Alien Swarm   \n",
      "...                                                                             ...   \n",
      "37635                                                                      Bomb Bay   \n",
      "37636                                                               Adam Waste Demo   \n",
      "37637                                         Achievement Clicker 2018 - Soundtrack   \n",
      "37638                                               !4RC4N01D! - Bronze Levels Pack   \n",
      "37639                                                       Loot Box Simulator 20!8   \n",
      "37640                                                             Bloody Skyscraper   \n",
      "37641                                                                       Squares   \n",
      "37642                         Fantasy Grounds - D&D DDIA-XGE Underworld Speculation   \n",
      "37643  Fantasy Grounds - Xenomorphs: The Fall of Somerset Landing (W.O.I.N. N.E.W.)   \n",
      "37644                                                      Dead Ground - Soundtrack   \n",
      "37645                                                                       SOK MAX   \n",
      "37646                                                      The Adventures of Kusoge   \n",
      "37647                                                             Choices, The Game   \n",
      "37648                                                                     TheLooppy   \n",
      "37649                                                            Fable of the Sword   \n",
      "37650                                                               YBit Soundtrack   \n",
      "37651                                                                   Mini Knight   \n",
      "37652                                                                        Dinoku   \n",
      "37653                                                     Flying Bacon - Soundtrack   \n",
      "37654                                                                      Neonwall   \n",
      "37655                                               Global Soccer Manager 2017 Demo   \n",
      "37656                                                 Loot Box Simulator 20!8 - OST   \n",
      "37657                                               Rivals of Aether: Ragnir Maypul   \n",
      "37658                                                Full Metal Furies - Soundtrack   \n",
      "37659                                   Super Army of Tentacles 3: QUEST COLLECTION   \n",
      "37660                                                                Parabolus Demo   \n",
      "37661                                                             Balls and Magnets   \n",
      "37662                                                        Viki Spotter: The Farm   \n",
      "37663                                                          TcNo TimeKeeper Demo   \n",
      "37664                                                     MAR WAR: The Evil Awakens   \n",
      "\n",
      "                  genres  \n",
      "0                     1/  \n",
      "1                     1/  \n",
      "2                     1/  \n",
      "3                     1/  \n",
      "4                     1/  \n",
      "5                     1/  \n",
      "6                     1/  \n",
      "7                     1/  \n",
      "8                    23/  \n",
      "9                     1/  \n",
      "10                    1/  \n",
      "11                    1/  \n",
      "12                    1/  \n",
      "13                    1/  \n",
      "14                    1/  \n",
      "15                    1/  \n",
      "16                    1/  \n",
      "17                    1/  \n",
      "18                    1/  \n",
      "19                    1/  \n",
      "20                    1/  \n",
      "21                    1/  \n",
      "22                    1/  \n",
      "23                    1/  \n",
      "24                 1/37/  \n",
      "25                    1/  \n",
      "26                    1/  \n",
      "27               1/37/2/  \n",
      "28                 1/25/  \n",
      "29                    1/  \n",
      "...                  ...  \n",
      "37635      73/1/4/23/70/  \n",
      "37636           1/25/23/  \n",
      "37637         4/23/28/2/  \n",
      "37638              4/23/  \n",
      "37639           4/23/28/  \n",
      "37640         1/25/4/23/  \n",
      "37641              4/23/  \n",
      "37642            23/3/2/  \n",
      "37643            23/3/2/  \n",
      "37644          1/23/3/2/  \n",
      "37645                 4/  \n",
      "37646              71/3/  \n",
      "37647            4/3/70/  \n",
      "37648             25/23/  \n",
      "37649           25/23/3/  \n",
      "37650             25/23/  \n",
      "37651            1/4/23/  \n",
      "37652              4/23/  \n",
      "37653           4/23/28/  \n",
      "37654            1/23/2/  \n",
      "37655      4/23/28/18/2/  \n",
      "37656           4/23/28/  \n",
      "37657                23/  \n",
      "37658         1/25/23/3/  \n",
      "37659           25/23/3/  \n",
      "37660              1/23/  \n",
      "37661              4/23/  \n",
      "37662              4/23/  \n",
      "37663                58/  \n",
      "37664  1/25/4/23/3/28/2/  \n",
      "\n",
      "[37665 rows x 3 columns]\n"
     ]
    }
   ],
   "source": [
    "# Game metadata\n",
    "all_info = pd.read_csv('metadata.csv', sep=',')\n",
    "all_info['appname'] = all_info['appname']\n",
    "all_info['genres'] = all_info['genres'].fillna('no_data')\n",
    "\n",
    "\n",
    "# Remap\n",
    "# all_info['appid'] = all_info['id'].astype(str).map(inverse_game_map)\n",
    "\n",
    "all_info['appid'] = all_info['appid'].astype(int).map(inverse_game_map).fillna('no_data') # remap\n",
    "\n",
    "print (all_info)\n",
    "\n",
    "\n",
    "# # # Add count\n",
    "# games_nb[\"old_id\"] = games_nb[\"old_id\"].astype(int).values\n",
    "# all_info =  pd.merge(all_info,games_nb,how='left',left_on='appid',right_on='old_id')\n",
    "\n",
    "# print (all_info)\n",
    "# a = all_info.dropna()[['appid','appname', 'nb_lines']]\n",
    "# # all_info.dropna().sample(10)[['appid','appname','rate','nb_lines']]\n",
    "# pd.set_option('display.max_colwidth', 100)\n",
    "# a.head(10)"
   ]
  }
 ],
 "metadata": {
  "kernelspec": {
   "display_name": "Python 3",
   "language": "python",
   "name": "python3"
  },
  "language_info": {
   "codemirror_mode": {
    "name": "ipython",
    "version": 3
   },
   "file_extension": ".py",
   "mimetype": "text/x-python",
   "name": "python",
   "nbconvert_exporter": "python",
   "pygments_lexer": "ipython3",
   "version": "3.6.3"
  }
 },
 "nbformat": 4,
 "nbformat_minor": 2
}
