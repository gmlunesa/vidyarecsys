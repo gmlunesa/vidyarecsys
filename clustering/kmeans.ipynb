{
 "cells": [
  {
   "cell_type": "code",
   "execution_count": 27,
   "metadata": {},
   "outputs": [
    {
     "name": "stdout",
     "output_type": "stream",
     "text": [
      "               action     strategy          rpg        indie    adventure  \\\n",
      "clusters                                                                    \n",
      "0           78.892205    25.935692    25.739586    38.999881    33.973141   \n",
      "1            9.981570     1.146388     1.280442     1.672279     1.657157   \n",
      "2          457.508459   195.029979   172.852478   453.640546   297.953992   \n",
      "3          405.535032   194.242038   185.159236   489.707006   261.643312   \n",
      "4         3114.183673  1328.081633  1055.959184  4329.469388  2416.367347   \n",
      "5         1215.681159   511.930435   437.156522  1459.666667   898.342029   \n",
      "6          209.865717    86.619322    79.053406   154.979139   114.384440   \n",
      "\n",
      "              sports  simulation         mmo        free       casual  \n",
      "clusters                                                               \n",
      "0           2.606434   15.324202    6.507741   10.198828     9.788783  \n",
      "1           0.161171    0.745859    0.515402    0.843512     0.464935  \n",
      "2          19.942119  107.269813   14.368359   27.230929   150.015435  \n",
      "3          31.796178  117.598726  128.089172  403.114650   227.171975  \n",
      "4         204.734694  906.673469  149.040816  354.918367  1951.204082  \n",
      "5          60.724638  295.037681   30.852174   65.379710   563.000000  \n",
      "6           7.553947   46.762154    9.880137   16.804902    42.100997  \n"
     ]
    }
   ],
   "source": [
    "import pandas as pd\n",
    "from scipy import stats\n",
    "from sklearn.cluster import KMeans\n",
    "import matplotlib.pyplot as plt\n",
    "import numpy as np\n",
    "import seaborn as sns\n",
    "\n",
    "df = pd.read_csv('matrixdata.csv',\n",
    "                    index_col = 0)\n",
    "\n",
    "# Make a copy of the data frame\n",
    "df_tr = df\n",
    "\n",
    "# Standardize data with Z-score\n",
    "clmns = ['action', 'strategy','rpg', 'indie', 'adventure', 'sports', 'simulation', 'mmo', 'free', 'casual']\n",
    "df_tr_std = stats.zscore(df_tr[clmns])\n",
    "\n",
    "# Cluster the data\n",
    "kmeans = KMeans(n_clusters=7, random_state=0).fit(df_tr_std)\n",
    "labels = kmeans.labels_\n",
    "\n",
    "# Insert respective clusters to the original data\n",
    "df_tr['clusters'] = labels\n",
    "\n",
    "# Add the cluster column\n",
    "clmns.extend(['clusters'])\n",
    "\n",
    "# Cluster analysis\n",
    "print (df_tr[clmns].groupby(['clusters']).mean())\n",
    "\n",
    "# Write dataframe to file\n",
    "df_tr.to_csv('out.csv')"
   ]
  },
  {
   "cell_type": "code",
   "execution_count": 24,
   "metadata": {},
   "outputs": [
    {
     "name": "stdout",
     "output_type": "stream",
     "text": [
      "Counter({0: 632209, 6: 75517, 7: 29756, 10: 11478, 5: 7776, 1: 4194, 11: 1089, 4: 287, 3: 145, 2: 52, 9: 23, 8: 17})\n"
     ]
    }
   ],
   "source": [
    "import collections\n",
    "\n",
    "arr = df_tr.as_matrix(columns = df_tr.columns[10:])\n",
    "arr = arr.ravel()\n",
    "\n",
    "counter = collections.Counter(arr)\n",
    "\n",
    "print(counter)\n",
    "\n",
    "# plt.hist(arr, bins = 7)\n",
    "# plt.show()\n"
   ]
  },
  {
   "cell_type": "code",
   "execution_count": 25,
   "metadata": {},
   "outputs": [],
   "source": [
    "# # Just plotting some stuff out\n",
    "# sns.lmplot('action', 'strategy', \n",
    "#            data=df_tr, \n",
    "#            fit_reg=False, \n",
    "#            hue=\"clusters\",  \n",
    "#            scatter_kws={\"marker\": \"D\", \n",
    "#                         \"s\": 100})\n",
    "# plt.title('Clusters Action vs Strategy')\n",
    "# plt.xlabel('Action')\n",
    "# plt.ylabel('Strategy')\n",
    "\n",
    "# plt.show()\n",
    "\n",
    "# sns.lmplot('action', 'rpg', \n",
    "#            data=df_tr, \n",
    "#            fit_reg=False, \n",
    "#            hue=\"clusters\",  \n",
    "#            scatter_kws={\"marker\": \"D\", \n",
    "#                         \"s\": 100})\n",
    "# plt.title('Clusters Action vs RPG')\n",
    "# plt.xlabel('Action')\n",
    "# plt.ylabel('RPG')\n",
    "\n",
    "# plt.show()\n",
    "\n",
    "# sns.lmplot('action', 'indie', \n",
    "#            data=df_tr, \n",
    "#            fit_reg=False, \n",
    "#            hue=\"clusters\",  \n",
    "#            scatter_kws={\"marker\": \"D\", \n",
    "#                         \"s\": 100})\n",
    "# plt.title('Clusters Action vs Indie')\n",
    "# plt.xlabel('Action')\n",
    "# plt.ylabel('Indie')\n",
    "\n",
    "# plt.show()"
   ]
  }
 ],
 "metadata": {
  "kernelspec": {
   "display_name": "Python 3",
   "language": "python",
   "name": "python3"
  },
  "language_info": {
   "codemirror_mode": {
    "name": "ipython",
    "version": 3
   },
   "file_extension": ".py",
   "mimetype": "text/x-python",
   "name": "python",
   "nbconvert_exporter": "python",
   "pygments_lexer": "ipython3",
   "version": "3.6.2"
  }
 },
 "nbformat": 4,
 "nbformat_minor": 2
}
